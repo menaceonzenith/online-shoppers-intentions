{
 "cells": [
  {
   "cell_type": "code",
   "execution_count": 107,
   "metadata": {},
   "outputs": [],
   "source": [
    "import pandas as pd\n",
    "import numpy as np\n",
    "\n",
    "import matplotlib.pyplot as plt\n",
    "import seaborn as sns\n",
    "plt.style.use('ggplot')\n",
    "\n",
    "%matplotlib inline\n",
    "\n",
    "\n",
    "from sklearn.linear_model import LogisticRegression\n",
    "from sklearn.model_selection import train_test_split, cross_val_score, cross_validate, GridSearchCV\n",
    "from sklearn.metrics import precision_score, recall_score, accuracy_score, roc_auc_score, f1_score\n",
    "from sklearn.metrics import plot_confusion_matrix, plot_roc_curve, confusion_matrix\n",
    "from sklearn.preprocessing import StandardScaler"
   ]
  },
  {
   "cell_type": "markdown",
   "metadata": {},
   "source": [
    "# Data Cleaning"
   ]
  },
  {
   "cell_type": "code",
   "execution_count": 2,
   "metadata": {},
   "outputs": [],
   "source": [
    "online = pd.read_csv('online_shoppers_intention.csv')"
   ]
  },
  {
   "cell_type": "code",
   "execution_count": 3,
   "metadata": {},
   "outputs": [
    {
     "data": {
      "text/html": [
       "<div>\n",
       "<style scoped>\n",
       "    .dataframe tbody tr th:only-of-type {\n",
       "        vertical-align: middle;\n",
       "    }\n",
       "\n",
       "    .dataframe tbody tr th {\n",
       "        vertical-align: top;\n",
       "    }\n",
       "\n",
       "    .dataframe thead th {\n",
       "        text-align: right;\n",
       "    }\n",
       "</style>\n",
       "<table border=\"1\" class=\"dataframe\">\n",
       "  <thead>\n",
       "    <tr style=\"text-align: right;\">\n",
       "      <th></th>\n",
       "      <th>Administrative</th>\n",
       "      <th>Administrative_Duration</th>\n",
       "      <th>Informational</th>\n",
       "      <th>Informational_Duration</th>\n",
       "      <th>ProductRelated</th>\n",
       "      <th>ProductRelated_Duration</th>\n",
       "      <th>BounceRates</th>\n",
       "      <th>ExitRates</th>\n",
       "      <th>PageValues</th>\n",
       "      <th>SpecialDay</th>\n",
       "      <th>Month</th>\n",
       "      <th>OperatingSystems</th>\n",
       "      <th>Browser</th>\n",
       "      <th>Region</th>\n",
       "      <th>TrafficType</th>\n",
       "      <th>VisitorType</th>\n",
       "      <th>Weekend</th>\n",
       "      <th>Revenue</th>\n",
       "    </tr>\n",
       "  </thead>\n",
       "  <tbody>\n",
       "    <tr>\n",
       "      <th>0</th>\n",
       "      <td>0.0</td>\n",
       "      <td>0.0</td>\n",
       "      <td>0.0</td>\n",
       "      <td>0.0</td>\n",
       "      <td>1.0</td>\n",
       "      <td>0.000000</td>\n",
       "      <td>0.20</td>\n",
       "      <td>0.20</td>\n",
       "      <td>0.0</td>\n",
       "      <td>0.0</td>\n",
       "      <td>Feb</td>\n",
       "      <td>1</td>\n",
       "      <td>1</td>\n",
       "      <td>1</td>\n",
       "      <td>1</td>\n",
       "      <td>Returning_Visitor</td>\n",
       "      <td>False</td>\n",
       "      <td>False</td>\n",
       "    </tr>\n",
       "    <tr>\n",
       "      <th>1</th>\n",
       "      <td>0.0</td>\n",
       "      <td>0.0</td>\n",
       "      <td>0.0</td>\n",
       "      <td>0.0</td>\n",
       "      <td>2.0</td>\n",
       "      <td>64.000000</td>\n",
       "      <td>0.00</td>\n",
       "      <td>0.10</td>\n",
       "      <td>0.0</td>\n",
       "      <td>0.0</td>\n",
       "      <td>Feb</td>\n",
       "      <td>2</td>\n",
       "      <td>2</td>\n",
       "      <td>1</td>\n",
       "      <td>2</td>\n",
       "      <td>Returning_Visitor</td>\n",
       "      <td>False</td>\n",
       "      <td>False</td>\n",
       "    </tr>\n",
       "    <tr>\n",
       "      <th>2</th>\n",
       "      <td>0.0</td>\n",
       "      <td>-1.0</td>\n",
       "      <td>0.0</td>\n",
       "      <td>-1.0</td>\n",
       "      <td>1.0</td>\n",
       "      <td>-1.000000</td>\n",
       "      <td>0.20</td>\n",
       "      <td>0.20</td>\n",
       "      <td>0.0</td>\n",
       "      <td>0.0</td>\n",
       "      <td>Feb</td>\n",
       "      <td>4</td>\n",
       "      <td>1</td>\n",
       "      <td>9</td>\n",
       "      <td>3</td>\n",
       "      <td>Returning_Visitor</td>\n",
       "      <td>False</td>\n",
       "      <td>False</td>\n",
       "    </tr>\n",
       "    <tr>\n",
       "      <th>3</th>\n",
       "      <td>0.0</td>\n",
       "      <td>0.0</td>\n",
       "      <td>0.0</td>\n",
       "      <td>0.0</td>\n",
       "      <td>2.0</td>\n",
       "      <td>2.666667</td>\n",
       "      <td>0.05</td>\n",
       "      <td>0.14</td>\n",
       "      <td>0.0</td>\n",
       "      <td>0.0</td>\n",
       "      <td>Feb</td>\n",
       "      <td>3</td>\n",
       "      <td>2</td>\n",
       "      <td>2</td>\n",
       "      <td>4</td>\n",
       "      <td>Returning_Visitor</td>\n",
       "      <td>False</td>\n",
       "      <td>False</td>\n",
       "    </tr>\n",
       "    <tr>\n",
       "      <th>4</th>\n",
       "      <td>0.0</td>\n",
       "      <td>0.0</td>\n",
       "      <td>0.0</td>\n",
       "      <td>0.0</td>\n",
       "      <td>10.0</td>\n",
       "      <td>627.500000</td>\n",
       "      <td>0.02</td>\n",
       "      <td>0.05</td>\n",
       "      <td>0.0</td>\n",
       "      <td>0.0</td>\n",
       "      <td>Feb</td>\n",
       "      <td>3</td>\n",
       "      <td>3</td>\n",
       "      <td>1</td>\n",
       "      <td>4</td>\n",
       "      <td>Returning_Visitor</td>\n",
       "      <td>True</td>\n",
       "      <td>False</td>\n",
       "    </tr>\n",
       "  </tbody>\n",
       "</table>\n",
       "</div>"
      ],
      "text/plain": [
       "   Administrative  Administrative_Duration  Informational  \\\n",
       "0             0.0                      0.0            0.0   \n",
       "1             0.0                      0.0            0.0   \n",
       "2             0.0                     -1.0            0.0   \n",
       "3             0.0                      0.0            0.0   \n",
       "4             0.0                      0.0            0.0   \n",
       "\n",
       "   Informational_Duration  ProductRelated  ProductRelated_Duration  \\\n",
       "0                     0.0             1.0                 0.000000   \n",
       "1                     0.0             2.0                64.000000   \n",
       "2                    -1.0             1.0                -1.000000   \n",
       "3                     0.0             2.0                 2.666667   \n",
       "4                     0.0            10.0               627.500000   \n",
       "\n",
       "   BounceRates  ExitRates  PageValues  SpecialDay Month  OperatingSystems  \\\n",
       "0         0.20       0.20         0.0         0.0   Feb                 1   \n",
       "1         0.00       0.10         0.0         0.0   Feb                 2   \n",
       "2         0.20       0.20         0.0         0.0   Feb                 4   \n",
       "3         0.05       0.14         0.0         0.0   Feb                 3   \n",
       "4         0.02       0.05         0.0         0.0   Feb                 3   \n",
       "\n",
       "   Browser  Region  TrafficType        VisitorType  Weekend  Revenue  \n",
       "0        1       1            1  Returning_Visitor    False    False  \n",
       "1        2       1            2  Returning_Visitor    False    False  \n",
       "2        1       9            3  Returning_Visitor    False    False  \n",
       "3        2       2            4  Returning_Visitor    False    False  \n",
       "4        3       1            4  Returning_Visitor     True    False  "
      ]
     },
     "execution_count": 3,
     "metadata": {},
     "output_type": "execute_result"
    }
   ],
   "source": [
    "online.head()"
   ]
  },
  {
   "cell_type": "markdown",
   "metadata": {},
   "source": [
    "There seems to be some negative values for some columns. Let's take a look at what those columns are and possible substitutions or removals if possible."
   ]
  },
  {
   "cell_type": "code",
   "execution_count": 4,
   "metadata": {},
   "outputs": [
    {
     "data": {
      "text/plain": [
       "array([  0.       ,  -1.       ,  53.       , ..., 167.9107143,\n",
       "       305.125    , 150.3571429])"
      ]
     },
     "execution_count": 4,
     "metadata": {},
     "output_type": "execute_result"
    }
   ],
   "source": [
    "online['Administrative_Duration'].unique()"
   ]
  },
  {
   "cell_type": "code",
   "execution_count": 5,
   "metadata": {},
   "outputs": [
    {
     "data": {
      "text/plain": [
       "33"
      ]
     },
     "execution_count": 5,
     "metadata": {},
     "output_type": "execute_result"
    }
   ],
   "source": [
    "len(online[online['Administrative_Duration'] == -1])"
   ]
  },
  {
   "cell_type": "code",
   "execution_count": 6,
   "metadata": {},
   "outputs": [
    {
     "data": {
      "text/plain": [
       "33"
      ]
     },
     "execution_count": 6,
     "metadata": {},
     "output_type": "execute_result"
    }
   ],
   "source": [
    "len(online[online['Informational_Duration'] == -1])"
   ]
  },
  {
   "cell_type": "code",
   "execution_count": 7,
   "metadata": {},
   "outputs": [
    {
     "data": {
      "text/plain": [
       "33"
      ]
     },
     "execution_count": 7,
     "metadata": {},
     "output_type": "execute_result"
    }
   ],
   "source": [
    "len(online[online['ProductRelated_Duration'] == -1])"
   ]
  },
  {
   "cell_type": "markdown",
   "metadata": {},
   "source": [
    "What is administrative duration?\n",
    "\n",
    "- It is the total amount of time (in seconds) spent by the vistor on account management related pages.\n",
    "\n",
    "What is informational duration?\n",
    "\n",
    "- It is the total amount of time (in seconds) spent by the visitor on informational pages.\n",
    "\n",
    "What is product related duration?\n",
    "\n",
    "- It is the total amount of time (in seconds) spent on product related pages.\n",
    "\n",
    "Due to only 33 observations with strange, negative values for duration of time, we can go ahead and remove them from our dataframe.\n"
   ]
  },
  {
   "cell_type": "code",
   "execution_count": 8,
   "metadata": {},
   "outputs": [],
   "source": [
    "online = online[online['Administrative_Duration'] != -1]"
   ]
  },
  {
   "cell_type": "code",
   "execution_count": 9,
   "metadata": {},
   "outputs": [
    {
     "data": {
      "text/html": [
       "<div>\n",
       "<style scoped>\n",
       "    .dataframe tbody tr th:only-of-type {\n",
       "        vertical-align: middle;\n",
       "    }\n",
       "\n",
       "    .dataframe tbody tr th {\n",
       "        vertical-align: top;\n",
       "    }\n",
       "\n",
       "    .dataframe thead th {\n",
       "        text-align: right;\n",
       "    }\n",
       "</style>\n",
       "<table border=\"1\" class=\"dataframe\">\n",
       "  <thead>\n",
       "    <tr style=\"text-align: right;\">\n",
       "      <th></th>\n",
       "      <th>Administrative</th>\n",
       "      <th>Administrative_Duration</th>\n",
       "      <th>Informational</th>\n",
       "      <th>Informational_Duration</th>\n",
       "      <th>ProductRelated</th>\n",
       "      <th>ProductRelated_Duration</th>\n",
       "      <th>BounceRates</th>\n",
       "      <th>ExitRates</th>\n",
       "      <th>PageValues</th>\n",
       "      <th>SpecialDay</th>\n",
       "      <th>Month</th>\n",
       "      <th>OperatingSystems</th>\n",
       "      <th>Browser</th>\n",
       "      <th>Region</th>\n",
       "      <th>TrafficType</th>\n",
       "      <th>VisitorType</th>\n",
       "      <th>Weekend</th>\n",
       "      <th>Revenue</th>\n",
       "    </tr>\n",
       "  </thead>\n",
       "  <tbody>\n",
       "    <tr>\n",
       "      <th>0</th>\n",
       "      <td>0.0</td>\n",
       "      <td>0.0</td>\n",
       "      <td>0.0</td>\n",
       "      <td>0.0</td>\n",
       "      <td>1.0</td>\n",
       "      <td>0.000000</td>\n",
       "      <td>0.200000</td>\n",
       "      <td>0.200000</td>\n",
       "      <td>0.000000</td>\n",
       "      <td>0.0</td>\n",
       "      <td>Feb</td>\n",
       "      <td>1</td>\n",
       "      <td>1</td>\n",
       "      <td>1</td>\n",
       "      <td>1</td>\n",
       "      <td>Returning_Visitor</td>\n",
       "      <td>False</td>\n",
       "      <td>False</td>\n",
       "    </tr>\n",
       "    <tr>\n",
       "      <th>1</th>\n",
       "      <td>0.0</td>\n",
       "      <td>0.0</td>\n",
       "      <td>0.0</td>\n",
       "      <td>0.0</td>\n",
       "      <td>2.0</td>\n",
       "      <td>64.000000</td>\n",
       "      <td>0.000000</td>\n",
       "      <td>0.100000</td>\n",
       "      <td>0.000000</td>\n",
       "      <td>0.0</td>\n",
       "      <td>Feb</td>\n",
       "      <td>2</td>\n",
       "      <td>2</td>\n",
       "      <td>1</td>\n",
       "      <td>2</td>\n",
       "      <td>Returning_Visitor</td>\n",
       "      <td>False</td>\n",
       "      <td>False</td>\n",
       "    </tr>\n",
       "    <tr>\n",
       "      <th>3</th>\n",
       "      <td>0.0</td>\n",
       "      <td>0.0</td>\n",
       "      <td>0.0</td>\n",
       "      <td>0.0</td>\n",
       "      <td>2.0</td>\n",
       "      <td>2.666667</td>\n",
       "      <td>0.050000</td>\n",
       "      <td>0.140000</td>\n",
       "      <td>0.000000</td>\n",
       "      <td>0.0</td>\n",
       "      <td>Feb</td>\n",
       "      <td>3</td>\n",
       "      <td>2</td>\n",
       "      <td>2</td>\n",
       "      <td>4</td>\n",
       "      <td>Returning_Visitor</td>\n",
       "      <td>False</td>\n",
       "      <td>False</td>\n",
       "    </tr>\n",
       "    <tr>\n",
       "      <th>4</th>\n",
       "      <td>0.0</td>\n",
       "      <td>0.0</td>\n",
       "      <td>0.0</td>\n",
       "      <td>0.0</td>\n",
       "      <td>10.0</td>\n",
       "      <td>627.500000</td>\n",
       "      <td>0.020000</td>\n",
       "      <td>0.050000</td>\n",
       "      <td>0.000000</td>\n",
       "      <td>0.0</td>\n",
       "      <td>Feb</td>\n",
       "      <td>3</td>\n",
       "      <td>3</td>\n",
       "      <td>1</td>\n",
       "      <td>4</td>\n",
       "      <td>Returning_Visitor</td>\n",
       "      <td>True</td>\n",
       "      <td>False</td>\n",
       "    </tr>\n",
       "    <tr>\n",
       "      <th>5</th>\n",
       "      <td>0.0</td>\n",
       "      <td>0.0</td>\n",
       "      <td>0.0</td>\n",
       "      <td>0.0</td>\n",
       "      <td>19.0</td>\n",
       "      <td>154.216667</td>\n",
       "      <td>0.015789</td>\n",
       "      <td>0.024561</td>\n",
       "      <td>0.000000</td>\n",
       "      <td>0.0</td>\n",
       "      <td>Feb</td>\n",
       "      <td>2</td>\n",
       "      <td>2</td>\n",
       "      <td>1</td>\n",
       "      <td>3</td>\n",
       "      <td>Returning_Visitor</td>\n",
       "      <td>False</td>\n",
       "      <td>False</td>\n",
       "    </tr>\n",
       "    <tr>\n",
       "      <th>...</th>\n",
       "      <td>...</td>\n",
       "      <td>...</td>\n",
       "      <td>...</td>\n",
       "      <td>...</td>\n",
       "      <td>...</td>\n",
       "      <td>...</td>\n",
       "      <td>...</td>\n",
       "      <td>...</td>\n",
       "      <td>...</td>\n",
       "      <td>...</td>\n",
       "      <td>...</td>\n",
       "      <td>...</td>\n",
       "      <td>...</td>\n",
       "      <td>...</td>\n",
       "      <td>...</td>\n",
       "      <td>...</td>\n",
       "      <td>...</td>\n",
       "      <td>...</td>\n",
       "    </tr>\n",
       "    <tr>\n",
       "      <th>12325</th>\n",
       "      <td>3.0</td>\n",
       "      <td>145.0</td>\n",
       "      <td>0.0</td>\n",
       "      <td>0.0</td>\n",
       "      <td>53.0</td>\n",
       "      <td>1783.791667</td>\n",
       "      <td>0.007143</td>\n",
       "      <td>0.029031</td>\n",
       "      <td>12.241717</td>\n",
       "      <td>0.0</td>\n",
       "      <td>Dec</td>\n",
       "      <td>4</td>\n",
       "      <td>6</td>\n",
       "      <td>1</td>\n",
       "      <td>1</td>\n",
       "      <td>Returning_Visitor</td>\n",
       "      <td>True</td>\n",
       "      <td>False</td>\n",
       "    </tr>\n",
       "    <tr>\n",
       "      <th>12326</th>\n",
       "      <td>0.0</td>\n",
       "      <td>0.0</td>\n",
       "      <td>0.0</td>\n",
       "      <td>0.0</td>\n",
       "      <td>5.0</td>\n",
       "      <td>465.750000</td>\n",
       "      <td>0.000000</td>\n",
       "      <td>0.021333</td>\n",
       "      <td>0.000000</td>\n",
       "      <td>0.0</td>\n",
       "      <td>Nov</td>\n",
       "      <td>3</td>\n",
       "      <td>2</td>\n",
       "      <td>1</td>\n",
       "      <td>8</td>\n",
       "      <td>Returning_Visitor</td>\n",
       "      <td>True</td>\n",
       "      <td>False</td>\n",
       "    </tr>\n",
       "    <tr>\n",
       "      <th>12327</th>\n",
       "      <td>0.0</td>\n",
       "      <td>0.0</td>\n",
       "      <td>0.0</td>\n",
       "      <td>0.0</td>\n",
       "      <td>6.0</td>\n",
       "      <td>184.250000</td>\n",
       "      <td>0.083333</td>\n",
       "      <td>0.086667</td>\n",
       "      <td>0.000000</td>\n",
       "      <td>0.0</td>\n",
       "      <td>Nov</td>\n",
       "      <td>3</td>\n",
       "      <td>2</td>\n",
       "      <td>1</td>\n",
       "      <td>13</td>\n",
       "      <td>Returning_Visitor</td>\n",
       "      <td>True</td>\n",
       "      <td>False</td>\n",
       "    </tr>\n",
       "    <tr>\n",
       "      <th>12328</th>\n",
       "      <td>4.0</td>\n",
       "      <td>75.0</td>\n",
       "      <td>0.0</td>\n",
       "      <td>0.0</td>\n",
       "      <td>15.0</td>\n",
       "      <td>346.000000</td>\n",
       "      <td>0.000000</td>\n",
       "      <td>0.021053</td>\n",
       "      <td>0.000000</td>\n",
       "      <td>0.0</td>\n",
       "      <td>Nov</td>\n",
       "      <td>2</td>\n",
       "      <td>2</td>\n",
       "      <td>3</td>\n",
       "      <td>11</td>\n",
       "      <td>Returning_Visitor</td>\n",
       "      <td>False</td>\n",
       "      <td>False</td>\n",
       "    </tr>\n",
       "    <tr>\n",
       "      <th>12329</th>\n",
       "      <td>0.0</td>\n",
       "      <td>0.0</td>\n",
       "      <td>0.0</td>\n",
       "      <td>0.0</td>\n",
       "      <td>3.0</td>\n",
       "      <td>21.250000</td>\n",
       "      <td>0.000000</td>\n",
       "      <td>0.066667</td>\n",
       "      <td>0.000000</td>\n",
       "      <td>0.0</td>\n",
       "      <td>Nov</td>\n",
       "      <td>3</td>\n",
       "      <td>2</td>\n",
       "      <td>1</td>\n",
       "      <td>2</td>\n",
       "      <td>New_Visitor</td>\n",
       "      <td>True</td>\n",
       "      <td>False</td>\n",
       "    </tr>\n",
       "  </tbody>\n",
       "</table>\n",
       "<p>12297 rows × 18 columns</p>\n",
       "</div>"
      ],
      "text/plain": [
       "       Administrative  Administrative_Duration  Informational  \\\n",
       "0                 0.0                      0.0            0.0   \n",
       "1                 0.0                      0.0            0.0   \n",
       "3                 0.0                      0.0            0.0   \n",
       "4                 0.0                      0.0            0.0   \n",
       "5                 0.0                      0.0            0.0   \n",
       "...               ...                      ...            ...   \n",
       "12325             3.0                    145.0            0.0   \n",
       "12326             0.0                      0.0            0.0   \n",
       "12327             0.0                      0.0            0.0   \n",
       "12328             4.0                     75.0            0.0   \n",
       "12329             0.0                      0.0            0.0   \n",
       "\n",
       "       Informational_Duration  ProductRelated  ProductRelated_Duration  \\\n",
       "0                         0.0             1.0                 0.000000   \n",
       "1                         0.0             2.0                64.000000   \n",
       "3                         0.0             2.0                 2.666667   \n",
       "4                         0.0            10.0               627.500000   \n",
       "5                         0.0            19.0               154.216667   \n",
       "...                       ...             ...                      ...   \n",
       "12325                     0.0            53.0              1783.791667   \n",
       "12326                     0.0             5.0               465.750000   \n",
       "12327                     0.0             6.0               184.250000   \n",
       "12328                     0.0            15.0               346.000000   \n",
       "12329                     0.0             3.0                21.250000   \n",
       "\n",
       "       BounceRates  ExitRates  PageValues  SpecialDay Month  OperatingSystems  \\\n",
       "0         0.200000   0.200000    0.000000         0.0   Feb                 1   \n",
       "1         0.000000   0.100000    0.000000         0.0   Feb                 2   \n",
       "3         0.050000   0.140000    0.000000         0.0   Feb                 3   \n",
       "4         0.020000   0.050000    0.000000         0.0   Feb                 3   \n",
       "5         0.015789   0.024561    0.000000         0.0   Feb                 2   \n",
       "...            ...        ...         ...         ...   ...               ...   \n",
       "12325     0.007143   0.029031   12.241717         0.0   Dec                 4   \n",
       "12326     0.000000   0.021333    0.000000         0.0   Nov                 3   \n",
       "12327     0.083333   0.086667    0.000000         0.0   Nov                 3   \n",
       "12328     0.000000   0.021053    0.000000         0.0   Nov                 2   \n",
       "12329     0.000000   0.066667    0.000000         0.0   Nov                 3   \n",
       "\n",
       "       Browser  Region  TrafficType        VisitorType  Weekend  Revenue  \n",
       "0            1       1            1  Returning_Visitor    False    False  \n",
       "1            2       1            2  Returning_Visitor    False    False  \n",
       "3            2       2            4  Returning_Visitor    False    False  \n",
       "4            3       1            4  Returning_Visitor     True    False  \n",
       "5            2       1            3  Returning_Visitor    False    False  \n",
       "...        ...     ...          ...                ...      ...      ...  \n",
       "12325        6       1            1  Returning_Visitor     True    False  \n",
       "12326        2       1            8  Returning_Visitor     True    False  \n",
       "12327        2       1           13  Returning_Visitor     True    False  \n",
       "12328        2       3           11  Returning_Visitor    False    False  \n",
       "12329        2       1            2        New_Visitor     True    False  \n",
       "\n",
       "[12297 rows x 18 columns]"
      ]
     },
     "execution_count": 9,
     "metadata": {},
     "output_type": "execute_result"
    }
   ],
   "source": [
    "online"
   ]
  },
  {
   "cell_type": "markdown",
   "metadata": {},
   "source": [
    "Let's also see if there are null values within the dataset."
   ]
  },
  {
   "cell_type": "code",
   "execution_count": 10,
   "metadata": {},
   "outputs": [
    {
     "data": {
      "text/plain": [
       "Administrative             14\n",
       "Administrative_Duration    14\n",
       "Informational              14\n",
       "Informational_Duration     14\n",
       "ProductRelated             14\n",
       "ProductRelated_Duration    14\n",
       "BounceRates                14\n",
       "ExitRates                  14\n",
       "PageValues                  0\n",
       "SpecialDay                  0\n",
       "Month                       0\n",
       "OperatingSystems            0\n",
       "Browser                     0\n",
       "Region                      0\n",
       "TrafficType                 0\n",
       "VisitorType                 0\n",
       "Weekend                     0\n",
       "Revenue                     0\n",
       "dtype: int64"
      ]
     },
     "execution_count": 10,
     "metadata": {},
     "output_type": "execute_result"
    }
   ],
   "source": [
    "online.isnull().sum()"
   ]
  },
  {
   "cell_type": "code",
   "execution_count": 11,
   "metadata": {},
   "outputs": [
    {
     "data": {
      "text/html": [
       "<div>\n",
       "<style scoped>\n",
       "    .dataframe tbody tr th:only-of-type {\n",
       "        vertical-align: middle;\n",
       "    }\n",
       "\n",
       "    .dataframe tbody tr th {\n",
       "        vertical-align: top;\n",
       "    }\n",
       "\n",
       "    .dataframe thead th {\n",
       "        text-align: right;\n",
       "    }\n",
       "</style>\n",
       "<table border=\"1\" class=\"dataframe\">\n",
       "  <thead>\n",
       "    <tr style=\"text-align: right;\">\n",
       "      <th></th>\n",
       "      <th>Administrative</th>\n",
       "      <th>Administrative_Duration</th>\n",
       "      <th>Informational</th>\n",
       "      <th>Informational_Duration</th>\n",
       "      <th>ProductRelated</th>\n",
       "      <th>ProductRelated_Duration</th>\n",
       "      <th>BounceRates</th>\n",
       "      <th>ExitRates</th>\n",
       "      <th>PageValues</th>\n",
       "      <th>SpecialDay</th>\n",
       "      <th>Month</th>\n",
       "      <th>OperatingSystems</th>\n",
       "      <th>Browser</th>\n",
       "      <th>Region</th>\n",
       "      <th>TrafficType</th>\n",
       "      <th>VisitorType</th>\n",
       "      <th>Weekend</th>\n",
       "      <th>Revenue</th>\n",
       "    </tr>\n",
       "  </thead>\n",
       "  <tbody>\n",
       "    <tr>\n",
       "      <th>1065</th>\n",
       "      <td>NaN</td>\n",
       "      <td>NaN</td>\n",
       "      <td>NaN</td>\n",
       "      <td>NaN</td>\n",
       "      <td>NaN</td>\n",
       "      <td>NaN</td>\n",
       "      <td>NaN</td>\n",
       "      <td>NaN</td>\n",
       "      <td>0.0</td>\n",
       "      <td>0.0</td>\n",
       "      <td>Mar</td>\n",
       "      <td>2</td>\n",
       "      <td>2</td>\n",
       "      <td>2</td>\n",
       "      <td>1</td>\n",
       "      <td>Returning_Visitor</td>\n",
       "      <td>False</td>\n",
       "      <td>False</td>\n",
       "    </tr>\n",
       "    <tr>\n",
       "      <th>1132</th>\n",
       "      <td>NaN</td>\n",
       "      <td>NaN</td>\n",
       "      <td>NaN</td>\n",
       "      <td>NaN</td>\n",
       "      <td>NaN</td>\n",
       "      <td>NaN</td>\n",
       "      <td>NaN</td>\n",
       "      <td>NaN</td>\n",
       "      <td>0.0</td>\n",
       "      <td>0.0</td>\n",
       "      <td>Mar</td>\n",
       "      <td>1</td>\n",
       "      <td>1</td>\n",
       "      <td>1</td>\n",
       "      <td>2</td>\n",
       "      <td>Returning_Visitor</td>\n",
       "      <td>False</td>\n",
       "      <td>False</td>\n",
       "    </tr>\n",
       "    <tr>\n",
       "      <th>1133</th>\n",
       "      <td>NaN</td>\n",
       "      <td>NaN</td>\n",
       "      <td>NaN</td>\n",
       "      <td>NaN</td>\n",
       "      <td>NaN</td>\n",
       "      <td>NaN</td>\n",
       "      <td>NaN</td>\n",
       "      <td>NaN</td>\n",
       "      <td>0.0</td>\n",
       "      <td>0.0</td>\n",
       "      <td>Mar</td>\n",
       "      <td>2</td>\n",
       "      <td>4</td>\n",
       "      <td>5</td>\n",
       "      <td>1</td>\n",
       "      <td>Returning_Visitor</td>\n",
       "      <td>False</td>\n",
       "      <td>False</td>\n",
       "    </tr>\n",
       "    <tr>\n",
       "      <th>1134</th>\n",
       "      <td>NaN</td>\n",
       "      <td>NaN</td>\n",
       "      <td>NaN</td>\n",
       "      <td>NaN</td>\n",
       "      <td>NaN</td>\n",
       "      <td>NaN</td>\n",
       "      <td>NaN</td>\n",
       "      <td>NaN</td>\n",
       "      <td>0.0</td>\n",
       "      <td>0.0</td>\n",
       "      <td>Mar</td>\n",
       "      <td>2</td>\n",
       "      <td>2</td>\n",
       "      <td>1</td>\n",
       "      <td>2</td>\n",
       "      <td>Returning_Visitor</td>\n",
       "      <td>False</td>\n",
       "      <td>False</td>\n",
       "    </tr>\n",
       "    <tr>\n",
       "      <th>1135</th>\n",
       "      <td>NaN</td>\n",
       "      <td>NaN</td>\n",
       "      <td>NaN</td>\n",
       "      <td>NaN</td>\n",
       "      <td>NaN</td>\n",
       "      <td>NaN</td>\n",
       "      <td>NaN</td>\n",
       "      <td>NaN</td>\n",
       "      <td>0.0</td>\n",
       "      <td>0.0</td>\n",
       "      <td>Mar</td>\n",
       "      <td>3</td>\n",
       "      <td>2</td>\n",
       "      <td>1</td>\n",
       "      <td>1</td>\n",
       "      <td>Returning_Visitor</td>\n",
       "      <td>False</td>\n",
       "      <td>False</td>\n",
       "    </tr>\n",
       "    <tr>\n",
       "      <th>1136</th>\n",
       "      <td>NaN</td>\n",
       "      <td>NaN</td>\n",
       "      <td>NaN</td>\n",
       "      <td>NaN</td>\n",
       "      <td>NaN</td>\n",
       "      <td>NaN</td>\n",
       "      <td>NaN</td>\n",
       "      <td>NaN</td>\n",
       "      <td>0.0</td>\n",
       "      <td>0.0</td>\n",
       "      <td>Mar</td>\n",
       "      <td>2</td>\n",
       "      <td>2</td>\n",
       "      <td>1</td>\n",
       "      <td>2</td>\n",
       "      <td>Returning_Visitor</td>\n",
       "      <td>False</td>\n",
       "      <td>False</td>\n",
       "    </tr>\n",
       "    <tr>\n",
       "      <th>1473</th>\n",
       "      <td>NaN</td>\n",
       "      <td>NaN</td>\n",
       "      <td>NaN</td>\n",
       "      <td>NaN</td>\n",
       "      <td>NaN</td>\n",
       "      <td>NaN</td>\n",
       "      <td>NaN</td>\n",
       "      <td>NaN</td>\n",
       "      <td>0.0</td>\n",
       "      <td>0.0</td>\n",
       "      <td>Mar</td>\n",
       "      <td>2</td>\n",
       "      <td>2</td>\n",
       "      <td>1</td>\n",
       "      <td>1</td>\n",
       "      <td>Returning_Visitor</td>\n",
       "      <td>True</td>\n",
       "      <td>False</td>\n",
       "    </tr>\n",
       "    <tr>\n",
       "      <th>1474</th>\n",
       "      <td>NaN</td>\n",
       "      <td>NaN</td>\n",
       "      <td>NaN</td>\n",
       "      <td>NaN</td>\n",
       "      <td>NaN</td>\n",
       "      <td>NaN</td>\n",
       "      <td>NaN</td>\n",
       "      <td>NaN</td>\n",
       "      <td>0.0</td>\n",
       "      <td>0.0</td>\n",
       "      <td>Mar</td>\n",
       "      <td>1</td>\n",
       "      <td>1</td>\n",
       "      <td>6</td>\n",
       "      <td>1</td>\n",
       "      <td>Returning_Visitor</td>\n",
       "      <td>True</td>\n",
       "      <td>False</td>\n",
       "    </tr>\n",
       "    <tr>\n",
       "      <th>1475</th>\n",
       "      <td>NaN</td>\n",
       "      <td>NaN</td>\n",
       "      <td>NaN</td>\n",
       "      <td>NaN</td>\n",
       "      <td>NaN</td>\n",
       "      <td>NaN</td>\n",
       "      <td>NaN</td>\n",
       "      <td>NaN</td>\n",
       "      <td>0.0</td>\n",
       "      <td>0.0</td>\n",
       "      <td>Mar</td>\n",
       "      <td>2</td>\n",
       "      <td>2</td>\n",
       "      <td>3</td>\n",
       "      <td>1</td>\n",
       "      <td>Returning_Visitor</td>\n",
       "      <td>False</td>\n",
       "      <td>False</td>\n",
       "    </tr>\n",
       "    <tr>\n",
       "      <th>1476</th>\n",
       "      <td>NaN</td>\n",
       "      <td>NaN</td>\n",
       "      <td>NaN</td>\n",
       "      <td>NaN</td>\n",
       "      <td>NaN</td>\n",
       "      <td>NaN</td>\n",
       "      <td>NaN</td>\n",
       "      <td>NaN</td>\n",
       "      <td>0.0</td>\n",
       "      <td>0.0</td>\n",
       "      <td>Mar</td>\n",
       "      <td>1</td>\n",
       "      <td>1</td>\n",
       "      <td>2</td>\n",
       "      <td>3</td>\n",
       "      <td>Returning_Visitor</td>\n",
       "      <td>False</td>\n",
       "      <td>False</td>\n",
       "    </tr>\n",
       "    <tr>\n",
       "      <th>2037</th>\n",
       "      <td>NaN</td>\n",
       "      <td>NaN</td>\n",
       "      <td>NaN</td>\n",
       "      <td>NaN</td>\n",
       "      <td>NaN</td>\n",
       "      <td>NaN</td>\n",
       "      <td>NaN</td>\n",
       "      <td>NaN</td>\n",
       "      <td>0.0</td>\n",
       "      <td>0.0</td>\n",
       "      <td>Mar</td>\n",
       "      <td>3</td>\n",
       "      <td>2</td>\n",
       "      <td>4</td>\n",
       "      <td>1</td>\n",
       "      <td>Returning_Visitor</td>\n",
       "      <td>False</td>\n",
       "      <td>False</td>\n",
       "    </tr>\n",
       "    <tr>\n",
       "      <th>2038</th>\n",
       "      <td>NaN</td>\n",
       "      <td>NaN</td>\n",
       "      <td>NaN</td>\n",
       "      <td>NaN</td>\n",
       "      <td>NaN</td>\n",
       "      <td>NaN</td>\n",
       "      <td>NaN</td>\n",
       "      <td>NaN</td>\n",
       "      <td>0.0</td>\n",
       "      <td>0.0</td>\n",
       "      <td>Mar</td>\n",
       "      <td>2</td>\n",
       "      <td>2</td>\n",
       "      <td>1</td>\n",
       "      <td>2</td>\n",
       "      <td>Returning_Visitor</td>\n",
       "      <td>False</td>\n",
       "      <td>False</td>\n",
       "    </tr>\n",
       "    <tr>\n",
       "      <th>2039</th>\n",
       "      <td>NaN</td>\n",
       "      <td>NaN</td>\n",
       "      <td>NaN</td>\n",
       "      <td>NaN</td>\n",
       "      <td>NaN</td>\n",
       "      <td>NaN</td>\n",
       "      <td>NaN</td>\n",
       "      <td>NaN</td>\n",
       "      <td>0.0</td>\n",
       "      <td>0.0</td>\n",
       "      <td>Mar</td>\n",
       "      <td>3</td>\n",
       "      <td>2</td>\n",
       "      <td>4</td>\n",
       "      <td>15</td>\n",
       "      <td>Returning_Visitor</td>\n",
       "      <td>True</td>\n",
       "      <td>False</td>\n",
       "    </tr>\n",
       "    <tr>\n",
       "      <th>2753</th>\n",
       "      <td>NaN</td>\n",
       "      <td>NaN</td>\n",
       "      <td>NaN</td>\n",
       "      <td>NaN</td>\n",
       "      <td>NaN</td>\n",
       "      <td>NaN</td>\n",
       "      <td>NaN</td>\n",
       "      <td>NaN</td>\n",
       "      <td>0.0</td>\n",
       "      <td>0.0</td>\n",
       "      <td>May</td>\n",
       "      <td>2</td>\n",
       "      <td>2</td>\n",
       "      <td>4</td>\n",
       "      <td>13</td>\n",
       "      <td>Returning_Visitor</td>\n",
       "      <td>False</td>\n",
       "      <td>False</td>\n",
       "    </tr>\n",
       "  </tbody>\n",
       "</table>\n",
       "</div>"
      ],
      "text/plain": [
       "      Administrative  Administrative_Duration  Informational  \\\n",
       "1065             NaN                      NaN            NaN   \n",
       "1132             NaN                      NaN            NaN   \n",
       "1133             NaN                      NaN            NaN   \n",
       "1134             NaN                      NaN            NaN   \n",
       "1135             NaN                      NaN            NaN   \n",
       "1136             NaN                      NaN            NaN   \n",
       "1473             NaN                      NaN            NaN   \n",
       "1474             NaN                      NaN            NaN   \n",
       "1475             NaN                      NaN            NaN   \n",
       "1476             NaN                      NaN            NaN   \n",
       "2037             NaN                      NaN            NaN   \n",
       "2038             NaN                      NaN            NaN   \n",
       "2039             NaN                      NaN            NaN   \n",
       "2753             NaN                      NaN            NaN   \n",
       "\n",
       "      Informational_Duration  ProductRelated  ProductRelated_Duration  \\\n",
       "1065                     NaN             NaN                      NaN   \n",
       "1132                     NaN             NaN                      NaN   \n",
       "1133                     NaN             NaN                      NaN   \n",
       "1134                     NaN             NaN                      NaN   \n",
       "1135                     NaN             NaN                      NaN   \n",
       "1136                     NaN             NaN                      NaN   \n",
       "1473                     NaN             NaN                      NaN   \n",
       "1474                     NaN             NaN                      NaN   \n",
       "1475                     NaN             NaN                      NaN   \n",
       "1476                     NaN             NaN                      NaN   \n",
       "2037                     NaN             NaN                      NaN   \n",
       "2038                     NaN             NaN                      NaN   \n",
       "2039                     NaN             NaN                      NaN   \n",
       "2753                     NaN             NaN                      NaN   \n",
       "\n",
       "      BounceRates  ExitRates  PageValues  SpecialDay Month  OperatingSystems  \\\n",
       "1065          NaN        NaN         0.0         0.0   Mar                 2   \n",
       "1132          NaN        NaN         0.0         0.0   Mar                 1   \n",
       "1133          NaN        NaN         0.0         0.0   Mar                 2   \n",
       "1134          NaN        NaN         0.0         0.0   Mar                 2   \n",
       "1135          NaN        NaN         0.0         0.0   Mar                 3   \n",
       "1136          NaN        NaN         0.0         0.0   Mar                 2   \n",
       "1473          NaN        NaN         0.0         0.0   Mar                 2   \n",
       "1474          NaN        NaN         0.0         0.0   Mar                 1   \n",
       "1475          NaN        NaN         0.0         0.0   Mar                 2   \n",
       "1476          NaN        NaN         0.0         0.0   Mar                 1   \n",
       "2037          NaN        NaN         0.0         0.0   Mar                 3   \n",
       "2038          NaN        NaN         0.0         0.0   Mar                 2   \n",
       "2039          NaN        NaN         0.0         0.0   Mar                 3   \n",
       "2753          NaN        NaN         0.0         0.0   May                 2   \n",
       "\n",
       "      Browser  Region  TrafficType        VisitorType  Weekend  Revenue  \n",
       "1065        2       2            1  Returning_Visitor    False    False  \n",
       "1132        1       1            2  Returning_Visitor    False    False  \n",
       "1133        4       5            1  Returning_Visitor    False    False  \n",
       "1134        2       1            2  Returning_Visitor    False    False  \n",
       "1135        2       1            1  Returning_Visitor    False    False  \n",
       "1136        2       1            2  Returning_Visitor    False    False  \n",
       "1473        2       1            1  Returning_Visitor     True    False  \n",
       "1474        1       6            1  Returning_Visitor     True    False  \n",
       "1475        2       3            1  Returning_Visitor    False    False  \n",
       "1476        1       2            3  Returning_Visitor    False    False  \n",
       "2037        2       4            1  Returning_Visitor    False    False  \n",
       "2038        2       1            2  Returning_Visitor    False    False  \n",
       "2039        2       4           15  Returning_Visitor     True    False  \n",
       "2753        2       4           13  Returning_Visitor    False    False  "
      ]
     },
     "execution_count": 11,
     "metadata": {},
     "output_type": "execute_result"
    }
   ],
   "source": [
    "online[online.isna().any(axis = 1)]"
   ]
  },
  {
   "cell_type": "code",
   "execution_count": 12,
   "metadata": {},
   "outputs": [],
   "source": [
    "online.dropna(inplace = True)"
   ]
  },
  {
   "cell_type": "code",
   "execution_count": 13,
   "metadata": {},
   "outputs": [
    {
     "data": {
      "text/plain": [
       "Administrative             0\n",
       "Administrative_Duration    0\n",
       "Informational              0\n",
       "Informational_Duration     0\n",
       "ProductRelated             0\n",
       "ProductRelated_Duration    0\n",
       "BounceRates                0\n",
       "ExitRates                  0\n",
       "PageValues                 0\n",
       "SpecialDay                 0\n",
       "Month                      0\n",
       "OperatingSystems           0\n",
       "Browser                    0\n",
       "Region                     0\n",
       "TrafficType                0\n",
       "VisitorType                0\n",
       "Weekend                    0\n",
       "Revenue                    0\n",
       "dtype: int64"
      ]
     },
     "execution_count": 13,
     "metadata": {},
     "output_type": "execute_result"
    }
   ],
   "source": [
    "online.isnull().sum()"
   ]
  },
  {
   "cell_type": "markdown",
   "metadata": {},
   "source": [
    "### Dummy Variables for Visitor Types\n",
    "Convert Visitor Types into dummies, since there are 3 separate types of visitors."
   ]
  },
  {
   "cell_type": "code",
   "execution_count": 14,
   "metadata": {},
   "outputs": [
    {
     "data": {
      "text/plain": [
       "array(['Returning_Visitor', 'New_Visitor', 'Other'], dtype=object)"
      ]
     },
     "execution_count": 14,
     "metadata": {},
     "output_type": "execute_result"
    }
   ],
   "source": [
    "online['VisitorType'].unique()"
   ]
  },
  {
   "cell_type": "code",
   "execution_count": 15,
   "metadata": {},
   "outputs": [
    {
     "data": {
      "text/plain": [
       "Returning_Visitor    10504\n",
       "New_Visitor           1694\n",
       "Other                   85\n",
       "Name: VisitorType, dtype: int64"
      ]
     },
     "execution_count": 15,
     "metadata": {},
     "output_type": "execute_result"
    }
   ],
   "source": [
    "online['VisitorType'].value_counts()"
   ]
  },
  {
   "cell_type": "code",
   "execution_count": 16,
   "metadata": {},
   "outputs": [],
   "source": [
    "# Let's go ahead and convert Visitor Types to dummies.\n",
    "\n",
    "visitors = pd.get_dummies(online['VisitorType'])\n",
    "\n",
    "online = pd.concat([online, visitors], axis = 1)"
   ]
  },
  {
   "cell_type": "code",
   "execution_count": 17,
   "metadata": {},
   "outputs": [],
   "source": [
    "online.drop('VisitorType', axis = 1, inplace = True)"
   ]
  },
  {
   "cell_type": "markdown",
   "metadata": {},
   "source": [
    "### Months Conversion to Numbers\n",
    "\n",
    "Construct a new column that will hold months as a number."
   ]
  },
  {
   "cell_type": "code",
   "execution_count": 18,
   "metadata": {},
   "outputs": [
    {
     "data": {
      "text/plain": [
       "array(['Feb', 'Mar', 'May', 'Oct', 'June', 'Jul', 'Aug', 'Nov', 'Sep',\n",
       "       'Dec'], dtype=object)"
      ]
     },
     "execution_count": 18,
     "metadata": {},
     "output_type": "execute_result"
    }
   ],
   "source": [
    "online['Month'].unique()"
   ]
  },
  {
   "cell_type": "code",
   "execution_count": 19,
   "metadata": {},
   "outputs": [],
   "source": [
    "online['MonthNum'] = online['Month'].map({'Jan': 1, 'Feb': 2, 'Mar': 3, 'Apr': 4, 'May': 5, 'June': 6, 'Jul': 7, 'Aug': 8, 'Sep': 9,\n",
    "                     'Oct': 10, 'Nov': 11, 'Dec': 12})"
   ]
  },
  {
   "cell_type": "code",
   "execution_count": 20,
   "metadata": {},
   "outputs": [],
   "source": [
    "online.drop('Month', axis = 1, inplace = True)"
   ]
  },
  {
   "cell_type": "markdown",
   "metadata": {},
   "source": [
    "### Converting Revenue to Numbers\n",
    "\n",
    "Since 'Revenue' will be our target variable, let's convert the boolean form into 0's and 1's (False and True)."
   ]
  },
  {
   "cell_type": "code",
   "execution_count": 21,
   "metadata": {},
   "outputs": [],
   "source": [
    "online['Revenue_Num'] = online['Revenue'].apply(lambda x: 0 if x == False else 1)"
   ]
  },
  {
   "cell_type": "code",
   "execution_count": 22,
   "metadata": {},
   "outputs": [
    {
     "data": {
      "text/plain": [
       "array([0, 1])"
      ]
     },
     "execution_count": 22,
     "metadata": {},
     "output_type": "execute_result"
    }
   ],
   "source": [
    "online['Revenue_Num'].unique()"
   ]
  },
  {
   "cell_type": "code",
   "execution_count": 23,
   "metadata": {},
   "outputs": [],
   "source": [
    "online.drop('Revenue', axis = 1, inplace = True)"
   ]
  },
  {
   "cell_type": "markdown",
   "metadata": {},
   "source": [
    "### Convert Weekend to Number\n",
    "\n",
    "Let's also convert weekend to 0's and 1's. 0 for not weekends, 1 for weekends."
   ]
  },
  {
   "cell_type": "code",
   "execution_count": 24,
   "metadata": {},
   "outputs": [],
   "source": [
    "online['Weekend_Num'] = online['Weekend'].apply(lambda x: 0 if x == False else 1)"
   ]
  },
  {
   "cell_type": "code",
   "execution_count": 25,
   "metadata": {},
   "outputs": [],
   "source": [
    "online.drop('Weekend', axis = 1, inplace = True)"
   ]
  },
  {
   "cell_type": "markdown",
   "metadata": {},
   "source": [
    "# EDA"
   ]
  },
  {
   "cell_type": "markdown",
   "metadata": {},
   "source": [
    "Let's take a look at product related duration times and see if there are any outliers we can remove."
   ]
  },
  {
   "cell_type": "code",
   "execution_count": 26,
   "metadata": {},
   "outputs": [
    {
     "data": {
      "text/plain": [
       "5747.572358617515"
      ]
     },
     "execution_count": 26,
     "metadata": {},
     "output_type": "execute_result"
    }
   ],
   "source": [
    "np.std(online['ProductRelated_Duration'])*3"
   ]
  },
  {
   "cell_type": "code",
   "execution_count": 27,
   "metadata": {},
   "outputs": [
    {
     "data": {
      "text/plain": [
       "<matplotlib.axes._subplots.AxesSubplot at 0x7fd37131c090>"
      ]
     },
     "execution_count": 27,
     "metadata": {},
     "output_type": "execute_result"
    },
    {
     "data": {
      "image/png": "[encoded data removed]",
      "text/plain": [
       "<Figure size 432x288 with 1 Axes>"
      ]
     },
     "metadata": {
      "needs_background": "light"
     },
     "output_type": "display_data"
    }
   ],
   "source": [
    "sns.distplot(online['ProductRelated_Duration'])"
   ]
  },
  {
   "cell_type": "code",
   "execution_count": 28,
   "metadata": {},
   "outputs": [
    {
     "data": {
      "text/html": [
       "<div>\n",
       "<style scoped>\n",
       "    .dataframe tbody tr th:only-of-type {\n",
       "        vertical-align: middle;\n",
       "    }\n",
       "\n",
       "    .dataframe tbody tr th {\n",
       "        vertical-align: top;\n",
       "    }\n",
       "\n",
       "    .dataframe thead th {\n",
       "        text-align: right;\n",
       "    }\n",
       "</style>\n",
       "<table border=\"1\" class=\"dataframe\">\n",
       "  <thead>\n",
       "    <tr style=\"text-align: right;\">\n",
       "      <th></th>\n",
       "      <th>Administrative</th>\n",
       "      <th>Administrative_Duration</th>\n",
       "      <th>Informational</th>\n",
       "      <th>Informational_Duration</th>\n",
       "      <th>ProductRelated</th>\n",
       "      <th>ProductRelated_Duration</th>\n",
       "      <th>BounceRates</th>\n",
       "      <th>ExitRates</th>\n",
       "      <th>PageValues</th>\n",
       "      <th>SpecialDay</th>\n",
       "      <th>OperatingSystems</th>\n",
       "      <th>Browser</th>\n",
       "      <th>Region</th>\n",
       "      <th>TrafficType</th>\n",
       "      <th>New_Visitor</th>\n",
       "      <th>Other</th>\n",
       "      <th>Returning_Visitor</th>\n",
       "      <th>MonthNum</th>\n",
       "      <th>Revenue_Num</th>\n",
       "      <th>Weekend_Num</th>\n",
       "    </tr>\n",
       "  </thead>\n",
       "  <tbody>\n",
       "    <tr>\n",
       "      <th>66</th>\n",
       "      <td>4.0</td>\n",
       "      <td>44.000000</td>\n",
       "      <td>0.0</td>\n",
       "      <td>0.000000</td>\n",
       "      <td>90.0</td>\n",
       "      <td>6951.972222</td>\n",
       "      <td>0.002151</td>\n",
       "      <td>0.015013</td>\n",
       "      <td>0.000000</td>\n",
       "      <td>0.0</td>\n",
       "      <td>4</td>\n",
       "      <td>1</td>\n",
       "      <td>1</td>\n",
       "      <td>3</td>\n",
       "      <td>0</td>\n",
       "      <td>0</td>\n",
       "      <td>1</td>\n",
       "      <td>2</td>\n",
       "      <td>0</td>\n",
       "      <td>0</td>\n",
       "    </tr>\n",
       "    <tr>\n",
       "      <th>510</th>\n",
       "      <td>14.0</td>\n",
       "      <td>416.392857</td>\n",
       "      <td>6.0</td>\n",
       "      <td>449.333333</td>\n",
       "      <td>258.0</td>\n",
       "      <td>11301.204160</td>\n",
       "      <td>0.000000</td>\n",
       "      <td>0.007425</td>\n",
       "      <td>33.611792</td>\n",
       "      <td>0.0</td>\n",
       "      <td>2</td>\n",
       "      <td>4</td>\n",
       "      <td>9</td>\n",
       "      <td>2</td>\n",
       "      <td>0</td>\n",
       "      <td>0</td>\n",
       "      <td>1</td>\n",
       "      <td>3</td>\n",
       "      <td>1</td>\n",
       "      <td>0</td>\n",
       "    </tr>\n",
       "    <tr>\n",
       "      <th>611</th>\n",
       "      <td>16.0</td>\n",
       "      <td>315.144986</td>\n",
       "      <td>6.0</td>\n",
       "      <td>147.866667</td>\n",
       "      <td>173.0</td>\n",
       "      <td>6255.017866</td>\n",
       "      <td>0.002531</td>\n",
       "      <td>0.010737</td>\n",
       "      <td>0.000000</td>\n",
       "      <td>0.0</td>\n",
       "      <td>2</td>\n",
       "      <td>2</td>\n",
       "      <td>2</td>\n",
       "      <td>2</td>\n",
       "      <td>0</td>\n",
       "      <td>0</td>\n",
       "      <td>1</td>\n",
       "      <td>3</td>\n",
       "      <td>0</td>\n",
       "      <td>0</td>\n",
       "    </tr>\n",
       "    <tr>\n",
       "      <th>619</th>\n",
       "      <td>13.0</td>\n",
       "      <td>374.875000</td>\n",
       "      <td>1.0</td>\n",
       "      <td>53.000000</td>\n",
       "      <td>88.0</td>\n",
       "      <td>5958.071931</td>\n",
       "      <td>0.002105</td>\n",
       "      <td>0.009544</td>\n",
       "      <td>0.000000</td>\n",
       "      <td>0.0</td>\n",
       "      <td>2</td>\n",
       "      <td>2</td>\n",
       "      <td>3</td>\n",
       "      <td>2</td>\n",
       "      <td>0</td>\n",
       "      <td>0</td>\n",
       "      <td>1</td>\n",
       "      <td>3</td>\n",
       "      <td>0</td>\n",
       "      <td>0</td>\n",
       "    </tr>\n",
       "    <tr>\n",
       "      <th>769</th>\n",
       "      <td>15.0</td>\n",
       "      <td>937.174603</td>\n",
       "      <td>3.0</td>\n",
       "      <td>357.000000</td>\n",
       "      <td>109.0</td>\n",
       "      <td>6682.677557</td>\n",
       "      <td>0.000833</td>\n",
       "      <td>0.005345</td>\n",
       "      <td>2.526617</td>\n",
       "      <td>0.0</td>\n",
       "      <td>1</td>\n",
       "      <td>2</td>\n",
       "      <td>3</td>\n",
       "      <td>2</td>\n",
       "      <td>0</td>\n",
       "      <td>0</td>\n",
       "      <td>1</td>\n",
       "      <td>3</td>\n",
       "      <td>0</td>\n",
       "      <td>0</td>\n",
       "    </tr>\n",
       "    <tr>\n",
       "      <th>...</th>\n",
       "      <td>...</td>\n",
       "      <td>...</td>\n",
       "      <td>...</td>\n",
       "      <td>...</td>\n",
       "      <td>...</td>\n",
       "      <td>...</td>\n",
       "      <td>...</td>\n",
       "      <td>...</td>\n",
       "      <td>...</td>\n",
       "      <td>...</td>\n",
       "      <td>...</td>\n",
       "      <td>...</td>\n",
       "      <td>...</td>\n",
       "      <td>...</td>\n",
       "      <td>...</td>\n",
       "      <td>...</td>\n",
       "      <td>...</td>\n",
       "      <td>...</td>\n",
       "      <td>...</td>\n",
       "      <td>...</td>\n",
       "    </tr>\n",
       "    <tr>\n",
       "      <th>12237</th>\n",
       "      <td>0.0</td>\n",
       "      <td>0.000000</td>\n",
       "      <td>0.0</td>\n",
       "      <td>0.000000</td>\n",
       "      <td>112.0</td>\n",
       "      <td>6673.291392</td>\n",
       "      <td>0.000000</td>\n",
       "      <td>0.008745</td>\n",
       "      <td>5.468093</td>\n",
       "      <td>0.0</td>\n",
       "      <td>2</td>\n",
       "      <td>4</td>\n",
       "      <td>1</td>\n",
       "      <td>3</td>\n",
       "      <td>0</td>\n",
       "      <td>0</td>\n",
       "      <td>1</td>\n",
       "      <td>11</td>\n",
       "      <td>0</td>\n",
       "      <td>0</td>\n",
       "    </tr>\n",
       "    <tr>\n",
       "      <th>12265</th>\n",
       "      <td>6.0</td>\n",
       "      <td>413.499612</td>\n",
       "      <td>0.0</td>\n",
       "      <td>0.000000</td>\n",
       "      <td>83.0</td>\n",
       "      <td>6072.032391</td>\n",
       "      <td>0.007059</td>\n",
       "      <td>0.024024</td>\n",
       "      <td>1.240071</td>\n",
       "      <td>0.0</td>\n",
       "      <td>3</td>\n",
       "      <td>2</td>\n",
       "      <td>8</td>\n",
       "      <td>1</td>\n",
       "      <td>0</td>\n",
       "      <td>0</td>\n",
       "      <td>1</td>\n",
       "      <td>11</td>\n",
       "      <td>1</td>\n",
       "      <td>1</td>\n",
       "    </tr>\n",
       "    <tr>\n",
       "      <th>12282</th>\n",
       "      <td>0.0</td>\n",
       "      <td>0.000000</td>\n",
       "      <td>0.0</td>\n",
       "      <td>0.000000</td>\n",
       "      <td>125.0</td>\n",
       "      <td>7453.766667</td>\n",
       "      <td>0.001626</td>\n",
       "      <td>0.013132</td>\n",
       "      <td>0.000000</td>\n",
       "      <td>0.0</td>\n",
       "      <td>2</td>\n",
       "      <td>2</td>\n",
       "      <td>3</td>\n",
       "      <td>2</td>\n",
       "      <td>0</td>\n",
       "      <td>0</td>\n",
       "      <td>1</td>\n",
       "      <td>11</td>\n",
       "      <td>0</td>\n",
       "      <td>0</td>\n",
       "    </tr>\n",
       "    <tr>\n",
       "      <th>12287</th>\n",
       "      <td>8.0</td>\n",
       "      <td>167.910714</td>\n",
       "      <td>6.0</td>\n",
       "      <td>547.750000</td>\n",
       "      <td>111.0</td>\n",
       "      <td>6340.152381</td>\n",
       "      <td>0.003361</td>\n",
       "      <td>0.009432</td>\n",
       "      <td>44.219794</td>\n",
       "      <td>0.0</td>\n",
       "      <td>3</td>\n",
       "      <td>2</td>\n",
       "      <td>6</td>\n",
       "      <td>2</td>\n",
       "      <td>0</td>\n",
       "      <td>0</td>\n",
       "      <td>1</td>\n",
       "      <td>12</td>\n",
       "      <td>0</td>\n",
       "      <td>0</td>\n",
       "    </tr>\n",
       "    <tr>\n",
       "      <th>12312</th>\n",
       "      <td>7.0</td>\n",
       "      <td>150.357143</td>\n",
       "      <td>1.0</td>\n",
       "      <td>9.000000</td>\n",
       "      <td>221.0</td>\n",
       "      <td>11431.001240</td>\n",
       "      <td>0.011149</td>\n",
       "      <td>0.021904</td>\n",
       "      <td>1.582473</td>\n",
       "      <td>0.0</td>\n",
       "      <td>2</td>\n",
       "      <td>5</td>\n",
       "      <td>1</td>\n",
       "      <td>2</td>\n",
       "      <td>0</td>\n",
       "      <td>0</td>\n",
       "      <td>1</td>\n",
       "      <td>11</td>\n",
       "      <td>1</td>\n",
       "      <td>1</td>\n",
       "    </tr>\n",
       "  </tbody>\n",
       "</table>\n",
       "<p>332 rows × 20 columns</p>\n",
       "</div>"
      ],
      "text/plain": [
       "       Administrative  Administrative_Duration  Informational  \\\n",
       "66                4.0                44.000000            0.0   \n",
       "510              14.0               416.392857            6.0   \n",
       "611              16.0               315.144986            6.0   \n",
       "619              13.0               374.875000            1.0   \n",
       "769              15.0               937.174603            3.0   \n",
       "...               ...                      ...            ...   \n",
       "12237             0.0                 0.000000            0.0   \n",
       "12265             6.0               413.499612            0.0   \n",
       "12282             0.0                 0.000000            0.0   \n",
       "12287             8.0               167.910714            6.0   \n",
       "12312             7.0               150.357143            1.0   \n",
       "\n",
       "       Informational_Duration  ProductRelated  ProductRelated_Duration  \\\n",
       "66                   0.000000            90.0              6951.972222   \n",
       "510                449.333333           258.0             11301.204160   \n",
       "611                147.866667           173.0              6255.017866   \n",
       "619                 53.000000            88.0              5958.071931   \n",
       "769                357.000000           109.0              6682.677557   \n",
       "...                       ...             ...                      ...   \n",
       "12237                0.000000           112.0              6673.291392   \n",
       "12265                0.000000            83.0              6072.032391   \n",
       "12282                0.000000           125.0              7453.766667   \n",
       "12287              547.750000           111.0              6340.152381   \n",
       "12312                9.000000           221.0             11431.001240   \n",
       "\n",
       "       BounceRates  ExitRates  PageValues  SpecialDay  OperatingSystems  \\\n",
       "66        0.002151   0.015013    0.000000         0.0                 4   \n",
       "510       0.000000   0.007425   33.611792         0.0                 2   \n",
       "611       0.002531   0.010737    0.000000         0.0                 2   \n",
       "619       0.002105   0.009544    0.000000         0.0                 2   \n",
       "769       0.000833   0.005345    2.526617         0.0                 1   \n",
       "...            ...        ...         ...         ...               ...   \n",
       "12237     0.000000   0.008745    5.468093         0.0                 2   \n",
       "12265     0.007059   0.024024    1.240071         0.0                 3   \n",
       "12282     0.001626   0.013132    0.000000         0.0                 2   \n",
       "12287     0.003361   0.009432   44.219794         0.0                 3   \n",
       "12312     0.011149   0.021904    1.582473         0.0                 2   \n",
       "\n",
       "       Browser  Region  TrafficType  New_Visitor  Other  Returning_Visitor  \\\n",
       "66           1       1            3            0      0                  1   \n",
       "510          4       9            2            0      0                  1   \n",
       "611          2       2            2            0      0                  1   \n",
       "619          2       3            2            0      0                  1   \n",
       "769          2       3            2            0      0                  1   \n",
       "...        ...     ...          ...          ...    ...                ...   \n",
       "12237        4       1            3            0      0                  1   \n",
       "12265        2       8            1            0      0                  1   \n",
       "12282        2       3            2            0      0                  1   \n",
       "12287        2       6            2            0      0                  1   \n",
       "12312        5       1            2            0      0                  1   \n",
       "\n",
       "       MonthNum  Revenue_Num  Weekend_Num  \n",
       "66            2            0            0  \n",
       "510           3            1            0  \n",
       "611           3            0            0  \n",
       "619           3            0            0  \n",
       "769           3            0            0  \n",
       "...         ...          ...          ...  \n",
       "12237        11            0            0  \n",
       "12265        11            1            1  \n",
       "12282        11            0            0  \n",
       "12287        12            0            0  \n",
       "12312        11            1            1  \n",
       "\n",
       "[332 rows x 20 columns]"
      ]
     },
     "execution_count": 28,
     "metadata": {},
     "output_type": "execute_result"
    }
   ],
   "source": [
    "online[(online['ProductRelated_Duration'] > 5800)]"
   ]
  },
  {
   "cell_type": "code",
   "execution_count": 29,
   "metadata": {},
   "outputs": [],
   "source": [
    "online = online[online['ProductRelated_Duration'] <= 5800]"
   ]
  },
  {
   "cell_type": "code",
   "execution_count": 30,
   "metadata": {},
   "outputs": [
    {
     "data": {
      "text/plain": [
       "11951"
      ]
     },
     "execution_count": 30,
     "metadata": {},
     "output_type": "execute_result"
    }
   ],
   "source": [
    "len(online)"
   ]
  },
  {
   "cell_type": "code",
   "execution_count": 31,
   "metadata": {},
   "outputs": [
    {
     "data": {
      "text/plain": [
       "<matplotlib.axes._subplots.AxesSubplot at 0x7fd371985910>"
      ]
     },
     "execution_count": 31,
     "metadata": {},
     "output_type": "execute_result"
    },
    {
     "data": {
      "image/png": "[encoded data removed]",
      "text/plain": [
       "<Figure size 432x288 with 1 Axes>"
      ]
     },
     "metadata": {
      "needs_background": "light"
     },
     "output_type": "display_data"
    }
   ],
   "source": [
    "sns.distplot(online['ProductRelated_Duration'])"
   ]
  },
  {
   "cell_type": "markdown",
   "metadata": {},
   "source": [
    "We decided to end the outliers limit at 5800 seconds for ProductDuration_Related, as that was 3 Standard Deviations. This eliminates around 332 observations to a total of 11,951 observations remaining in my dataset."
   ]
  },
  {
   "cell_type": "markdown",
   "metadata": {},
   "source": [
    "Let's take a look at Administrative_Duration outliers."
   ]
  },
  {
   "cell_type": "code",
   "execution_count": 32,
   "metadata": {},
   "outputs": [
    {
     "data": {
      "text/plain": [
       "<matplotlib.axes._subplots.AxesSubplot at 0x7fd3719c1d90>"
      ]
     },
     "execution_count": 32,
     "metadata": {},
     "output_type": "execute_result"
    },
    {
     "data": {
      "image/png": "[encoded data removed]",
      "text/plain": [
       "<Figure size 432x288 with 1 Axes>"
      ]
     },
     "metadata": {
      "needs_background": "light"
     },
     "output_type": "display_data"
    }
   ],
   "source": [
    "sns.distplot(online['Administrative_Duration'])"
   ]
  },
  {
   "cell_type": "code",
   "execution_count": 33,
   "metadata": {},
   "outputs": [
    {
     "data": {
      "text/plain": [
       "490.2096261211964"
      ]
     },
     "execution_count": 33,
     "metadata": {},
     "output_type": "execute_result"
    }
   ],
   "source": [
    "np.std(online['Administrative_Duration'])*3"
   ]
  },
  {
   "cell_type": "code",
   "execution_count": 34,
   "metadata": {},
   "outputs": [
    {
     "data": {
      "text/html": [
       "<div>\n",
       "<style scoped>\n",
       "    .dataframe tbody tr th:only-of-type {\n",
       "        vertical-align: middle;\n",
       "    }\n",
       "\n",
       "    .dataframe tbody tr th {\n",
       "        vertical-align: top;\n",
       "    }\n",
       "\n",
       "    .dataframe thead th {\n",
       "        text-align: right;\n",
       "    }\n",
       "</style>\n",
       "<table border=\"1\" class=\"dataframe\">\n",
       "  <thead>\n",
       "    <tr style=\"text-align: right;\">\n",
       "      <th></th>\n",
       "      <th>Administrative</th>\n",
       "      <th>Administrative_Duration</th>\n",
       "      <th>Informational</th>\n",
       "      <th>Informational_Duration</th>\n",
       "      <th>ProductRelated</th>\n",
       "      <th>ProductRelated_Duration</th>\n",
       "      <th>BounceRates</th>\n",
       "      <th>ExitRates</th>\n",
       "      <th>PageValues</th>\n",
       "      <th>SpecialDay</th>\n",
       "      <th>OperatingSystems</th>\n",
       "      <th>Browser</th>\n",
       "      <th>Region</th>\n",
       "      <th>TrafficType</th>\n",
       "      <th>New_Visitor</th>\n",
       "      <th>Other</th>\n",
       "      <th>Returning_Visitor</th>\n",
       "      <th>MonthNum</th>\n",
       "      <th>Revenue_Num</th>\n",
       "      <th>Weekend_Num</th>\n",
       "    </tr>\n",
       "  </thead>\n",
       "  <tbody>\n",
       "    <tr>\n",
       "      <th>76</th>\n",
       "      <td>10.0</td>\n",
       "      <td>1005.666667</td>\n",
       "      <td>0.0</td>\n",
       "      <td>0.000000</td>\n",
       "      <td>36.0</td>\n",
       "      <td>2111.341667</td>\n",
       "      <td>0.004348</td>\n",
       "      <td>0.014493</td>\n",
       "      <td>11.439412</td>\n",
       "      <td>0.0</td>\n",
       "      <td>2</td>\n",
       "      <td>6</td>\n",
       "      <td>1</td>\n",
       "      <td>2</td>\n",
       "      <td>0</td>\n",
       "      <td>0</td>\n",
       "      <td>1</td>\n",
       "      <td>2</td>\n",
       "      <td>1</td>\n",
       "      <td>0</td>\n",
       "    </tr>\n",
       "    <tr>\n",
       "      <th>191</th>\n",
       "      <td>3.0</td>\n",
       "      <td>1226.000000</td>\n",
       "      <td>5.0</td>\n",
       "      <td>3.000000</td>\n",
       "      <td>24.0</td>\n",
       "      <td>3230.250000</td>\n",
       "      <td>0.036190</td>\n",
       "      <td>0.096000</td>\n",
       "      <td>0.000000</td>\n",
       "      <td>0.0</td>\n",
       "      <td>2</td>\n",
       "      <td>2</td>\n",
       "      <td>1</td>\n",
       "      <td>2</td>\n",
       "      <td>0</td>\n",
       "      <td>0</td>\n",
       "      <td>1</td>\n",
       "      <td>3</td>\n",
       "      <td>0</td>\n",
       "      <td>0</td>\n",
       "    </tr>\n",
       "    <tr>\n",
       "      <th>224</th>\n",
       "      <td>1.0</td>\n",
       "      <td>993.000000</td>\n",
       "      <td>0.0</td>\n",
       "      <td>0.000000</td>\n",
       "      <td>28.0</td>\n",
       "      <td>1529.304670</td>\n",
       "      <td>0.001481</td>\n",
       "      <td>0.009150</td>\n",
       "      <td>0.000000</td>\n",
       "      <td>0.0</td>\n",
       "      <td>3</td>\n",
       "      <td>2</td>\n",
       "      <td>4</td>\n",
       "      <td>2</td>\n",
       "      <td>0</td>\n",
       "      <td>0</td>\n",
       "      <td>1</td>\n",
       "      <td>3</td>\n",
       "      <td>0</td>\n",
       "      <td>0</td>\n",
       "    </tr>\n",
       "    <tr>\n",
       "      <th>231</th>\n",
       "      <td>6.0</td>\n",
       "      <td>666.833333</td>\n",
       "      <td>0.0</td>\n",
       "      <td>0.000000</td>\n",
       "      <td>22.0</td>\n",
       "      <td>1674.583333</td>\n",
       "      <td>0.000000</td>\n",
       "      <td>0.014667</td>\n",
       "      <td>0.000000</td>\n",
       "      <td>0.0</td>\n",
       "      <td>2</td>\n",
       "      <td>2</td>\n",
       "      <td>3</td>\n",
       "      <td>2</td>\n",
       "      <td>0</td>\n",
       "      <td>0</td>\n",
       "      <td>1</td>\n",
       "      <td>3</td>\n",
       "      <td>0</td>\n",
       "      <td>0</td>\n",
       "    </tr>\n",
       "    <tr>\n",
       "      <th>257</th>\n",
       "      <td>5.0</td>\n",
       "      <td>1388.750000</td>\n",
       "      <td>0.0</td>\n",
       "      <td>0.000000</td>\n",
       "      <td>4.0</td>\n",
       "      <td>1373.750000</td>\n",
       "      <td>0.000000</td>\n",
       "      <td>0.020000</td>\n",
       "      <td>0.000000</td>\n",
       "      <td>0.0</td>\n",
       "      <td>1</td>\n",
       "      <td>1</td>\n",
       "      <td>7</td>\n",
       "      <td>8</td>\n",
       "      <td>0</td>\n",
       "      <td>0</td>\n",
       "      <td>1</td>\n",
       "      <td>3</td>\n",
       "      <td>0</td>\n",
       "      <td>0</td>\n",
       "    </tr>\n",
       "    <tr>\n",
       "      <th>...</th>\n",
       "      <td>...</td>\n",
       "      <td>...</td>\n",
       "      <td>...</td>\n",
       "      <td>...</td>\n",
       "      <td>...</td>\n",
       "      <td>...</td>\n",
       "      <td>...</td>\n",
       "      <td>...</td>\n",
       "      <td>...</td>\n",
       "      <td>...</td>\n",
       "      <td>...</td>\n",
       "      <td>...</td>\n",
       "      <td>...</td>\n",
       "      <td>...</td>\n",
       "      <td>...</td>\n",
       "      <td>...</td>\n",
       "      <td>...</td>\n",
       "      <td>...</td>\n",
       "      <td>...</td>\n",
       "      <td>...</td>\n",
       "    </tr>\n",
       "    <tr>\n",
       "      <th>12184</th>\n",
       "      <td>9.0</td>\n",
       "      <td>1294.900000</td>\n",
       "      <td>1.0</td>\n",
       "      <td>32.666667</td>\n",
       "      <td>37.0</td>\n",
       "      <td>1012.233333</td>\n",
       "      <td>0.000000</td>\n",
       "      <td>0.006910</td>\n",
       "      <td>33.312206</td>\n",
       "      <td>0.0</td>\n",
       "      <td>2</td>\n",
       "      <td>2</td>\n",
       "      <td>1</td>\n",
       "      <td>2</td>\n",
       "      <td>0</td>\n",
       "      <td>0</td>\n",
       "      <td>1</td>\n",
       "      <td>11</td>\n",
       "      <td>0</td>\n",
       "      <td>0</td>\n",
       "    </tr>\n",
       "    <tr>\n",
       "      <th>12188</th>\n",
       "      <td>7.0</td>\n",
       "      <td>533.591353</td>\n",
       "      <td>4.0</td>\n",
       "      <td>333.500000</td>\n",
       "      <td>85.0</td>\n",
       "      <td>5496.630355</td>\n",
       "      <td>0.010193</td>\n",
       "      <td>0.025284</td>\n",
       "      <td>5.145929</td>\n",
       "      <td>0.0</td>\n",
       "      <td>3</td>\n",
       "      <td>2</td>\n",
       "      <td>1</td>\n",
       "      <td>13</td>\n",
       "      <td>0</td>\n",
       "      <td>0</td>\n",
       "      <td>1</td>\n",
       "      <td>11</td>\n",
       "      <td>0</td>\n",
       "      <td>0</td>\n",
       "    </tr>\n",
       "    <tr>\n",
       "      <th>12194</th>\n",
       "      <td>2.0</td>\n",
       "      <td>698.500000</td>\n",
       "      <td>0.0</td>\n",
       "      <td>0.000000</td>\n",
       "      <td>41.0</td>\n",
       "      <td>1053.841565</td>\n",
       "      <td>0.002990</td>\n",
       "      <td>0.014327</td>\n",
       "      <td>0.000000</td>\n",
       "      <td>0.0</td>\n",
       "      <td>2</td>\n",
       "      <td>5</td>\n",
       "      <td>6</td>\n",
       "      <td>1</td>\n",
       "      <td>0</td>\n",
       "      <td>0</td>\n",
       "      <td>1</td>\n",
       "      <td>11</td>\n",
       "      <td>0</td>\n",
       "      <td>1</td>\n",
       "    </tr>\n",
       "    <tr>\n",
       "      <th>12230</th>\n",
       "      <td>6.0</td>\n",
       "      <td>580.333333</td>\n",
       "      <td>0.0</td>\n",
       "      <td>0.000000</td>\n",
       "      <td>43.0</td>\n",
       "      <td>1326.107143</td>\n",
       "      <td>0.018367</td>\n",
       "      <td>0.018160</td>\n",
       "      <td>0.000000</td>\n",
       "      <td>0.0</td>\n",
       "      <td>1</td>\n",
       "      <td>1</td>\n",
       "      <td>3</td>\n",
       "      <td>2</td>\n",
       "      <td>0</td>\n",
       "      <td>0</td>\n",
       "      <td>1</td>\n",
       "      <td>11</td>\n",
       "      <td>1</td>\n",
       "      <td>0</td>\n",
       "    </tr>\n",
       "    <tr>\n",
       "      <th>12244</th>\n",
       "      <td>19.0</td>\n",
       "      <td>739.194872</td>\n",
       "      <td>1.0</td>\n",
       "      <td>8.000000</td>\n",
       "      <td>114.0</td>\n",
       "      <td>4269.493146</td>\n",
       "      <td>0.001575</td>\n",
       "      <td>0.016980</td>\n",
       "      <td>8.466385</td>\n",
       "      <td>0.0</td>\n",
       "      <td>2</td>\n",
       "      <td>2</td>\n",
       "      <td>2</td>\n",
       "      <td>1</td>\n",
       "      <td>0</td>\n",
       "      <td>0</td>\n",
       "      <td>1</td>\n",
       "      <td>11</td>\n",
       "      <td>0</td>\n",
       "      <td>0</td>\n",
       "    </tr>\n",
       "  </tbody>\n",
       "</table>\n",
       "<p>262 rows × 20 columns</p>\n",
       "</div>"
      ],
      "text/plain": [
       "       Administrative  Administrative_Duration  Informational  \\\n",
       "76               10.0              1005.666667            0.0   \n",
       "191               3.0              1226.000000            5.0   \n",
       "224               1.0               993.000000            0.0   \n",
       "231               6.0               666.833333            0.0   \n",
       "257               5.0              1388.750000            0.0   \n",
       "...               ...                      ...            ...   \n",
       "12184             9.0              1294.900000            1.0   \n",
       "12188             7.0               533.591353            4.0   \n",
       "12194             2.0               698.500000            0.0   \n",
       "12230             6.0               580.333333            0.0   \n",
       "12244            19.0               739.194872            1.0   \n",
       "\n",
       "       Informational_Duration  ProductRelated  ProductRelated_Duration  \\\n",
       "76                   0.000000            36.0              2111.341667   \n",
       "191                  3.000000            24.0              3230.250000   \n",
       "224                  0.000000            28.0              1529.304670   \n",
       "231                  0.000000            22.0              1674.583333   \n",
       "257                  0.000000             4.0              1373.750000   \n",
       "...                       ...             ...                      ...   \n",
       "12184               32.666667            37.0              1012.233333   \n",
       "12188              333.500000            85.0              5496.630355   \n",
       "12194                0.000000            41.0              1053.841565   \n",
       "12230                0.000000            43.0              1326.107143   \n",
       "12244                8.000000           114.0              4269.493146   \n",
       "\n",
       "       BounceRates  ExitRates  PageValues  SpecialDay  OperatingSystems  \\\n",
       "76        0.004348   0.014493   11.439412         0.0                 2   \n",
       "191       0.036190   0.096000    0.000000         0.0                 2   \n",
       "224       0.001481   0.009150    0.000000         0.0                 3   \n",
       "231       0.000000   0.014667    0.000000         0.0                 2   \n",
       "257       0.000000   0.020000    0.000000         0.0                 1   \n",
       "...            ...        ...         ...         ...               ...   \n",
       "12184     0.000000   0.006910   33.312206         0.0                 2   \n",
       "12188     0.010193   0.025284    5.145929         0.0                 3   \n",
       "12194     0.002990   0.014327    0.000000         0.0                 2   \n",
       "12230     0.018367   0.018160    0.000000         0.0                 1   \n",
       "12244     0.001575   0.016980    8.466385         0.0                 2   \n",
       "\n",
       "       Browser  Region  TrafficType  New_Visitor  Other  Returning_Visitor  \\\n",
       "76           6       1            2            0      0                  1   \n",
       "191          2       1            2            0      0                  1   \n",
       "224          2       4            2            0      0                  1   \n",
       "231          2       3            2            0      0                  1   \n",
       "257          1       7            8            0      0                  1   \n",
       "...        ...     ...          ...          ...    ...                ...   \n",
       "12184        2       1            2            0      0                  1   \n",
       "12188        2       1           13            0      0                  1   \n",
       "12194        5       6            1            0      0                  1   \n",
       "12230        1       3            2            0      0                  1   \n",
       "12244        2       2            1            0      0                  1   \n",
       "\n",
       "       MonthNum  Revenue_Num  Weekend_Num  \n",
       "76            2            1            0  \n",
       "191           3            0            0  \n",
       "224           3            0            0  \n",
       "231           3            0            0  \n",
       "257           3            0            0  \n",
       "...         ...          ...          ...  \n",
       "12184        11            0            0  \n",
       "12188        11            0            0  \n",
       "12194        11            0            1  \n",
       "12230        11            1            0  \n",
       "12244        11            0            0  \n",
       "\n",
       "[262 rows x 20 columns]"
      ]
     },
     "execution_count": 34,
     "metadata": {},
     "output_type": "execute_result"
    }
   ],
   "source": [
    "online[online['Administrative_Duration'] > 531]"
   ]
  },
  {
   "cell_type": "code",
   "execution_count": 35,
   "metadata": {
    "scrolled": true
   },
   "outputs": [],
   "source": [
    "online = online[(online['Administrative_Duration'] <= 531)]"
   ]
  },
  {
   "cell_type": "code",
   "execution_count": 36,
   "metadata": {},
   "outputs": [
    {
     "data": {
      "text/plain": [
       "11689"
      ]
     },
     "execution_count": 36,
     "metadata": {},
     "output_type": "execute_result"
    }
   ],
   "source": [
    "len(online)"
   ]
  },
  {
   "cell_type": "markdown",
   "metadata": {},
   "source": [
    "We set an outlier limit at 531 seconds for Administrative_Duration, since it is 3 Standard Deviations away from the original dataset's mean."
   ]
  },
  {
   "cell_type": "markdown",
   "metadata": {},
   "source": [
    "Let's also take a look at the Informational_Duration outliers."
   ]
  },
  {
   "cell_type": "code",
   "execution_count": 37,
   "metadata": {},
   "outputs": [
    {
     "data": {
      "text/plain": [
       "361.21152918605765"
      ]
     },
     "execution_count": 37,
     "metadata": {},
     "output_type": "execute_result"
    }
   ],
   "source": [
    "np.std(online['Informational_Duration'])*3"
   ]
  },
  {
   "cell_type": "code",
   "execution_count": 38,
   "metadata": {},
   "outputs": [
    {
     "name": "stderr",
     "output_type": "stream",
     "text": [
      "/Users/rudywang/opt/anaconda3/lib/python3.7/site-packages/seaborn/distributions.py:369: UserWarning: Default bandwidth for data is 0; skipping density estimation.\n",
      "  warnings.warn(msg, UserWarning)\n"
     ]
    },
    {
     "data": {
      "text/plain": [
       "<matplotlib.axes._subplots.AxesSubplot at 0x7fd371bb1d90>"
      ]
     },
     "execution_count": 38,
     "metadata": {},
     "output_type": "execute_result"
    },
    {
     "data": {
      "image/png": "[encoded data removed]",
      "text/plain": [
       "<Figure size 432x288 with 1 Axes>"
      ]
     },
     "metadata": {
      "needs_background": "light"
     },
     "output_type": "display_data"
    }
   ],
   "source": [
    "sns.distplot(online['Informational_Duration'])"
   ]
  },
  {
   "cell_type": "code",
   "execution_count": 39,
   "metadata": {},
   "outputs": [],
   "source": [
    "online = online[online['Informational_Duration'] <= 422]"
   ]
  },
  {
   "cell_type": "code",
   "execution_count": 40,
   "metadata": {},
   "outputs": [
    {
     "data": {
      "text/plain": [
       "11497"
      ]
     },
     "execution_count": 40,
     "metadata": {},
     "output_type": "execute_result"
    }
   ],
   "source": [
    "len(online)"
   ]
  },
  {
   "cell_type": "markdown",
   "metadata": {},
   "source": [
    "We set an outlier limit at 422 seconds for Informational_Duration, since it is 3 Standard Deviations away from the original dataset's mean. We end up with 11,497 total observations. We removed around 6% of our total dataset."
   ]
  },
  {
   "cell_type": "markdown",
   "metadata": {},
   "source": [
    "Let's also see which month generated the most revenue."
   ]
  },
  {
   "cell_type": "code",
   "execution_count": 41,
   "metadata": {},
   "outputs": [
    {
     "data": {
      "text/plain": [
       "<matplotlib.axes._subplots.AxesSubplot at 0x7fd371dc0d50>"
      ]
     },
     "execution_count": 41,
     "metadata": {},
     "output_type": "execute_result"
    },
    {
     "data": {
      "image/png": "[encoded data removed]",
      "text/plain": [
       "<Figure size 432x288 with 1 Axes>"
      ]
     },
     "metadata": {
      "needs_background": "light"
     },
     "output_type": "display_data"
    }
   ],
   "source": [
    "revenues = online[online['Revenue_Num'] == 1]\n",
    "\n",
    "sns.distplot(revenues['MonthNum'])"
   ]
  },
  {
   "cell_type": "markdown",
   "metadata": {},
   "source": [
    "Most sales transactions happened in November for the 1 year period."
   ]
  },
  {
   "cell_type": "code",
   "execution_count": 42,
   "metadata": {},
   "outputs": [
    {
     "data": {
      "text/plain": [
       "<matplotlib.axes._subplots.AxesSubplot at 0x7fd371f19350>"
      ]
     },
     "execution_count": 42,
     "metadata": {},
     "output_type": "execute_result"
    },
    {
     "data": {
      "image/png": "[encoded data removed]",
      "text/plain": [
       "<Figure size 432x288 with 1 Axes>"
      ]
     },
     "metadata": {
      "needs_background": "light"
     },
     "output_type": "display_data"
    }
   ],
   "source": [
    "sns.countplot(online['Revenue_Num'])"
   ]
  },
  {
   "cell_type": "code",
   "execution_count": 43,
   "metadata": {},
   "outputs": [
    {
     "data": {
      "text/plain": [
       "0    9811\n",
       "1    1686\n",
       "Name: Revenue_Num, dtype: int64"
      ]
     },
     "execution_count": 43,
     "metadata": {},
     "output_type": "execute_result"
    }
   ],
   "source": [
    "online['Revenue_Num'].value_counts()"
   ]
  },
  {
   "cell_type": "code",
   "execution_count": 44,
   "metadata": {},
   "outputs": [
    {
     "data": {
      "text/plain": [
       "0.14664695137862052"
      ]
     },
     "execution_count": 44,
     "metadata": {},
     "output_type": "execute_result"
    }
   ],
   "source": [
    "1686/(9811+1686)"
   ]
  },
  {
   "cell_type": "markdown",
   "metadata": {},
   "source": [
    "About 15% of the visitors generated revenue, while the other 85% did not. Might be a good idea to address class imbalance later."
   ]
  },
  {
   "cell_type": "markdown",
   "metadata": {},
   "source": [
    "## Correlations"
   ]
  },
  {
   "cell_type": "code",
   "execution_count": 45,
   "metadata": {},
   "outputs": [
    {
     "data": {
      "image/png": "[encoded data removed]",
      "text/plain": [
       "<Figure size 792x720 with 2 Axes>"
      ]
     },
     "metadata": {
      "needs_background": "light"
     },
     "output_type": "display_data"
    }
   ],
   "source": [
    "corr = online[online.columns].corr()\n",
    "\n",
    "f, ax = plt.subplots(figsize = (11,10))\n",
    "\n",
    "mask = np.triu(corr)\n",
    "\n",
    "sns.heatmap(corr, linewidth = 2, mask = mask, cmap = 'coolwarm', center = 0, square = True, linewidths = .5, \n",
    "            cbar_kws = {'shrink': .5}, annot = True, fmt = '.1f')\n",
    "\n",
    "plt.title('Correlation Matrix - Oneline Shoppers Intentions', fontsize = 20);"
   ]
  },
  {
   "cell_type": "markdown",
   "metadata": {},
   "source": [
    "What is page value?\n",
    "- The average value for a page that a user visited before landing on the goal page or completing an Ecommerce transaction."
   ]
  },
  {
   "cell_type": "code",
   "execution_count": 255,
   "metadata": {},
   "outputs": [
    {
     "data": {
      "text/plain": [
       "Revenue_Num                1.000000\n",
       "PageValues                 0.512803\n",
       "ProductRelated_Duration    0.170978\n",
       "ProductRelated             0.150034\n",
       "Administrative             0.125432\n",
       "MonthNum                   0.117532\n",
       "Administrative_Duration    0.114155\n",
       "New_Visitor                0.113020\n",
       "Informational_Duration     0.090177\n",
       "Informational              0.087112\n",
       "Weekend_Num                0.033544\n",
       "Browser                    0.026082\n",
       "Other                      0.008692\n",
       "TrafficType               -0.000645\n",
       "Region                    -0.005085\n",
       "OperatingSystems          -0.013199\n",
       "SpecialDay                -0.078745\n",
       "Returning_Visitor         -0.112812\n",
       "BounceRates               -0.148402\n",
       "ExitRates                 -0.204277\n",
       "Name: Revenue_Num, dtype: float64"
      ]
     },
     "execution_count": 255,
     "metadata": {},
     "output_type": "execute_result"
    }
   ],
   "source": [
    "online.corr()['Revenue_Num'].sort_values(ascending = False)"
   ]
  },
  {
   "cell_type": "code",
   "execution_count": 47,
   "metadata": {},
   "outputs": [
    {
     "data": {
      "text/html": [
       "<div>\n",
       "<style scoped>\n",
       "    .dataframe tbody tr th:only-of-type {\n",
       "        vertical-align: middle;\n",
       "    }\n",
       "\n",
       "    .dataframe tbody tr th {\n",
       "        vertical-align: top;\n",
       "    }\n",
       "\n",
       "    .dataframe thead th {\n",
       "        text-align: right;\n",
       "    }\n",
       "</style>\n",
       "<table border=\"1\" class=\"dataframe\">\n",
       "  <thead>\n",
       "    <tr style=\"text-align: right;\">\n",
       "      <th></th>\n",
       "      <th>Administrative</th>\n",
       "      <th>Administrative_Duration</th>\n",
       "      <th>Informational</th>\n",
       "      <th>Informational_Duration</th>\n",
       "      <th>ProductRelated</th>\n",
       "      <th>ProductRelated_Duration</th>\n",
       "      <th>BounceRates</th>\n",
       "      <th>ExitRates</th>\n",
       "      <th>PageValues</th>\n",
       "      <th>SpecialDay</th>\n",
       "      <th>OperatingSystems</th>\n",
       "      <th>Browser</th>\n",
       "      <th>Region</th>\n",
       "      <th>TrafficType</th>\n",
       "      <th>New_Visitor</th>\n",
       "      <th>Other</th>\n",
       "      <th>Returning_Visitor</th>\n",
       "      <th>MonthNum</th>\n",
       "      <th>Revenue_Num</th>\n",
       "      <th>Weekend_Num</th>\n",
       "    </tr>\n",
       "  </thead>\n",
       "  <tbody>\n",
       "    <tr>\n",
       "      <th>0</th>\n",
       "      <td>0.0</td>\n",
       "      <td>0.0</td>\n",
       "      <td>0.0</td>\n",
       "      <td>0.0</td>\n",
       "      <td>1.0</td>\n",
       "      <td>0.000000</td>\n",
       "      <td>0.200000</td>\n",
       "      <td>0.200000</td>\n",
       "      <td>0.0</td>\n",
       "      <td>0.0</td>\n",
       "      <td>1</td>\n",
       "      <td>1</td>\n",
       "      <td>1</td>\n",
       "      <td>1</td>\n",
       "      <td>0</td>\n",
       "      <td>0</td>\n",
       "      <td>1</td>\n",
       "      <td>2</td>\n",
       "      <td>0</td>\n",
       "      <td>0</td>\n",
       "    </tr>\n",
       "    <tr>\n",
       "      <th>1</th>\n",
       "      <td>0.0</td>\n",
       "      <td>0.0</td>\n",
       "      <td>0.0</td>\n",
       "      <td>0.0</td>\n",
       "      <td>2.0</td>\n",
       "      <td>64.000000</td>\n",
       "      <td>0.000000</td>\n",
       "      <td>0.100000</td>\n",
       "      <td>0.0</td>\n",
       "      <td>0.0</td>\n",
       "      <td>2</td>\n",
       "      <td>2</td>\n",
       "      <td>1</td>\n",
       "      <td>2</td>\n",
       "      <td>0</td>\n",
       "      <td>0</td>\n",
       "      <td>1</td>\n",
       "      <td>2</td>\n",
       "      <td>0</td>\n",
       "      <td>0</td>\n",
       "    </tr>\n",
       "    <tr>\n",
       "      <th>3</th>\n",
       "      <td>0.0</td>\n",
       "      <td>0.0</td>\n",
       "      <td>0.0</td>\n",
       "      <td>0.0</td>\n",
       "      <td>2.0</td>\n",
       "      <td>2.666667</td>\n",
       "      <td>0.050000</td>\n",
       "      <td>0.140000</td>\n",
       "      <td>0.0</td>\n",
       "      <td>0.0</td>\n",
       "      <td>3</td>\n",
       "      <td>2</td>\n",
       "      <td>2</td>\n",
       "      <td>4</td>\n",
       "      <td>0</td>\n",
       "      <td>0</td>\n",
       "      <td>1</td>\n",
       "      <td>2</td>\n",
       "      <td>0</td>\n",
       "      <td>0</td>\n",
       "    </tr>\n",
       "    <tr>\n",
       "      <th>4</th>\n",
       "      <td>0.0</td>\n",
       "      <td>0.0</td>\n",
       "      <td>0.0</td>\n",
       "      <td>0.0</td>\n",
       "      <td>10.0</td>\n",
       "      <td>627.500000</td>\n",
       "      <td>0.020000</td>\n",
       "      <td>0.050000</td>\n",
       "      <td>0.0</td>\n",
       "      <td>0.0</td>\n",
       "      <td>3</td>\n",
       "      <td>3</td>\n",
       "      <td>1</td>\n",
       "      <td>4</td>\n",
       "      <td>0</td>\n",
       "      <td>0</td>\n",
       "      <td>1</td>\n",
       "      <td>2</td>\n",
       "      <td>0</td>\n",
       "      <td>1</td>\n",
       "    </tr>\n",
       "    <tr>\n",
       "      <th>5</th>\n",
       "      <td>0.0</td>\n",
       "      <td>0.0</td>\n",
       "      <td>0.0</td>\n",
       "      <td>0.0</td>\n",
       "      <td>19.0</td>\n",
       "      <td>154.216667</td>\n",
       "      <td>0.015789</td>\n",
       "      <td>0.024561</td>\n",
       "      <td>0.0</td>\n",
       "      <td>0.0</td>\n",
       "      <td>2</td>\n",
       "      <td>2</td>\n",
       "      <td>1</td>\n",
       "      <td>3</td>\n",
       "      <td>0</td>\n",
       "      <td>0</td>\n",
       "      <td>1</td>\n",
       "      <td>2</td>\n",
       "      <td>0</td>\n",
       "      <td>0</td>\n",
       "    </tr>\n",
       "  </tbody>\n",
       "</table>\n",
       "</div>"
      ],
      "text/plain": [
       "   Administrative  Administrative_Duration  Informational  \\\n",
       "0             0.0                      0.0            0.0   \n",
       "1             0.0                      0.0            0.0   \n",
       "3             0.0                      0.0            0.0   \n",
       "4             0.0                      0.0            0.0   \n",
       "5             0.0                      0.0            0.0   \n",
       "\n",
       "   Informational_Duration  ProductRelated  ProductRelated_Duration  \\\n",
       "0                     0.0             1.0                 0.000000   \n",
       "1                     0.0             2.0                64.000000   \n",
       "3                     0.0             2.0                 2.666667   \n",
       "4                     0.0            10.0               627.500000   \n",
       "5                     0.0            19.0               154.216667   \n",
       "\n",
       "   BounceRates  ExitRates  PageValues  SpecialDay  OperatingSystems  Browser  \\\n",
       "0     0.200000   0.200000         0.0         0.0                 1        1   \n",
       "1     0.000000   0.100000         0.0         0.0                 2        2   \n",
       "3     0.050000   0.140000         0.0         0.0                 3        2   \n",
       "4     0.020000   0.050000         0.0         0.0                 3        3   \n",
       "5     0.015789   0.024561         0.0         0.0                 2        2   \n",
       "\n",
       "   Region  TrafficType  New_Visitor  Other  Returning_Visitor  MonthNum  \\\n",
       "0       1            1            0      0                  1         2   \n",
       "1       1            2            0      0                  1         2   \n",
       "3       2            4            0      0                  1         2   \n",
       "4       1            4            0      0                  1         2   \n",
       "5       1            3            0      0                  1         2   \n",
       "\n",
       "   Revenue_Num  Weekend_Num  \n",
       "0            0            0  \n",
       "1            0            0  \n",
       "3            0            0  \n",
       "4            0            1  \n",
       "5            0            0  "
      ]
     },
     "execution_count": 47,
     "metadata": {},
     "output_type": "execute_result"
    }
   ],
   "source": [
    "online.head()"
   ]
  },
  {
   "cell_type": "markdown",
   "metadata": {},
   "source": [
    "# Baseline Models - Page Values\n",
    "\n",
    "Chose one feature (highest correlation) to model with different class instances."
   ]
  },
  {
   "cell_type": "code",
   "execution_count": 48,
   "metadata": {},
   "outputs": [],
   "source": [
    "from sklearn.preprocessing import StandardScaler\n",
    "scaler = StandardScaler()"
   ]
  },
  {
   "cell_type": "code",
   "execution_count": 49,
   "metadata": {},
   "outputs": [],
   "source": [
    "X = online[['PageValues']]#, 'ProductRelated', 'ProductRelated_Duration', 'Administrative', 'Administrative_Duration', 'ExitRates', 'MonthNum']]\n",
    "\n",
    "y = online['Revenue_Num']"
   ]
  },
  {
   "cell_type": "code",
   "execution_count": 50,
   "metadata": {},
   "outputs": [],
   "source": [
    "X_train_val, X_test, y_train_val, y_test = train_test_split(X, y, test_size = 0.2, random_state = 24)"
   ]
  },
  {
   "cell_type": "code",
   "execution_count": 52,
   "metadata": {},
   "outputs": [],
   "source": [
    "from sklearn.neighbors import KNeighborsClassifier\n",
    "from sklearn.naive_bayes import GaussianNB\n",
    "from sklearn.svm import SVC\n",
    "from sklearn.tree import DecisionTreeClassifier\n",
    "from sklearn.ensemble import RandomForestClassifier"
   ]
  },
  {
   "cell_type": "code",
   "execution_count": 601,
   "metadata": {},
   "outputs": [],
   "source": [
    "model = []\n",
    "\n",
    "logreg = LogisticRegression(max_iter = 10000, class_weight={0: 1, 1: 5})\n",
    "model.append(logreg)\n",
    "\n",
    "knn = KNeighborsClassifier()\n",
    "model.append(knn)\n",
    "\n",
    "gmb = GaussianNB()\n",
    "model.append(gmb)\n",
    "\n",
    "svc = SVC(class_weight={0: 1, 1: 5})\n",
    "model.append(svc)\n",
    "\n",
    "dtc = DecisionTreeClassifier(class_weight={0: 1, 1: 5})#, max_depth=3,min_samples_leaf=0.1, min_samples_split=0.1)\n",
    "model.append(dtc)\n",
    "\n",
    "rfc = RandomForestClassifier(class_weight={0: 1, 1: 5})\n",
    "model.append(rfc)"
   ]
  },
  {
   "cell_type": "code",
   "execution_count": 602,
   "metadata": {},
   "outputs": [],
   "source": [
    "from collections import defaultdict"
   ]
  },
  {
   "cell_type": "code",
   "execution_count": 1036,
   "metadata": {},
   "outputs": [],
   "source": [
    "baseline_dict = defaultdict(list)\n",
    "for each in model:\n",
    "    scores = cross_validate(each, X_train_val, y_train_val, cv = 5, scoring = ['f1', 'accuracy', 'precision', 'recall'])\n",
    "    baseline_dict[str(each)]\n",
    "    y_pred = each.predict\n",
    "    for score in scores:\n",
    "        if score == 'fit_time' or score == 'score_time':\n",
    "            continue\n",
    "        else:\n",
    "            baseline_dict[str(each)].append(f'{score}: {np.mean(scores[score]): .4f}')"
   ]
  },
  {
   "cell_type": "code",
   "execution_count": 1037,
   "metadata": {},
   "outputs": [
    {
     "data": {
      "text/plain": [
       "defaultdict(list,\n",
       "            {'LogisticRegression(class_weight={0: 1, 1: 5}, max_iter=10000)': ['test_f1:  0.6697',\n",
       "              'test_accuracy:  0.9034',\n",
       "              'test_precision:  0.6682',\n",
       "              'test_recall:  0.6716'],\n",
       "             'KNeighborsClassifier()': ['test_f1:  0.6253',\n",
       "              'test_accuracy:  0.8979',\n",
       "              'test_precision:  0.6728',\n",
       "              'test_recall:  0.5843'],\n",
       "             'GaussianNB()': ['test_f1:  0.5373',\n",
       "              'test_accuracy:  0.8963',\n",
       "              'test_precision:  0.7674',\n",
       "              'test_recall:  0.4134'],\n",
       "             'SVC(class_weight={0: 1, 1: 5})': ['test_f1:  0.6810',\n",
       "              'test_accuracy:  0.8931',\n",
       "              'test_precision:  0.6036',\n",
       "              'test_recall:  0.7821'],\n",
       "             'DecisionTreeClassifier(class_weight={0: 1, 1: 5})': ['test_f1:  0.5835',\n",
       "              'test_accuracy:  0.8890',\n",
       "              'test_precision:  0.6445',\n",
       "              'test_recall:  0.5336'],\n",
       "             'RandomForestClassifier(class_weight={0: 1, 1: 5})': ['test_f1:  0.5835',\n",
       "              'test_accuracy:  0.8890',\n",
       "              'test_precision:  0.6445',\n",
       "              'test_recall:  0.5336']})"
      ]
     },
     "execution_count": 1037,
     "metadata": {},
     "output_type": "execute_result"
    }
   ],
   "source": [
    "baseline_dict"
   ]
  },
  {
   "cell_type": "markdown",
   "metadata": {},
   "source": [
    "It's quite clear that just having the 'PageValue' feature, we are achieving very high accuracy, moderate precision, and lower recall values among the models. Let's take a look at a comparison of the accuracy scores above with the null accuracy (accuracy that could be achieved by simply predicting the most frequent class)."
   ]
  },
  {
   "cell_type": "markdown",
   "metadata": {},
   "source": [
    "## Null Accuracy"
   ]
  },
  {
   "cell_type": "code",
   "execution_count": 57,
   "metadata": {
    "scrolled": true
   },
   "outputs": [
    {
     "data": {
      "text/plain": [
       "0    7857\n",
       "1    1340\n",
       "Name: Revenue_Num, dtype: int64"
      ]
     },
     "execution_count": 57,
     "metadata": {},
     "output_type": "execute_result"
    }
   ],
   "source": [
    "y_train_val.value_counts()"
   ]
  },
  {
   "cell_type": "code",
   "execution_count": 58,
   "metadata": {},
   "outputs": [
    {
     "data": {
      "text/plain": [
       "0.1456996846797869"
      ]
     },
     "execution_count": 58,
     "metadata": {},
     "output_type": "execute_result"
    }
   ],
   "source": [
    "# Percentage of 0's\n",
    "y_train_val.mean()"
   ]
  },
  {
   "cell_type": "code",
   "execution_count": 59,
   "metadata": {},
   "outputs": [
    {
     "data": {
      "text/plain": [
       "0.8543003153202131"
      ]
     },
     "execution_count": 59,
     "metadata": {},
     "output_type": "execute_result"
    }
   ],
   "source": [
    "# Percentage of 1's\n",
    "1 - y_train_val.mean()"
   ]
  },
  {
   "cell_type": "code",
   "execution_count": 60,
   "metadata": {},
   "outputs": [
    {
     "data": {
      "text/plain": [
       "0.8543003153202131"
      ]
     },
     "execution_count": 60,
     "metadata": {},
     "output_type": "execute_result"
    }
   ],
   "source": [
    "# calculates null accuracy\n",
    "\n",
    "max(y_train_val.mean(), 1 - y_train_val.mean())"
   ]
  },
  {
   "cell_type": "markdown",
   "metadata": {},
   "source": [
    "A dumb model that will always predict the majority class achieves an accuracy of 85%. Compared to our baseline models, it is a bit lower, but still very high. This obviously proves that we cannot solely rely on the accuracy score. Let's take a look at the confusion matricies below to see how well the model performed in terms of TP, TN, FP, FN."
   ]
  },
  {
   "cell_type": "markdown",
   "metadata": {},
   "source": [
    "Confusion Matrices for the different classes we instiantiated. "
   ]
  },
  {
   "cell_type": "code",
   "execution_count": 181,
   "metadata": {},
   "outputs": [
    {
     "data": {
      "text/plain": [
       "<sklearn.metrics._plot.confusion_matrix.ConfusionMatrixDisplay at 0x7fd358355850>"
      ]
     },
     "execution_count": 181,
     "metadata": {},
     "output_type": "execute_result"
    },
    {
     "data": {
      "image/png": "[encoded data removed]",
      "text/plain": [
       "<Figure size 432x288 with 2 Axes>"
      ]
     },
     "metadata": {
      "needs_background": "light"
     },
     "output_type": "display_data"
    }
   ],
   "source": [
    "plot_confusion_matrix(svc.fit(X_train_scaled, y_train_val), X_train_scaled, y_train_val, cmap = plt.cm.Blues)"
   ]
  },
  {
   "cell_type": "code",
   "execution_count": 61,
   "metadata": {},
   "outputs": [
    {
     "ename": "NameError",
     "evalue": "name 'y_train' is not defined",
     "output_type": "error",
     "traceback": [
      "\u001b[0;31m---------------------------------------------------------------------------\u001b[0m",
      "\u001b[0;31mNameError\u001b[0m                                 Traceback (most recent call last)",
      "\u001b[0;32m<ipython-input-61-0b35a4e66655>\u001b[0m in \u001b[0;36m<module>\u001b[0;34m\u001b[0m\n\u001b[1;32m      1\u001b[0m \u001b[0;32mfor\u001b[0m \u001b[0meach\u001b[0m \u001b[0;32min\u001b[0m \u001b[0mmodel\u001b[0m\u001b[0;34m:\u001b[0m\u001b[0;34m\u001b[0m\u001b[0;34m\u001b[0m\u001b[0m\n\u001b[0;32m----> 2\u001b[0;31m     \u001b[0mfitted\u001b[0m \u001b[0;34m=\u001b[0m \u001b[0meach\u001b[0m\u001b[0;34m.\u001b[0m\u001b[0mfit\u001b[0m\u001b[0;34m(\u001b[0m\u001b[0mX_train_scaled\u001b[0m\u001b[0;34m,\u001b[0m\u001b[0my_train\u001b[0m\u001b[0;34m)\u001b[0m\u001b[0;34m\u001b[0m\u001b[0;34m\u001b[0m\u001b[0m\n\u001b[0m\u001b[1;32m      3\u001b[0m     \u001b[0mdisp\u001b[0m \u001b[0;34m=\u001b[0m \u001b[0mplot_confusion_matrix\u001b[0m\u001b[0;34m(\u001b[0m\u001b[0mfitted\u001b[0m\u001b[0;34m,\u001b[0m \u001b[0mX_train_scaled\u001b[0m\u001b[0;34m,\u001b[0m \u001b[0my_train\u001b[0m\u001b[0;34m,\u001b[0m \u001b[0mcmap\u001b[0m\u001b[0;34m=\u001b[0m\u001b[0mplt\u001b[0m\u001b[0;34m.\u001b[0m\u001b[0mcm\u001b[0m\u001b[0;34m.\u001b[0m\u001b[0mBlues\u001b[0m\u001b[0;34m)\u001b[0m\u001b[0;34m\u001b[0m\u001b[0;34m\u001b[0m\u001b[0m\n\u001b[1;32m      4\u001b[0m     \u001b[0mdisp\u001b[0m\u001b[0;34m.\u001b[0m\u001b[0max_\u001b[0m\u001b[0;34m.\u001b[0m\u001b[0mset_title\u001b[0m\u001b[0;34m(\u001b[0m\u001b[0meach\u001b[0m\u001b[0;34m)\u001b[0m\u001b[0;34m\u001b[0m\u001b[0;34m\u001b[0m\u001b[0m\n",
      "\u001b[0;31mNameError\u001b[0m: name 'y_train' is not defined"
     ]
    }
   ],
   "source": [
    "for each in model:\n",
    "    fitted = each.fit(X_train_scaled,y_train)\n",
    "    disp = plot_confusion_matrix(fitted, X_train_scaled, y_train, cmap=plt.cm.Blues)\n",
    "    disp.ax_.set_title(each)"
   ]
  },
  {
   "cell_type": "code",
   "execution_count": null,
   "metadata": {},
   "outputs": [],
   "source": [
    "ax = plt.gca()\n",
    "for each in model:\n",
    "    plot_roc_curve(each, X_test, y_test, ax=ax, alpha=0.8)\n",
    "plt.show()"
   ]
  },
  {
   "cell_type": "markdown",
   "metadata": {},
   "source": [
    "## Adding in Add. Features\n",
    "\n",
    "Let's go ahead and add additonal features to see if we can bring up the precision and recall scores from our baseline models."
   ]
  },
  {
   "cell_type": "code",
   "execution_count": 1442,
   "metadata": {},
   "outputs": [],
   "source": [
    "X2 = online[['PageValues', 'ExitRates']] # 'ProductRelated', 'ProductRelated_Duration', 'Administrative', 'Administrative_Duration', 'ExitRates', 'MonthNum', 'New_Visitor']]\n",
    "\n",
    "y2 = online['Revenue_Num']"
   ]
  },
  {
   "cell_type": "code",
   "execution_count": 1443,
   "metadata": {},
   "outputs": [],
   "source": [
    "X2_train_val, X2_test, y_train_val, y_test = train_test_split(X2, y2, test_size = 0.2, random_state = 24)"
   ]
  },
  {
   "cell_type": "code",
   "execution_count": 1444,
   "metadata": {},
   "outputs": [],
   "source": [
    "X2_train_scaled = scaler.fit_transform(X2_train_val)"
   ]
  },
  {
   "cell_type": "code",
   "execution_count": 1433,
   "metadata": {},
   "outputs": [],
   "source": [
    "add_features_dict = defaultdict(list)\n",
    "for each in model:\n",
    "    scores = cross_validate(each, X2_train_scaled, y_train_val, cv = 5, scoring = ['f1', 'accuracy', 'precision', 'recall'])\n",
    "    add_features_dict[str(each)]\n",
    "    y_pred = each.predict\n",
    "    for score in scores:\n",
    "        if score == 'fit_time' or score == 'score_time':\n",
    "            continue\n",
    "        else:\n",
    "            add_features_dict[str(each)].append(f'{score}: {np.mean(scores[score]): .4f}')"
   ]
  },
  {
   "cell_type": "code",
   "execution_count": 1434,
   "metadata": {},
   "outputs": [
    {
     "data": {
      "text/plain": [
       "defaultdict(list,\n",
       "            {'LogisticRegression(class_weight={0: 1, 1: 5}, max_iter=10000)': ['test_f1:  0.6749',\n",
       "              'test_accuracy:  0.9033',\n",
       "              'test_precision:  0.6620',\n",
       "              'test_recall:  0.6888'],\n",
       "             'KNeighborsClassifier()': ['test_f1:  0.6229',\n",
       "              'test_accuracy:  0.8977',\n",
       "              'test_precision:  0.6737',\n",
       "              'test_recall:  0.5799'],\n",
       "             'GaussianNB()': ['test_f1:  0.5765',\n",
       "              'test_accuracy:  0.8994',\n",
       "              'test_precision:  0.7454',\n",
       "              'test_recall:  0.4701'],\n",
       "             'SVC(class_weight={0: 1, 1: 5})': ['test_f1:  0.6810',\n",
       "              'test_accuracy:  0.8945',\n",
       "              'test_precision:  0.6100',\n",
       "              'test_recall:  0.7716'],\n",
       "             'DecisionTreeClassifier(class_weight={0: 1, 1: 5})': ['test_f1:  0.5417',\n",
       "              'test_accuracy:  0.8670',\n",
       "              'test_precision:  0.5444',\n",
       "              'test_recall:  0.5396'],\n",
       "             'RandomForestClassifier(class_weight={0: 1, 1: 5})': ['test_f1:  0.5831',\n",
       "              'test_accuracy:  0.8797',\n",
       "              'test_precision:  0.5899',\n",
       "              'test_recall:  0.5769']})"
      ]
     },
     "execution_count": 1434,
     "metadata": {},
     "output_type": "execute_result"
    }
   ],
   "source": [
    "add_features_dict"
   ]
  },
  {
   "cell_type": "markdown",
   "metadata": {},
   "source": [
    "When added additional features, the RandomForestClassifier improved in all of its scores.\n",
    "When added additional features, LogisticRegression remained relatively stable with a slight drop in Recall Score."
   ]
  },
  {
   "cell_type": "markdown",
   "metadata": {},
   "source": [
    "## Adding in All Features\n",
    "\n",
    "Let's go ahead and add all features to see if we are able to get better scores for our models."
   ]
  },
  {
   "cell_type": "code",
   "execution_count": 610,
   "metadata": {
    "scrolled": true
   },
   "outputs": [
    {
     "data": {
      "text/plain": [
       "Index(['Administrative', 'Administrative_Duration', 'Informational',\n",
       "       'Informational_Duration', 'ProductRelated', 'ProductRelated_Duration',\n",
       "       'BounceRates', 'ExitRates', 'PageValues', 'SpecialDay',\n",
       "       'OperatingSystems', 'Browser', 'Region', 'TrafficType', 'New_Visitor',\n",
       "       'Other', 'Returning_Visitor', 'MonthNum', 'Revenue_Num', 'Weekend_Num'],\n",
       "      dtype='object')"
      ]
     },
     "execution_count": 610,
     "metadata": {},
     "output_type": "execute_result"
    }
   ],
   "source": [
    "online.columns"
   ]
  },
  {
   "cell_type": "code",
   "execution_count": 1453,
   "metadata": {},
   "outputs": [],
   "source": [
    "X3 = online[['Administrative', 'Administrative_Duration', 'Informational',\n",
    "       'Informational_Duration', 'ProductRelated', 'ProductRelated_Duration',\n",
    "       'BounceRates', 'ExitRates', 'PageValues', 'SpecialDay',\n",
    "       'New_Visitor',\n",
    "       'Other', 'Returning_Visitor', 'MonthNum', 'Weekend_Num']]\n",
    "\n",
    "y3 = online['Revenue_Num']"
   ]
  },
  {
   "cell_type": "code",
   "execution_count": 1454,
   "metadata": {},
   "outputs": [],
   "source": [
    "X3_train_val, X3_test, y_train_val, y_test = train_test_split(X3, y3, test_size = 0.2, random_state = 24)"
   ]
  },
  {
   "cell_type": "code",
   "execution_count": 1455,
   "metadata": {},
   "outputs": [],
   "source": [
    "X3_train_scaled = scaler.fit_transform(X3_train_val)"
   ]
  },
  {
   "cell_type": "code",
   "execution_count": 1456,
   "metadata": {},
   "outputs": [],
   "source": [
    "all_features_dict = defaultdict(list)\n",
    "for each in model:\n",
    "    scores = cross_validate(each, X3_train_scaled, y_train_val, cv = 5, scoring = ['f1', 'accuracy', 'precision', 'recall'])\n",
    "    all_features_dict[str(each)]\n",
    "    y_pred = each.predict\n",
    "    for score in scores:\n",
    "        if score == 'fit_time' or score == 'score_time':\n",
    "            continue\n",
    "        else:\n",
    "            all_features_dict[str(each)].append(f'{score}: {np.mean(scores[score]): .4f}')"
   ]
  },
  {
   "cell_type": "code",
   "execution_count": 1457,
   "metadata": {},
   "outputs": [
    {
     "data": {
      "text/plain": [
       "[LogisticRegression(class_weight={0: 1, 1: 5}, max_iter=10000),\n",
       " KNeighborsClassifier(),\n",
       " GaussianNB(),\n",
       " SVC(class_weight={0: 1, 1: 5}),\n",
       " DecisionTreeClassifier(class_weight={0: 1, 1: 5}),\n",
       " RandomForestClassifier(class_weight={0: 1, 1: 5})]"
      ]
     },
     "execution_count": 1457,
     "metadata": {},
     "output_type": "execute_result"
    }
   ],
   "source": [
    "model"
   ]
  },
  {
   "cell_type": "code",
   "execution_count": 1280,
   "metadata": {},
   "outputs": [
    {
     "data": {
      "text/plain": [
       "defaultdict(list,\n",
       "            {'LogisticRegression(class_weight={0: 1, 1: 5}, max_iter=10000)': ['test_f1:  0.6448',\n",
       "              'test_accuracy:  0.8858',\n",
       "              'test_precision:  0.5906',\n",
       "              'test_recall:  0.7104'],\n",
       "             'KNeighborsClassifier()': ['test_f1:  0.5389',\n",
       "              'test_accuracy:  0.8915',\n",
       "              'test_precision:  0.7066',\n",
       "              'test_recall:  0.4366'],\n",
       "             'GaussianNB()': ['test_f1:  0.4579',\n",
       "              'test_accuracy:  0.7557',\n",
       "              'test_precision:  0.3384',\n",
       "              'test_recall:  0.7082'],\n",
       "             'SVC(class_weight={0: 1, 1: 5})': ['test_f1:  0.6489',\n",
       "              'test_accuracy:  0.8844',\n",
       "              'test_precision:  0.5825',\n",
       "              'test_recall:  0.7328'],\n",
       "             'DecisionTreeClassifier(class_weight={0: 1, 1: 5})': ['test_f1:  0.5548',\n",
       "              'test_accuracy:  0.8725',\n",
       "              'test_precision:  0.5651',\n",
       "              'test_recall:  0.5455'],\n",
       "             'RandomForestClassifier(class_weight={0: 1, 1: 5})': ['test_f1:  0.6349',\n",
       "              'test_accuracy:  0.9084',\n",
       "              'test_precision:  0.7603',\n",
       "              'test_recall:  0.5463']})"
      ]
     },
     "execution_count": 1280,
     "metadata": {},
     "output_type": "execute_result"
    }
   ],
   "source": [
    "all_features_dict"
   ]
  },
  {
   "cell_type": "code",
   "execution_count": 1164,
   "metadata": {},
   "outputs": [
    {
     "data": {
      "text/plain": [
       "defaultdict(list,\n",
       "            {'LogisticRegression(class_weight={0: 1, 1: 5}, max_iter=10000)': ['test_f1:  0.6749',\n",
       "              'test_accuracy:  0.9033',\n",
       "              'test_precision:  0.6620',\n",
       "              'test_recall:  0.6888'],\n",
       "             'KNeighborsClassifier()': ['test_f1:  0.6229',\n",
       "              'test_accuracy:  0.8977',\n",
       "              'test_precision:  0.6737',\n",
       "              'test_recall:  0.5799'],\n",
       "             'GaussianNB()': ['test_f1:  0.5765',\n",
       "              'test_accuracy:  0.8994',\n",
       "              'test_precision:  0.7454',\n",
       "              'test_recall:  0.4701'],\n",
       "             'SVC(class_weight={0: 1, 1: 5})': ['test_f1:  0.6810',\n",
       "              'test_accuracy:  0.8945',\n",
       "              'test_precision:  0.6100',\n",
       "              'test_recall:  0.7716'],\n",
       "             'DecisionTreeClassifier(class_weight={0: 1, 1: 5})': ['test_f1:  0.5412',\n",
       "              'test_accuracy:  0.8672',\n",
       "              'test_precision:  0.5451',\n",
       "              'test_recall:  0.5381'],\n",
       "             'RandomForestClassifier(class_weight={0: 1, 1: 5})': ['test_f1:  0.5742',\n",
       "              'test_accuracy:  0.8785',\n",
       "              'test_precision:  0.5872',\n",
       "              'test_recall:  0.5619']})"
      ]
     },
     "execution_count": 1164,
     "metadata": {},
     "output_type": "execute_result"
    }
   ],
   "source": [
    "add_features_dict"
   ]
  },
  {
   "cell_type": "code",
   "execution_count": 1165,
   "metadata": {},
   "outputs": [
    {
     "data": {
      "text/plain": [
       "defaultdict(list,\n",
       "            {'LogisticRegression(class_weight={0: 1, 1: 5}, max_iter=10000)': ['test_f1:  0.6697',\n",
       "              'test_accuracy:  0.9034',\n",
       "              'test_precision:  0.6682',\n",
       "              'test_recall:  0.6716'],\n",
       "             'KNeighborsClassifier()': ['test_f1:  0.6253',\n",
       "              'test_accuracy:  0.8979',\n",
       "              'test_precision:  0.6728',\n",
       "              'test_recall:  0.5843'],\n",
       "             'GaussianNB()': ['test_f1:  0.5373',\n",
       "              'test_accuracy:  0.8963',\n",
       "              'test_precision:  0.7674',\n",
       "              'test_recall:  0.4134'],\n",
       "             'SVC(class_weight={0: 1, 1: 5})': ['test_f1:  0.6810',\n",
       "              'test_accuracy:  0.8931',\n",
       "              'test_precision:  0.6036',\n",
       "              'test_recall:  0.7821'],\n",
       "             'DecisionTreeClassifier(class_weight={0: 1, 1: 5})': ['test_f1:  0.5835',\n",
       "              'test_accuracy:  0.8890',\n",
       "              'test_precision:  0.6445',\n",
       "              'test_recall:  0.5336'],\n",
       "             'RandomForestClassifier(class_weight={0: 1, 1: 5})': ['test_f1:  0.5835',\n",
       "              'test_accuracy:  0.8890',\n",
       "              'test_precision:  0.6445',\n",
       "              'test_recall:  0.5336']})"
      ]
     },
     "execution_count": 1165,
     "metadata": {},
     "output_type": "execute_result"
    }
   ],
   "source": [
    "baseline_dict"
   ]
  },
  {
   "cell_type": "markdown",
   "metadata": {},
   "source": [
    "# NEED TO EDIT THIS PART."
   ]
  },
  {
   "cell_type": "code",
   "execution_count": 619,
   "metadata": {},
   "outputs": [],
   "source": [
    "# Logistic Regression - 2 Features with weight.\n",
    "best_log = ['test_f1:  0.6764',\n",
    "              'test_accuracy:  0.9038',\n",
    "              'test_precision:  0.6645',\n",
    "              'test_recall:  0.6903']"
   ]
  },
  {
   "cell_type": "code",
   "execution_count": null,
   "metadata": {},
   "outputs": [],
   "source": [
    "# KNeighborsClassifier - 1 Feature\n",
    "['test_f1:  0.6253',\n",
    " 'test_accuracy:  0.8979',\n",
    " 'test_precision:  0.6728',\n",
    " 'test_recall:  0.5843']"
   ]
  },
  {
   "cell_type": "code",
   "execution_count": null,
   "metadata": {},
   "outputs": [],
   "source": [
    "# GaussianNB - Add Features\n",
    "\n",
    "['test_f1:  0.5384',\n",
    " 'test_accuracy:  0.8541',\n",
    " 'test_precision:  0.5014',\n",
    " 'test_recall:  0.5836']"
   ]
  },
  {
   "cell_type": "code",
   "execution_count": 1097,
   "metadata": {},
   "outputs": [],
   "source": [
    "# SVC - 1 Features with Weight.\n",
    "\n",
    "best_svc = ['test_f1:  0.6810',\n",
    "              'test_accuracy:  0.8931',\n",
    "              'test_precision:  0.6036',\n",
    "              'test_recall:  0.7821']"
   ]
  },
  {
   "cell_type": "markdown",
   "metadata": {},
   "source": [
    "**SVC** has the highest F1 score - I want to see if I would be able to increase the F1 score by tuning the hyperparameters and adjusting class weights."
   ]
  },
  {
   "cell_type": "code",
   "execution_count": 253,
   "metadata": {},
   "outputs": [],
   "source": [
    "# DecisionTreeClassifier - 1 Feature\n",
    "['test_f1:  0.6483',\n",
    " 'test_accuracy:  0.9020',\n",
    " 'test_precision:  0.6809',\n",
    " 'test_recall:  0.6216']"
   ]
  },
  {
   "cell_type": "code",
   "execution_count": 681,
   "metadata": {},
   "outputs": [],
   "source": [
    "# RandomForestClassifier 1 - Feature\n",
    "\n",
    "best_rfc = ['test_f1:  0.6419',\n",
    "              'test_accuracy:  0.9087',\n",
    "              'test_precision:  0.7514',\n",
    "              'test_recall:  0.5619']"
   ]
  },
  {
   "cell_type": "markdown",
   "metadata": {},
   "source": [
    "## Tuning SVC"
   ]
  },
  {
   "cell_type": "code",
   "execution_count": 1098,
   "metadata": {
    "scrolled": true
   },
   "outputs": [
    {
     "data": {
      "text/plain": [
       "['test_f1:  0.6810',\n",
       " 'test_accuracy:  0.8931',\n",
       " 'test_precision:  0.6036',\n",
       " 'test_recall:  0.7821']"
      ]
     },
     "execution_count": 1098,
     "metadata": {},
     "output_type": "execute_result"
    }
   ],
   "source": [
    "best_svc"
   ]
  },
  {
   "cell_type": "code",
   "execution_count": 808,
   "metadata": {},
   "outputs": [],
   "source": [
    "svc_weight = SVC(class_weight={0: 1, 1: 5}, C = 0.1, gamma = 1)"
   ]
  },
  {
   "cell_type": "code",
   "execution_count": 1099,
   "metadata": {
    "scrolled": true
   },
   "outputs": [
    {
     "data": {
      "text/plain": [
       "SVC(C=0.1, class_weight={0: 1, 1: 5}, gamma=1)"
      ]
     },
     "execution_count": 1099,
     "metadata": {},
     "output_type": "execute_result"
    }
   ],
   "source": [
    "svc_weight.fit(X_train_val, y_train_val)"
   ]
  },
  {
   "cell_type": "code",
   "execution_count": 1100,
   "metadata": {},
   "outputs": [],
   "source": [
    "_ = cross_validate(svc_weight, X_train_val, y_train_val, cv = 5, scoring = ['f1', 'accuracy', 'precision', 'recall'])"
   ]
  },
  {
   "cell_type": "code",
   "execution_count": 1101,
   "metadata": {},
   "outputs": [],
   "source": [
    "svc_weight_scores = []\n",
    "for score in _:\n",
    "    svc_weight_scores.append(f'{score}: {np.mean(_[score]): .4f}')   "
   ]
  },
  {
   "cell_type": "code",
   "execution_count": 1102,
   "metadata": {
    "scrolled": true
   },
   "outputs": [
    {
     "data": {
      "text/plain": [
       "['fit_time:  0.2970',\n",
       " 'score_time:  0.0502',\n",
       " 'test_f1:  0.6837',\n",
       " 'test_accuracy:  0.8911',\n",
       " 'test_precision:  0.5938',\n",
       " 'test_recall:  0.8067']"
      ]
     },
     "execution_count": 1102,
     "metadata": {},
     "output_type": "execute_result"
    }
   ],
   "source": [
    "svc_weight_scores"
   ]
  },
  {
   "cell_type": "markdown",
   "metadata": {},
   "source": [
    "Used GridSearchCV to find the best hyperparameters to increase my F1 score for SVC."
   ]
  },
  {
   "cell_type": "code",
   "execution_count": 626,
   "metadata": {
    "scrolled": true
   },
   "outputs": [
    {
     "name": "stdout",
     "output_type": "stream",
     "text": [
      "Fitting 5 folds for each of 48 candidates, totalling 240 fits\n",
      "[CV] C=0.1, gamma=1, kernel=rbf ......................................\n"
     ]
    },
    {
     "name": "stderr",
     "output_type": "stream",
     "text": [
      "[Parallel(n_jobs=1)]: Using backend SequentialBackend with 1 concurrent workers.\n"
     ]
    },
    {
     "name": "stdout",
     "output_type": "stream",
     "text": [
      "[CV] .......... C=0.1, gamma=1, kernel=rbf, score=0.708, total=   0.6s\n",
      "[CV] C=0.1, gamma=1, kernel=rbf ......................................\n"
     ]
    },
    {
     "name": "stderr",
     "output_type": "stream",
     "text": [
      "[Parallel(n_jobs=1)]: Done   1 out of   1 | elapsed:    0.6s remaining:    0.0s\n"
     ]
    },
    {
     "name": "stdout",
     "output_type": "stream",
     "text": [
      "[CV] .......... C=0.1, gamma=1, kernel=rbf, score=0.660, total=   0.5s\n",
      "[CV] C=0.1, gamma=1, kernel=rbf ......................................\n"
     ]
    },
    {
     "name": "stderr",
     "output_type": "stream",
     "text": [
      "[Parallel(n_jobs=1)]: Done   2 out of   2 | elapsed:    1.1s remaining:    0.0s\n"
     ]
    },
    {
     "name": "stdout",
     "output_type": "stream",
     "text": [
      "[CV] .......... C=0.1, gamma=1, kernel=rbf, score=0.681, total=   0.6s\n",
      "[CV] C=0.1, gamma=1, kernel=rbf ......................................\n",
      "[CV] .......... C=0.1, gamma=1, kernel=rbf, score=0.677, total=   0.6s\n",
      "[CV] C=0.1, gamma=1, kernel=rbf ......................................\n",
      "[CV] .......... C=0.1, gamma=1, kernel=rbf, score=0.695, total=   0.8s\n",
      "[CV] C=0.1, gamma=0.1, kernel=rbf ....................................\n",
      "[CV] ........ C=0.1, gamma=0.1, kernel=rbf, score=0.684, total=   0.6s\n",
      "[CV] C=0.1, gamma=0.1, kernel=rbf ....................................\n",
      "[CV] ........ C=0.1, gamma=0.1, kernel=rbf, score=0.653, total=   0.6s\n",
      "[CV] C=0.1, gamma=0.1, kernel=rbf ....................................\n",
      "[CV] ........ C=0.1, gamma=0.1, kernel=rbf, score=0.681, total=   0.6s\n",
      "[CV] C=0.1, gamma=0.1, kernel=rbf ....................................\n",
      "[CV] ........ C=0.1, gamma=0.1, kernel=rbf, score=0.680, total=   0.6s\n",
      "[CV] C=0.1, gamma=0.1, kernel=rbf ....................................\n",
      "[CV] ........ C=0.1, gamma=0.1, kernel=rbf, score=0.699, total=   0.6s\n",
      "[CV] C=0.1, gamma=0.01, kernel=rbf ...................................\n",
      "[CV] ....... C=0.1, gamma=0.01, kernel=rbf, score=0.653, total=   0.7s\n",
      "[CV] C=0.1, gamma=0.01, kernel=rbf ...................................\n",
      "[CV] ....... C=0.1, gamma=0.01, kernel=rbf, score=0.632, total=   0.6s\n",
      "[CV] C=0.1, gamma=0.01, kernel=rbf ...................................\n",
      "[CV] ....... C=0.1, gamma=0.01, kernel=rbf, score=0.659, total=   0.7s\n",
      "[CV] C=0.1, gamma=0.01, kernel=rbf ...................................\n",
      "[CV] ....... C=0.1, gamma=0.01, kernel=rbf, score=0.664, total=   0.6s\n",
      "[CV] C=0.1, gamma=0.01, kernel=rbf ...................................\n",
      "[CV] ....... C=0.1, gamma=0.01, kernel=rbf, score=0.667, total=   0.7s\n",
      "[CV] C=0.1, gamma=0.001, kernel=rbf ..................................\n",
      "[CV] ...... C=0.1, gamma=0.001, kernel=rbf, score=0.545, total=   0.9s\n",
      "[CV] C=0.1, gamma=0.001, kernel=rbf ..................................\n",
      "[CV] ...... C=0.1, gamma=0.001, kernel=rbf, score=0.500, total=   0.9s\n",
      "[CV] C=0.1, gamma=0.001, kernel=rbf ..................................\n",
      "[CV] ...... C=0.1, gamma=0.001, kernel=rbf, score=0.502, total=   0.9s\n",
      "[CV] C=0.1, gamma=0.001, kernel=rbf ..................................\n",
      "[CV] ...... C=0.1, gamma=0.001, kernel=rbf, score=0.500, total=   0.9s\n",
      "[CV] C=0.1, gamma=0.001, kernel=rbf ..................................\n",
      "[CV] ...... C=0.1, gamma=0.001, kernel=rbf, score=0.515, total=   0.9s\n",
      "[CV] C=0.1, gamma=0.0001, kernel=rbf .................................\n",
      "[CV] ..... C=0.1, gamma=0.0001, kernel=rbf, score=0.065, total=   1.1s\n",
      "[CV] C=0.1, gamma=0.0001, kernel=rbf .................................\n",
      "[CV] ..... C=0.1, gamma=0.0001, kernel=rbf, score=0.036, total=   1.1s\n",
      "[CV] C=0.1, gamma=0.0001, kernel=rbf .................................\n",
      "[CV] ..... C=0.1, gamma=0.0001, kernel=rbf, score=0.051, total=   1.0s\n",
      "[CV] C=0.1, gamma=0.0001, kernel=rbf .................................\n",
      "[CV] ..... C=0.1, gamma=0.0001, kernel=rbf, score=0.007, total=   1.2s\n",
      "[CV] C=0.1, gamma=0.0001, kernel=rbf .................................\n",
      "[CV] ..... C=0.1, gamma=0.0001, kernel=rbf, score=0.029, total=   1.0s\n",
      "[CV] C=0.1, gamma=scale, kernel=rbf ..................................\n",
      "[CV] ...... C=0.1, gamma=scale, kernel=rbf, score=0.705, total=   0.5s\n",
      "[CV] C=0.1, gamma=scale, kernel=rbf ..................................\n",
      "[CV] ...... C=0.1, gamma=scale, kernel=rbf, score=0.660, total=   0.5s\n",
      "[CV] C=0.1, gamma=scale, kernel=rbf ..................................\n",
      "[CV] ...... C=0.1, gamma=scale, kernel=rbf, score=0.681, total=   0.5s\n",
      "[CV] C=0.1, gamma=scale, kernel=rbf ..................................\n",
      "[CV] ...... C=0.1, gamma=scale, kernel=rbf, score=0.677, total=   0.5s\n",
      "[CV] C=0.1, gamma=scale, kernel=rbf ..................................\n",
      "[CV] ...... C=0.1, gamma=scale, kernel=rbf, score=0.697, total=   0.5s\n",
      "[CV] C=0.2, gamma=1, kernel=rbf ......................................\n",
      "[CV] .......... C=0.2, gamma=1, kernel=rbf, score=0.703, total=   0.8s\n",
      "[CV] C=0.2, gamma=1, kernel=rbf ......................................\n",
      "[CV] .......... C=0.2, gamma=1, kernel=rbf, score=0.661, total=   0.5s\n",
      "[CV] C=0.2, gamma=1, kernel=rbf ......................................\n",
      "[CV] .......... C=0.2, gamma=1, kernel=rbf, score=0.678, total=   0.4s\n",
      "[CV] C=0.2, gamma=1, kernel=rbf ......................................\n",
      "[CV] .......... C=0.2, gamma=1, kernel=rbf, score=0.681, total=   0.7s\n",
      "[CV] C=0.2, gamma=1, kernel=rbf ......................................\n",
      "[CV] .......... C=0.2, gamma=1, kernel=rbf, score=0.692, total=   0.7s\n",
      "[CV] C=0.2, gamma=0.1, kernel=rbf ....................................\n",
      "[CV] ........ C=0.2, gamma=0.1, kernel=rbf, score=0.683, total=   0.6s\n",
      "[CV] C=0.2, gamma=0.1, kernel=rbf ....................................\n",
      "[CV] ........ C=0.2, gamma=0.1, kernel=rbf, score=0.651, total=   0.4s\n",
      "[CV] C=0.2, gamma=0.1, kernel=rbf ....................................\n",
      "[CV] ........ C=0.2, gamma=0.1, kernel=rbf, score=0.689, total=   0.4s\n",
      "[CV] C=0.2, gamma=0.1, kernel=rbf ....................................\n",
      "[CV] ........ C=0.2, gamma=0.1, kernel=rbf, score=0.681, total=   0.4s\n",
      "[CV] C=0.2, gamma=0.1, kernel=rbf ....................................\n",
      "[CV] ........ C=0.2, gamma=0.1, kernel=rbf, score=0.695, total=   0.6s\n",
      "[CV] C=0.2, gamma=0.01, kernel=rbf ...................................\n",
      "[CV] ....... C=0.2, gamma=0.01, kernel=rbf, score=0.665, total=   0.5s\n",
      "[CV] C=0.2, gamma=0.01, kernel=rbf ...................................\n",
      "[CV] ....... C=0.2, gamma=0.01, kernel=rbf, score=0.631, total=   0.5s\n",
      "[CV] C=0.2, gamma=0.01, kernel=rbf ...................................\n",
      "[CV] ....... C=0.2, gamma=0.01, kernel=rbf, score=0.677, total=   0.5s\n",
      "[CV] C=0.2, gamma=0.01, kernel=rbf ...................................\n",
      "[CV] ....... C=0.2, gamma=0.01, kernel=rbf, score=0.662, total=   0.6s\n",
      "[CV] C=0.2, gamma=0.01, kernel=rbf ...................................\n",
      "[CV] ....... C=0.2, gamma=0.01, kernel=rbf, score=0.678, total=   0.5s\n",
      "[CV] C=0.2, gamma=0.001, kernel=rbf ..................................\n",
      "[CV] ...... C=0.2, gamma=0.001, kernel=rbf, score=0.603, total=   1.0s\n",
      "[CV] C=0.2, gamma=0.001, kernel=rbf ..................................\n",
      "[CV] ...... C=0.2, gamma=0.001, kernel=rbf, score=0.555, total=   0.8s\n",
      "[CV] C=0.2, gamma=0.001, kernel=rbf ..................................\n",
      "[CV] ...... C=0.2, gamma=0.001, kernel=rbf, score=0.590, total=   0.7s\n",
      "[CV] C=0.2, gamma=0.001, kernel=rbf ..................................\n",
      "[CV] ...... C=0.2, gamma=0.001, kernel=rbf, score=0.554, total=   1.0s\n",
      "[CV] C=0.2, gamma=0.001, kernel=rbf ..................................\n",
      "[CV] ...... C=0.2, gamma=0.001, kernel=rbf, score=0.549, total=   0.7s\n",
      "[CV] C=0.2, gamma=0.0001, kernel=rbf .................................\n",
      "[CV] ..... C=0.2, gamma=0.0001, kernel=rbf, score=0.175, total=   0.9s\n",
      "[CV] C=0.2, gamma=0.0001, kernel=rbf .................................\n",
      "[CV] ..... C=0.2, gamma=0.0001, kernel=rbf, score=0.149, total=   0.8s\n",
      "[CV] C=0.2, gamma=0.0001, kernel=rbf .................................\n",
      "[CV] ..... C=0.2, gamma=0.0001, kernel=rbf, score=0.168, total=   0.8s\n",
      "[CV] C=0.2, gamma=0.0001, kernel=rbf .................................\n",
      "[CV] ..... C=0.2, gamma=0.0001, kernel=rbf, score=0.131, total=   1.0s\n",
      "[CV] C=0.2, gamma=0.0001, kernel=rbf .................................\n",
      "[CV] ..... C=0.2, gamma=0.0001, kernel=rbf, score=0.167, total=   0.9s\n",
      "[CV] C=0.2, gamma=scale, kernel=rbf ..................................\n",
      "[CV] ...... C=0.2, gamma=scale, kernel=rbf, score=0.703, total=   0.4s\n",
      "[CV] C=0.2, gamma=scale, kernel=rbf ..................................\n",
      "[CV] ...... C=0.2, gamma=scale, kernel=rbf, score=0.661, total=   0.4s\n",
      "[CV] C=0.2, gamma=scale, kernel=rbf ..................................\n",
      "[CV] ...... C=0.2, gamma=scale, kernel=rbf, score=0.680, total=   0.4s\n",
      "[CV] C=0.2, gamma=scale, kernel=rbf ..................................\n",
      "[CV] ...... C=0.2, gamma=scale, kernel=rbf, score=0.681, total=   0.6s\n",
      "[CV] C=0.2, gamma=scale, kernel=rbf ..................................\n",
      "[CV] ...... C=0.2, gamma=scale, kernel=rbf, score=0.692, total=   0.7s\n",
      "[CV] C=0.3, gamma=1, kernel=rbf ......................................\n",
      "[CV] .......... C=0.3, gamma=1, kernel=rbf, score=0.701, total=   0.5s\n",
      "[CV] C=0.3, gamma=1, kernel=rbf ......................................\n",
      "[CV] .......... C=0.3, gamma=1, kernel=rbf, score=0.660, total=   0.6s\n",
      "[CV] C=0.3, gamma=1, kernel=rbf ......................................\n",
      "[CV] .......... C=0.3, gamma=1, kernel=rbf, score=0.678, total=   0.7s\n",
      "[CV] C=0.3, gamma=1, kernel=rbf ......................................\n",
      "[CV] .......... C=0.3, gamma=1, kernel=rbf, score=0.682, total=   0.8s\n",
      "[CV] C=0.3, gamma=1, kernel=rbf ......................................\n",
      "[CV] .......... C=0.3, gamma=1, kernel=rbf, score=0.690, total=   0.6s\n",
      "[CV] C=0.3, gamma=0.1, kernel=rbf ....................................\n",
      "[CV] ........ C=0.3, gamma=0.1, kernel=rbf, score=0.689, total=   0.6s\n",
      "[CV] C=0.3, gamma=0.1, kernel=rbf ....................................\n",
      "[CV] ........ C=0.3, gamma=0.1, kernel=rbf, score=0.652, total=   0.5s\n",
      "[CV] C=0.3, gamma=0.1, kernel=rbf ....................................\n",
      "[CV] ........ C=0.3, gamma=0.1, kernel=rbf, score=0.690, total=   0.5s\n",
      "[CV] C=0.3, gamma=0.1, kernel=rbf ....................................\n",
      "[CV] ........ C=0.3, gamma=0.1, kernel=rbf, score=0.680, total=   0.4s\n",
      "[CV] C=0.3, gamma=0.1, kernel=rbf ....................................\n",
      "[CV] ........ C=0.3, gamma=0.1, kernel=rbf, score=0.696, total=   0.5s\n",
      "[CV] C=0.3, gamma=0.01, kernel=rbf ...................................\n",
      "[CV] ....... C=0.3, gamma=0.01, kernel=rbf, score=0.669, total=   0.6s\n",
      "[CV] C=0.3, gamma=0.01, kernel=rbf ...................................\n",
      "[CV] ....... C=0.3, gamma=0.01, kernel=rbf, score=0.639, total=   1.0s\n",
      "[CV] C=0.3, gamma=0.01, kernel=rbf ...................................\n",
      "[CV] ....... C=0.3, gamma=0.01, kernel=rbf, score=0.672, total=   0.6s\n",
      "[CV] C=0.3, gamma=0.01, kernel=rbf ...................................\n",
      "[CV] ....... C=0.3, gamma=0.01, kernel=rbf, score=0.669, total=   0.5s\n",
      "[CV] C=0.3, gamma=0.01, kernel=rbf ...................................\n",
      "[CV] ....... C=0.3, gamma=0.01, kernel=rbf, score=0.679, total=   0.5s\n",
      "[CV] C=0.3, gamma=0.001, kernel=rbf ..................................\n",
      "[CV] ...... C=0.3, gamma=0.001, kernel=rbf, score=0.620, total=   0.6s\n",
      "[CV] C=0.3, gamma=0.001, kernel=rbf ..................................\n",
      "[CV] ...... C=0.3, gamma=0.001, kernel=rbf, score=0.587, total=   0.6s\n",
      "[CV] C=0.3, gamma=0.001, kernel=rbf ..................................\n",
      "[CV] ...... C=0.3, gamma=0.001, kernel=rbf, score=0.617, total=   0.6s\n",
      "[CV] C=0.3, gamma=0.001, kernel=rbf ..................................\n",
      "[CV] ...... C=0.3, gamma=0.001, kernel=rbf, score=0.580, total=   0.6s\n",
      "[CV] C=0.3, gamma=0.001, kernel=rbf ..................................\n",
      "[CV] ...... C=0.3, gamma=0.001, kernel=rbf, score=0.607, total=   0.6s\n",
      "[CV] C=0.3, gamma=0.0001, kernel=rbf .................................\n",
      "[CV] ..... C=0.3, gamma=0.0001, kernel=rbf, score=0.337, total=   0.9s\n",
      "[CV] C=0.3, gamma=0.0001, kernel=rbf .................................\n",
      "[CV] ..... C=0.3, gamma=0.0001, kernel=rbf, score=0.299, total=   1.2s\n",
      "[CV] C=0.3, gamma=0.0001, kernel=rbf .................................\n",
      "[CV] ..... C=0.3, gamma=0.0001, kernel=rbf, score=0.265, total=   0.9s\n",
      "[CV] C=0.3, gamma=0.0001, kernel=rbf .................................\n",
      "[CV] ..... C=0.3, gamma=0.0001, kernel=rbf, score=0.259, total=   0.8s\n",
      "[CV] C=0.3, gamma=0.0001, kernel=rbf .................................\n",
      "[CV] ..... C=0.3, gamma=0.0001, kernel=rbf, score=0.283, total=   0.8s\n",
      "[CV] C=0.3, gamma=scale, kernel=rbf ..................................\n",
      "[CV] ...... C=0.3, gamma=scale, kernel=rbf, score=0.701, total=   0.4s\n",
      "[CV] C=0.3, gamma=scale, kernel=rbf ..................................\n",
      "[CV] ...... C=0.3, gamma=scale, kernel=rbf, score=0.660, total=   0.5s\n",
      "[CV] C=0.3, gamma=scale, kernel=rbf ..................................\n",
      "[CV] ...... C=0.3, gamma=scale, kernel=rbf, score=0.680, total=   0.5s\n",
      "[CV] C=0.3, gamma=scale, kernel=rbf ..................................\n",
      "[CV] ...... C=0.3, gamma=scale, kernel=rbf, score=0.678, total=   0.4s\n",
      "[CV] C=0.3, gamma=scale, kernel=rbf ..................................\n",
      "[CV] ...... C=0.3, gamma=scale, kernel=rbf, score=0.691, total=   0.4s\n",
      "[CV] C=0.4, gamma=1, kernel=rbf ......................................\n",
      "[CV] .......... C=0.4, gamma=1, kernel=rbf, score=0.701, total=   0.4s\n",
      "[CV] C=0.4, gamma=1, kernel=rbf ......................................\n",
      "[CV] .......... C=0.4, gamma=1, kernel=rbf, score=0.660, total=   0.4s\n",
      "[CV] C=0.4, gamma=1, kernel=rbf ......................................\n",
      "[CV] .......... C=0.4, gamma=1, kernel=rbf, score=0.679, total=   0.4s\n",
      "[CV] C=0.4, gamma=1, kernel=rbf ......................................\n",
      "[CV] .......... C=0.4, gamma=1, kernel=rbf, score=0.682, total=   0.4s\n",
      "[CV] C=0.4, gamma=1, kernel=rbf ......................................\n",
      "[CV] .......... C=0.4, gamma=1, kernel=rbf, score=0.693, total=   0.4s\n",
      "[CV] C=0.4, gamma=0.1, kernel=rbf ....................................\n",
      "[CV] ........ C=0.4, gamma=0.1, kernel=rbf, score=0.687, total=   0.4s\n",
      "[CV] C=0.4, gamma=0.1, kernel=rbf ....................................\n",
      "[CV] ........ C=0.4, gamma=0.1, kernel=rbf, score=0.653, total=   0.5s\n",
      "[CV] C=0.4, gamma=0.1, kernel=rbf ....................................\n",
      "[CV] ........ C=0.4, gamma=0.1, kernel=rbf, score=0.690, total=   0.5s\n",
      "[CV] C=0.4, gamma=0.1, kernel=rbf ....................................\n",
      "[CV] ........ C=0.4, gamma=0.1, kernel=rbf, score=0.678, total=   0.5s\n",
      "[CV] C=0.4, gamma=0.1, kernel=rbf ....................................\n",
      "[CV] ........ C=0.4, gamma=0.1, kernel=rbf, score=0.696, total=   0.7s\n",
      "[CV] C=0.4, gamma=0.01, kernel=rbf ...................................\n",
      "[CV] ....... C=0.4, gamma=0.01, kernel=rbf, score=0.670, total=   0.8s\n",
      "[CV] C=0.4, gamma=0.01, kernel=rbf ...................................\n",
      "[CV] ....... C=0.4, gamma=0.01, kernel=rbf, score=0.654, total=   0.5s\n",
      "[CV] C=0.4, gamma=0.01, kernel=rbf ...................................\n",
      "[CV] ....... C=0.4, gamma=0.01, kernel=rbf, score=0.678, total=   0.5s\n",
      "[CV] C=0.4, gamma=0.01, kernel=rbf ...................................\n",
      "[CV] ....... C=0.4, gamma=0.01, kernel=rbf, score=0.670, total=   0.5s\n",
      "[CV] C=0.4, gamma=0.01, kernel=rbf ...................................\n",
      "[CV] ....... C=0.4, gamma=0.01, kernel=rbf, score=0.679, total=   0.5s\n",
      "[CV] C=0.4, gamma=0.001, kernel=rbf ..................................\n",
      "[CV] ...... C=0.4, gamma=0.001, kernel=rbf, score=0.631, total=   0.6s\n",
      "[CV] C=0.4, gamma=0.001, kernel=rbf ..................................\n",
      "[CV] ...... C=0.4, gamma=0.001, kernel=rbf, score=0.595, total=   0.6s\n",
      "[CV] C=0.4, gamma=0.001, kernel=rbf ..................................\n",
      "[CV] ...... C=0.4, gamma=0.001, kernel=rbf, score=0.619, total=   0.7s\n",
      "[CV] C=0.4, gamma=0.001, kernel=rbf ..................................\n",
      "[CV] ...... C=0.4, gamma=0.001, kernel=rbf, score=0.613, total=   0.6s\n",
      "[CV] C=0.4, gamma=0.001, kernel=rbf ..................................\n",
      "[CV] ...... C=0.4, gamma=0.001, kernel=rbf, score=0.615, total=   0.6s\n",
      "[CV] C=0.4, gamma=0.0001, kernel=rbf .................................\n",
      "[CV] ..... C=0.4, gamma=0.0001, kernel=rbf, score=0.410, total=   0.8s\n",
      "[CV] C=0.4, gamma=0.0001, kernel=rbf .................................\n",
      "[CV] ..... C=0.4, gamma=0.0001, kernel=rbf, score=0.353, total=   0.8s\n",
      "[CV] C=0.4, gamma=0.0001, kernel=rbf .................................\n",
      "[CV] ..... C=0.4, gamma=0.0001, kernel=rbf, score=0.348, total=   0.8s\n",
      "[CV] C=0.4, gamma=0.0001, kernel=rbf .................................\n",
      "[CV] ..... C=0.4, gamma=0.0001, kernel=rbf, score=0.348, total=   0.8s\n",
      "[CV] C=0.4, gamma=0.0001, kernel=rbf .................................\n",
      "[CV] ..... C=0.4, gamma=0.0001, kernel=rbf, score=0.379, total=   0.8s\n",
      "[CV] C=0.4, gamma=scale, kernel=rbf ..................................\n",
      "[CV] ...... C=0.4, gamma=scale, kernel=rbf, score=0.701, total=   0.4s\n",
      "[CV] C=0.4, gamma=scale, kernel=rbf ..................................\n",
      "[CV] ...... C=0.4, gamma=scale, kernel=rbf, score=0.660, total=   0.4s\n",
      "[CV] C=0.4, gamma=scale, kernel=rbf ..................................\n",
      "[CV] ...... C=0.4, gamma=scale, kernel=rbf, score=0.678, total=   0.4s\n",
      "[CV] C=0.4, gamma=scale, kernel=rbf ..................................\n",
      "[CV] ...... C=0.4, gamma=scale, kernel=rbf, score=0.682, total=   0.4s\n",
      "[CV] C=0.4, gamma=scale, kernel=rbf ..................................\n",
      "[CV] ...... C=0.4, gamma=scale, kernel=rbf, score=0.693, total=   0.4s\n",
      "[CV] C=0.5, gamma=1, kernel=rbf ......................................\n",
      "[CV] .......... C=0.5, gamma=1, kernel=rbf, score=0.701, total=   0.4s\n",
      "[CV] C=0.5, gamma=1, kernel=rbf ......................................\n",
      "[CV] .......... C=0.5, gamma=1, kernel=rbf, score=0.660, total=   0.4s\n",
      "[CV] C=0.5, gamma=1, kernel=rbf ......................................\n",
      "[CV] .......... C=0.5, gamma=1, kernel=rbf, score=0.680, total=   0.4s\n",
      "[CV] C=0.5, gamma=1, kernel=rbf ......................................\n",
      "[CV] .......... C=0.5, gamma=1, kernel=rbf, score=0.681, total=   0.4s\n",
      "[CV] C=0.5, gamma=1, kernel=rbf ......................................\n",
      "[CV] .......... C=0.5, gamma=1, kernel=rbf, score=0.692, total=   0.4s\n",
      "[CV] C=0.5, gamma=0.1, kernel=rbf ....................................\n",
      "[CV] ........ C=0.5, gamma=0.1, kernel=rbf, score=0.689, total=   0.4s\n",
      "[CV] C=0.5, gamma=0.1, kernel=rbf ....................................\n",
      "[CV] ........ C=0.5, gamma=0.1, kernel=rbf, score=0.650, total=   0.4s\n",
      "[CV] C=0.5, gamma=0.1, kernel=rbf ....................................\n",
      "[CV] ........ C=0.5, gamma=0.1, kernel=rbf, score=0.686, total=   0.4s\n",
      "[CV] C=0.5, gamma=0.1, kernel=rbf ....................................\n",
      "[CV] ........ C=0.5, gamma=0.1, kernel=rbf, score=0.676, total=   0.4s\n",
      "[CV] C=0.5, gamma=0.1, kernel=rbf ....................................\n",
      "[CV] ........ C=0.5, gamma=0.1, kernel=rbf, score=0.696, total=   0.4s\n",
      "[CV] C=0.5, gamma=0.01, kernel=rbf ...................................\n",
      "[CV] ....... C=0.5, gamma=0.01, kernel=rbf, score=0.672, total=   0.4s\n",
      "[CV] C=0.5, gamma=0.01, kernel=rbf ...................................\n",
      "[CV] ....... C=0.5, gamma=0.01, kernel=rbf, score=0.654, total=   0.4s\n",
      "[CV] C=0.5, gamma=0.01, kernel=rbf ...................................\n",
      "[CV] ....... C=0.5, gamma=0.01, kernel=rbf, score=0.672, total=   0.4s\n",
      "[CV] C=0.5, gamma=0.01, kernel=rbf ...................................\n",
      "[CV] ....... C=0.5, gamma=0.01, kernel=rbf, score=0.670, total=   0.5s\n",
      "[CV] C=0.5, gamma=0.01, kernel=rbf ...................................\n",
      "[CV] ....... C=0.5, gamma=0.01, kernel=rbf, score=0.679, total=   0.4s\n",
      "[CV] C=0.5, gamma=0.001, kernel=rbf ..................................\n",
      "[CV] ...... C=0.5, gamma=0.001, kernel=rbf, score=0.637, total=   0.6s\n",
      "[CV] C=0.5, gamma=0.001, kernel=rbf ..................................\n",
      "[CV] ...... C=0.5, gamma=0.001, kernel=rbf, score=0.606, total=   0.6s\n",
      "[CV] C=0.5, gamma=0.001, kernel=rbf ..................................\n",
      "[CV] ...... C=0.5, gamma=0.001, kernel=rbf, score=0.627, total=   0.5s\n",
      "[CV] C=0.5, gamma=0.001, kernel=rbf ..................................\n",
      "[CV] ...... C=0.5, gamma=0.001, kernel=rbf, score=0.632, total=   0.6s\n",
      "[CV] C=0.5, gamma=0.001, kernel=rbf ..................................\n",
      "[CV] ...... C=0.5, gamma=0.001, kernel=rbf, score=0.624, total=   0.6s\n",
      "[CV] C=0.5, gamma=0.0001, kernel=rbf .................................\n",
      "[CV] ..... C=0.5, gamma=0.0001, kernel=rbf, score=0.438, total=   0.8s\n",
      "[CV] C=0.5, gamma=0.0001, kernel=rbf .................................\n",
      "[CV] ..... C=0.5, gamma=0.0001, kernel=rbf, score=0.402, total=   0.7s\n",
      "[CV] C=0.5, gamma=0.0001, kernel=rbf .................................\n",
      "[CV] ..... C=0.5, gamma=0.0001, kernel=rbf, score=0.374, total=   0.8s\n",
      "[CV] C=0.5, gamma=0.0001, kernel=rbf .................................\n",
      "[CV] ..... C=0.5, gamma=0.0001, kernel=rbf, score=0.381, total=   0.8s\n",
      "[CV] C=0.5, gamma=0.0001, kernel=rbf .................................\n",
      "[CV] ..... C=0.5, gamma=0.0001, kernel=rbf, score=0.416, total=   0.8s\n",
      "[CV] C=0.5, gamma=scale, kernel=rbf ..................................\n",
      "[CV] ...... C=0.5, gamma=scale, kernel=rbf, score=0.701, total=   0.4s\n",
      "[CV] C=0.5, gamma=scale, kernel=rbf ..................................\n",
      "[CV] ...... C=0.5, gamma=scale, kernel=rbf, score=0.660, total=   0.4s\n",
      "[CV] C=0.5, gamma=scale, kernel=rbf ..................................\n",
      "[CV] ...... C=0.5, gamma=scale, kernel=rbf, score=0.682, total=   0.4s\n",
      "[CV] C=0.5, gamma=scale, kernel=rbf ..................................\n",
      "[CV] ...... C=0.5, gamma=scale, kernel=rbf, score=0.681, total=   0.4s\n",
      "[CV] C=0.5, gamma=scale, kernel=rbf ..................................\n",
      "[CV] ...... C=0.5, gamma=scale, kernel=rbf, score=0.692, total=   0.4s\n",
      "[CV] C=0.6, gamma=1, kernel=rbf ......................................\n",
      "[CV] .......... C=0.6, gamma=1, kernel=rbf, score=0.696, total=   0.4s\n",
      "[CV] C=0.6, gamma=1, kernel=rbf ......................................\n",
      "[CV] .......... C=0.6, gamma=1, kernel=rbf, score=0.662, total=   0.4s\n",
      "[CV] C=0.6, gamma=1, kernel=rbf ......................................\n",
      "[CV] .......... C=0.6, gamma=1, kernel=rbf, score=0.682, total=   0.4s\n",
      "[CV] C=0.6, gamma=1, kernel=rbf ......................................\n",
      "[CV] .......... C=0.6, gamma=1, kernel=rbf, score=0.681, total=   0.4s\n",
      "[CV] C=0.6, gamma=1, kernel=rbf ......................................\n",
      "[CV] .......... C=0.6, gamma=1, kernel=rbf, score=0.692, total=   0.4s\n",
      "[CV] C=0.6, gamma=0.1, kernel=rbf ....................................\n",
      "[CV] ........ C=0.6, gamma=0.1, kernel=rbf, score=0.689, total=   0.4s\n",
      "[CV] C=0.6, gamma=0.1, kernel=rbf ....................................\n",
      "[CV] ........ C=0.6, gamma=0.1, kernel=rbf, score=0.648, total=   0.4s\n",
      "[CV] C=0.6, gamma=0.1, kernel=rbf ....................................\n",
      "[CV] ........ C=0.6, gamma=0.1, kernel=rbf, score=0.685, total=   0.4s\n",
      "[CV] C=0.6, gamma=0.1, kernel=rbf ....................................\n",
      "[CV] ........ C=0.6, gamma=0.1, kernel=rbf, score=0.676, total=   0.4s\n",
      "[CV] C=0.6, gamma=0.1, kernel=rbf ....................................\n",
      "[CV] ........ C=0.6, gamma=0.1, kernel=rbf, score=0.696, total=   0.4s\n",
      "[CV] C=0.6, gamma=0.01, kernel=rbf ...................................\n",
      "[CV] ....... C=0.6, gamma=0.01, kernel=rbf, score=0.675, total=   0.4s\n",
      "[CV] C=0.6, gamma=0.01, kernel=rbf ...................................\n",
      "[CV] ....... C=0.6, gamma=0.01, kernel=rbf, score=0.652, total=   0.4s\n",
      "[CV] C=0.6, gamma=0.01, kernel=rbf ...................................\n",
      "[CV] ....... C=0.6, gamma=0.01, kernel=rbf, score=0.673, total=   0.4s\n",
      "[CV] C=0.6, gamma=0.01, kernel=rbf ...................................\n",
      "[CV] ....... C=0.6, gamma=0.01, kernel=rbf, score=0.670, total=   0.4s\n",
      "[CV] C=0.6, gamma=0.01, kernel=rbf ...................................\n",
      "[CV] ....... C=0.6, gamma=0.01, kernel=rbf, score=0.682, total=   0.4s\n",
      "[CV] C=0.6, gamma=0.001, kernel=rbf ..................................\n",
      "[CV] ...... C=0.6, gamma=0.001, kernel=rbf, score=0.644, total=   0.6s\n",
      "[CV] C=0.6, gamma=0.001, kernel=rbf ..................................\n",
      "[CV] ...... C=0.6, gamma=0.001, kernel=rbf, score=0.617, total=   0.6s\n",
      "[CV] C=0.6, gamma=0.001, kernel=rbf ..................................\n",
      "[CV] ...... C=0.6, gamma=0.001, kernel=rbf, score=0.624, total=   0.6s\n",
      "[CV] C=0.6, gamma=0.001, kernel=rbf ..................................\n",
      "[CV] ...... C=0.6, gamma=0.001, kernel=rbf, score=0.645, total=   0.6s\n",
      "[CV] C=0.6, gamma=0.001, kernel=rbf ..................................\n",
      "[CV] ...... C=0.6, gamma=0.001, kernel=rbf, score=0.630, total=   0.6s\n",
      "[CV] C=0.6, gamma=0.0001, kernel=rbf .................................\n",
      "[CV] ..... C=0.6, gamma=0.0001, kernel=rbf, score=0.476, total=   0.8s\n",
      "[CV] C=0.6, gamma=0.0001, kernel=rbf .................................\n",
      "[CV] ..... C=0.6, gamma=0.0001, kernel=rbf, score=0.452, total=   0.8s\n",
      "[CV] C=0.6, gamma=0.0001, kernel=rbf .................................\n",
      "[CV] ..... C=0.6, gamma=0.0001, kernel=rbf, score=0.413, total=   0.8s\n",
      "[CV] C=0.6, gamma=0.0001, kernel=rbf .................................\n",
      "[CV] ..... C=0.6, gamma=0.0001, kernel=rbf, score=0.411, total=   0.8s\n",
      "[CV] C=0.6, gamma=0.0001, kernel=rbf .................................\n",
      "[CV] ..... C=0.6, gamma=0.0001, kernel=rbf, score=0.444, total=   0.8s\n",
      "[CV] C=0.6, gamma=scale, kernel=rbf ..................................\n",
      "[CV] ...... C=0.6, gamma=scale, kernel=rbf, score=0.696, total=   0.4s\n",
      "[CV] C=0.6, gamma=scale, kernel=rbf ..................................\n",
      "[CV] ...... C=0.6, gamma=scale, kernel=rbf, score=0.662, total=   0.4s\n",
      "[CV] C=0.6, gamma=scale, kernel=rbf ..................................\n",
      "[CV] ...... C=0.6, gamma=scale, kernel=rbf, score=0.680, total=   0.4s\n",
      "[CV] C=0.6, gamma=scale, kernel=rbf ..................................\n",
      "[CV] ...... C=0.6, gamma=scale, kernel=rbf, score=0.681, total=   0.4s\n",
      "[CV] C=0.6, gamma=scale, kernel=rbf ..................................\n",
      "[CV] ...... C=0.6, gamma=scale, kernel=rbf, score=0.692, total=   0.4s\n",
      "[CV] C=0.7, gamma=1, kernel=rbf ......................................\n",
      "[CV] .......... C=0.7, gamma=1, kernel=rbf, score=0.694, total=   0.4s\n",
      "[CV] C=0.7, gamma=1, kernel=rbf ......................................\n",
      "[CV] .......... C=0.7, gamma=1, kernel=rbf, score=0.662, total=   0.4s\n",
      "[CV] C=0.7, gamma=1, kernel=rbf ......................................\n",
      "[CV] .......... C=0.7, gamma=1, kernel=rbf, score=0.680, total=   0.4s\n",
      "[CV] C=0.7, gamma=1, kernel=rbf ......................................\n",
      "[CV] .......... C=0.7, gamma=1, kernel=rbf, score=0.680, total=   0.4s\n",
      "[CV] C=0.7, gamma=1, kernel=rbf ......................................\n",
      "[CV] .......... C=0.7, gamma=1, kernel=rbf, score=0.694, total=   0.4s\n",
      "[CV] C=0.7, gamma=0.1, kernel=rbf ....................................\n",
      "[CV] ........ C=0.7, gamma=0.1, kernel=rbf, score=0.694, total=   0.4s\n",
      "[CV] C=0.7, gamma=0.1, kernel=rbf ....................................\n",
      "[CV] ........ C=0.7, gamma=0.1, kernel=rbf, score=0.645, total=   0.4s\n",
      "[CV] C=0.7, gamma=0.1, kernel=rbf ....................................\n",
      "[CV] ........ C=0.7, gamma=0.1, kernel=rbf, score=0.683, total=   0.4s\n",
      "[CV] C=0.7, gamma=0.1, kernel=rbf ....................................\n",
      "[CV] ........ C=0.7, gamma=0.1, kernel=rbf, score=0.673, total=   0.4s\n",
      "[CV] C=0.7, gamma=0.1, kernel=rbf ....................................\n",
      "[CV] ........ C=0.7, gamma=0.1, kernel=rbf, score=0.696, total=   0.4s\n",
      "[CV] C=0.7, gamma=0.01, kernel=rbf ...................................\n",
      "[CV] ....... C=0.7, gamma=0.01, kernel=rbf, score=0.674, total=   0.4s\n",
      "[CV] C=0.7, gamma=0.01, kernel=rbf ...................................\n",
      "[CV] ....... C=0.7, gamma=0.01, kernel=rbf, score=0.652, total=   0.4s\n",
      "[CV] C=0.7, gamma=0.01, kernel=rbf ...................................\n",
      "[CV] ....... C=0.7, gamma=0.01, kernel=rbf, score=0.674, total=   0.4s\n",
      "[CV] C=0.7, gamma=0.01, kernel=rbf ...................................\n",
      "[CV] ....... C=0.7, gamma=0.01, kernel=rbf, score=0.668, total=   0.5s\n",
      "[CV] C=0.7, gamma=0.01, kernel=rbf ...................................\n",
      "[CV] ....... C=0.7, gamma=0.01, kernel=rbf, score=0.687, total=   0.5s\n",
      "[CV] C=0.7, gamma=0.001, kernel=rbf ..................................\n",
      "[CV] ...... C=0.7, gamma=0.001, kernel=rbf, score=0.646, total=   0.6s\n",
      "[CV] C=0.7, gamma=0.001, kernel=rbf ..................................\n",
      "[CV] ...... C=0.7, gamma=0.001, kernel=rbf, score=0.626, total=   0.6s\n",
      "[CV] C=0.7, gamma=0.001, kernel=rbf ..................................\n",
      "[CV] ...... C=0.7, gamma=0.001, kernel=rbf, score=0.631, total=   0.6s\n",
      "[CV] C=0.7, gamma=0.001, kernel=rbf ..................................\n",
      "[CV] ...... C=0.7, gamma=0.001, kernel=rbf, score=0.661, total=   0.5s\n",
      "[CV] C=0.7, gamma=0.001, kernel=rbf ..................................\n",
      "[CV] ...... C=0.7, gamma=0.001, kernel=rbf, score=0.647, total=   0.6s\n",
      "[CV] C=0.7, gamma=0.0001, kernel=rbf .................................\n",
      "[CV] ..... C=0.7, gamma=0.0001, kernel=rbf, score=0.504, total=   0.8s\n",
      "[CV] C=0.7, gamma=0.0001, kernel=rbf .................................\n",
      "[CV] ..... C=0.7, gamma=0.0001, kernel=rbf, score=0.474, total=   0.7s\n",
      "[CV] C=0.7, gamma=0.0001, kernel=rbf .................................\n",
      "[CV] ..... C=0.7, gamma=0.0001, kernel=rbf, score=0.464, total=   0.8s\n",
      "[CV] C=0.7, gamma=0.0001, kernel=rbf .................................\n",
      "[CV] ..... C=0.7, gamma=0.0001, kernel=rbf, score=0.455, total=   0.7s\n",
      "[CV] C=0.7, gamma=0.0001, kernel=rbf .................................\n",
      "[CV] ..... C=0.7, gamma=0.0001, kernel=rbf, score=0.481, total=   0.7s\n",
      "[CV] C=0.7, gamma=scale, kernel=rbf ..................................\n",
      "[CV] ...... C=0.7, gamma=scale, kernel=rbf, score=0.694, total=   0.4s\n",
      "[CV] C=0.7, gamma=scale, kernel=rbf ..................................\n",
      "[CV] ...... C=0.7, gamma=scale, kernel=rbf, score=0.662, total=   0.4s\n",
      "[CV] C=0.7, gamma=scale, kernel=rbf ..................................\n",
      "[CV] ...... C=0.7, gamma=scale, kernel=rbf, score=0.680, total=   0.4s\n",
      "[CV] C=0.7, gamma=scale, kernel=rbf ..................................\n",
      "[CV] ...... C=0.7, gamma=scale, kernel=rbf, score=0.681, total=   0.4s\n",
      "[CV] C=0.7, gamma=scale, kernel=rbf ..................................\n",
      "[CV] ...... C=0.7, gamma=scale, kernel=rbf, score=0.694, total=   0.4s\n",
      "[CV] C=1, gamma=1, kernel=rbf ........................................\n",
      "[CV] ............ C=1, gamma=1, kernel=rbf, score=0.693, total=   0.4s\n",
      "[CV] C=1, gamma=1, kernel=rbf ........................................\n",
      "[CV] ............ C=1, gamma=1, kernel=rbf, score=0.660, total=   0.4s\n",
      "[CV] C=1, gamma=1, kernel=rbf ........................................\n",
      "[CV] ............ C=1, gamma=1, kernel=rbf, score=0.679, total=   0.4s\n",
      "[CV] C=1, gamma=1, kernel=rbf ........................................\n",
      "[CV] ............ C=1, gamma=1, kernel=rbf, score=0.679, total=   0.4s\n",
      "[CV] C=1, gamma=1, kernel=rbf ........................................\n",
      "[CV] ............ C=1, gamma=1, kernel=rbf, score=0.693, total=   0.4s\n",
      "[CV] C=1, gamma=0.1, kernel=rbf ......................................\n",
      "[CV] .......... C=1, gamma=0.1, kernel=rbf, score=0.698, total=   0.4s\n",
      "[CV] C=1, gamma=0.1, kernel=rbf ......................................\n",
      "[CV] .......... C=1, gamma=0.1, kernel=rbf, score=0.649, total=   0.4s\n",
      "[CV] C=1, gamma=0.1, kernel=rbf ......................................\n",
      "[CV] .......... C=1, gamma=0.1, kernel=rbf, score=0.686, total=   0.4s\n",
      "[CV] C=1, gamma=0.1, kernel=rbf ......................................\n",
      "[CV] .......... C=1, gamma=0.1, kernel=rbf, score=0.671, total=   0.4s\n",
      "[CV] C=1, gamma=0.1, kernel=rbf ......................................\n",
      "[CV] .......... C=1, gamma=0.1, kernel=rbf, score=0.698, total=   0.4s\n",
      "[CV] C=1, gamma=0.01, kernel=rbf .....................................\n",
      "[CV] ......... C=1, gamma=0.01, kernel=rbf, score=0.679, total=   0.4s\n",
      "[CV] C=1, gamma=0.01, kernel=rbf .....................................\n",
      "[CV] ......... C=1, gamma=0.01, kernel=rbf, score=0.650, total=   0.4s\n",
      "[CV] C=1, gamma=0.01, kernel=rbf .....................................\n",
      "[CV] ......... C=1, gamma=0.01, kernel=rbf, score=0.670, total=   0.4s\n",
      "[CV] C=1, gamma=0.01, kernel=rbf .....................................\n",
      "[CV] ......... C=1, gamma=0.01, kernel=rbf, score=0.679, total=   0.4s\n",
      "[CV] C=1, gamma=0.01, kernel=rbf .....................................\n",
      "[CV] ......... C=1, gamma=0.01, kernel=rbf, score=0.688, total=   0.4s\n",
      "[CV] C=1, gamma=0.001, kernel=rbf ....................................\n",
      "[CV] ........ C=1, gamma=0.001, kernel=rbf, score=0.653, total=   0.6s\n",
      "[CV] C=1, gamma=0.001, kernel=rbf ....................................\n",
      "[CV] ........ C=1, gamma=0.001, kernel=rbf, score=0.628, total=   0.5s\n",
      "[CV] C=1, gamma=0.001, kernel=rbf ....................................\n",
      "[CV] ........ C=1, gamma=0.001, kernel=rbf, score=0.655, total=   0.5s\n",
      "[CV] C=1, gamma=0.001, kernel=rbf ....................................\n",
      "[CV] ........ C=1, gamma=0.001, kernel=rbf, score=0.660, total=   0.5s\n",
      "[CV] C=1, gamma=0.001, kernel=rbf ....................................\n",
      "[CV] ........ C=1, gamma=0.001, kernel=rbf, score=0.669, total=   0.5s\n",
      "[CV] C=1, gamma=0.0001, kernel=rbf ...................................\n",
      "[CV] ....... C=1, gamma=0.0001, kernel=rbf, score=0.545, total=   0.7s\n",
      "[CV] C=1, gamma=0.0001, kernel=rbf ...................................\n",
      "[CV] ....... C=1, gamma=0.0001, kernel=rbf, score=0.500, total=   0.7s\n",
      "[CV] C=1, gamma=0.0001, kernel=rbf ...................................\n",
      "[CV] ....... C=1, gamma=0.0001, kernel=rbf, score=0.502, total=   0.7s\n",
      "[CV] C=1, gamma=0.0001, kernel=rbf ...................................\n",
      "[CV] ....... C=1, gamma=0.0001, kernel=rbf, score=0.500, total=   0.7s\n",
      "[CV] C=1, gamma=0.0001, kernel=rbf ...................................\n",
      "[CV] ....... C=1, gamma=0.0001, kernel=rbf, score=0.515, total=   0.7s\n",
      "[CV] C=1, gamma=scale, kernel=rbf ....................................\n",
      "[CV] ........ C=1, gamma=scale, kernel=rbf, score=0.692, total=   0.5s\n",
      "[CV] C=1, gamma=scale, kernel=rbf ....................................\n",
      "[CV] ........ C=1, gamma=scale, kernel=rbf, score=0.660, total=   0.4s\n",
      "[CV] C=1, gamma=scale, kernel=rbf ....................................\n",
      "[CV] ........ C=1, gamma=scale, kernel=rbf, score=0.681, total=   0.4s\n",
      "[CV] C=1, gamma=scale, kernel=rbf ....................................\n",
      "[CV] ........ C=1, gamma=scale, kernel=rbf, score=0.680, total=   0.4s\n",
      "[CV] C=1, gamma=scale, kernel=rbf ....................................\n",
      "[CV] ........ C=1, gamma=scale, kernel=rbf, score=0.693, total=   0.4s\n"
     ]
    },
    {
     "name": "stderr",
     "output_type": "stream",
     "text": [
      "[Parallel(n_jobs=1)]: Done 240 out of 240 | elapsed:  2.3min finished\n"
     ]
    },
    {
     "data": {
      "text/plain": [
       "GridSearchCV(estimator=SVC(class_weight={0: 1, 1: 5}),\n",
       "             param_grid={'C': [0.1, 0.2, 0.3, 0.4, 0.5, 0.6, 0.7, 1],\n",
       "                         'gamma': [1, 0.1, 0.01, 0.001, 0.0001, 'scale'],\n",
       "                         'kernel': ['rbf']},\n",
       "             scoring='f1', verbose=3)"
      ]
     },
     "execution_count": 626,
     "metadata": {},
     "output_type": "execute_result"
    }
   ],
   "source": [
    "param_grid = {'C': [0.1, 0.2, 0.3, 0.4, 0.5,0.6, 0.7, 1], 'gamma': [1, 0.1, 0.01, 0.001, 0.0001, 'scale'],\n",
    "              'kernel': ['rbf']}\n",
    "\n",
    "grid = GridSearchCV(svc_weight, param_grid, refit = True, verbose = 3, scoring = 'f1') \n",
    "\n",
    "grid.fit(X_train_scaled, y_train_val) "
   ]
  },
  {
   "cell_type": "code",
   "execution_count": 627,
   "metadata": {},
   "outputs": [
    {
     "name": "stdout",
     "output_type": "stream",
     "text": [
      "SVC(C=0.1, class_weight={0: 1, 1: 5}, gamma=1)\n"
     ]
    }
   ],
   "source": [
    "print(grid.best_estimator_)"
   ]
  },
  {
   "cell_type": "markdown",
   "metadata": {},
   "source": [
    "Let's go ahead and see how it performs via testing data!"
   ]
  },
  {
   "cell_type": "code",
   "execution_count": 1103,
   "metadata": {},
   "outputs": [],
   "source": [
    "X_train_scaled = scaler.fit_transform(X_train_val)"
   ]
  },
  {
   "cell_type": "code",
   "execution_count": 1104,
   "metadata": {},
   "outputs": [],
   "source": [
    "X_test_scaled = scaler.transform(X_test)"
   ]
  },
  {
   "cell_type": "code",
   "execution_count": 1105,
   "metadata": {},
   "outputs": [],
   "source": [
    "svc_test = cross_validate(svc_weight, X_test_scaled, y_test, cv = 5, scoring = ['f1', 'accuracy', 'precision', 'recall'])"
   ]
  },
  {
   "cell_type": "code",
   "execution_count": 1106,
   "metadata": {},
   "outputs": [],
   "source": [
    "svc_test_scores = []\n",
    "for score in svc_test:\n",
    "    svc_test_scores.append(f'{score}: {np.mean(_[score]): .4f}')   "
   ]
  },
  {
   "cell_type": "code",
   "execution_count": 1107,
   "metadata": {},
   "outputs": [
    {
     "data": {
      "text/plain": [
       "['fit_time:  0.2970',\n",
       " 'score_time:  0.0502',\n",
       " 'test_f1:  0.6837',\n",
       " 'test_accuracy:  0.8911',\n",
       " 'test_precision:  0.5938',\n",
       " 'test_recall:  0.8067']"
      ]
     },
     "execution_count": 1107,
     "metadata": {},
     "output_type": "execute_result"
    }
   ],
   "source": [
    "svc_test_scores"
   ]
  },
  {
   "cell_type": "code",
   "execution_count": 1424,
   "metadata": {
    "scrolled": true
   },
   "outputs": [
    {
     "data": {
      "text/plain": [
       "<sklearn.metrics._plot.confusion_matrix.ConfusionMatrixDisplay at 0x7fd34c7cbc10>"
      ]
     },
     "execution_count": 1424,
     "metadata": {},
     "output_type": "execute_result"
    },
    {
     "data": {
      "image/png": "[encoded data removed]",
      "text/plain": [
       "<Figure size 432x288 with 2 Axes>"
      ]
     },
     "metadata": {
      "needs_background": "light"
     },
     "output_type": "display_data"
    }
   ],
   "source": [
    "plot_confusion_matrix(svc_weight.fit(X_train_scaled, y_train_val), X_test_scaled, y_test, cmap = plt.cm.Blues)"
   ]
  },
  {
   "cell_type": "markdown",
   "metadata": {},
   "source": [
    "## Logistic Regression Tuning (Interpretable Model)"
   ]
  },
  {
   "cell_type": "code",
   "execution_count": 635,
   "metadata": {},
   "outputs": [
    {
     "data": {
      "text/plain": [
       "['test_f1:  0.6764',\n",
       " 'test_accuracy:  0.9038',\n",
       " 'test_precision:  0.6645',\n",
       " 'test_recall:  0.6903']"
      ]
     },
     "execution_count": 635,
     "metadata": {},
     "output_type": "execute_result"
    }
   ],
   "source": [
    "best_log"
   ]
  },
  {
   "cell_type": "code",
   "execution_count": 1084,
   "metadata": {},
   "outputs": [],
   "source": [
    "logreg_play = LogisticRegression(C=0.2, class_weight={0: 1, 1: 5})"
   ]
  },
  {
   "cell_type": "code",
   "execution_count": 1085,
   "metadata": {},
   "outputs": [
    {
     "data": {
      "text/plain": [
       "LogisticRegression(C=0.2, class_weight={0: 1, 1: 5})"
      ]
     },
     "execution_count": 1085,
     "metadata": {},
     "output_type": "execute_result"
    }
   ],
   "source": [
    "logreg_play.fit(X2_train_scaled, y_train_val)"
   ]
  },
  {
   "cell_type": "code",
   "execution_count": 1086,
   "metadata": {},
   "outputs": [],
   "source": [
    "_ = cross_validate(logreg_play, X2_train_scaled, y_train_val, cv = 5, scoring = ['f1', 'accuracy', 'precision', 'recall'])"
   ]
  },
  {
   "cell_type": "code",
   "execution_count": 1087,
   "metadata": {},
   "outputs": [],
   "source": [
    "log_play_scores = []\n",
    "for score in _:\n",
    "    log_play_scores.append(f'{score}: {np.mean(_[score]): .4f}')   "
   ]
  },
  {
   "cell_type": "code",
   "execution_count": 1088,
   "metadata": {},
   "outputs": [
    {
     "data": {
      "text/plain": [
       "['fit_time:  0.0086',\n",
       " 'score_time:  0.0043',\n",
       " 'test_f1:  0.6749',\n",
       " 'test_accuracy:  0.9033',\n",
       " 'test_precision:  0.6620',\n",
       " 'test_recall:  0.6888']"
      ]
     },
     "execution_count": 1088,
     "metadata": {},
     "output_type": "execute_result"
    }
   ],
   "source": [
    "log_play_scores"
   ]
  },
  {
   "cell_type": "code",
   "execution_count": 1025,
   "metadata": {},
   "outputs": [
    {
     "data": {
      "text/plain": [
       "[array([[4.82987754e+01, 3.31400128e-03]]),\n",
       " Index(['PageValues', 'ExitRates'], dtype='object')]"
      ]
     },
     "execution_count": 1025,
     "metadata": {},
     "output_type": "execute_result"
    }
   ],
   "source": [
    "list((scaler.inverse_transform(logreg_play.coef_), X2_train_val.columns))"
   ]
  },
  {
   "cell_type": "markdown",
   "metadata": {},
   "source": [
    "Used GridSearchCV to find the best hyperparameters to increase my F1 score for LogReg."
   ]
  },
  {
   "cell_type": "code",
   "execution_count": 674,
   "metadata": {},
   "outputs": [
    {
     "name": "stdout",
     "output_type": "stream",
     "text": [
      "Fitting 5 folds for each of 60 candidates, totalling 300 fits\n",
      "[CV] C=0.1, solver=newton-cg .........................................\n",
      "[CV] ............. C=0.1, solver=newton-cg, score=0.675, total=   0.0s\n",
      "[CV] C=0.1, solver=newton-cg .........................................\n",
      "[CV] ............. C=0.1, solver=newton-cg, score=0.657, total=   0.0s\n",
      "[CV] C=0.1, solver=newton-cg .........................................\n",
      "[CV] ............. C=0.1, solver=newton-cg, score=0.672, total=   0.0s\n",
      "[CV] C=0.1, solver=newton-cg .........................................\n",
      "[CV] ............. C=0.1, solver=newton-cg, score=0.676, total=   0.0s\n",
      "[CV] C=0.1, solver=newton-cg .........................................\n",
      "[CV] ............. C=0.1, solver=newton-cg, score=0.692, total=   0.0s\n",
      "[CV] C=0.1, solver=lbfgs .............................................\n",
      "[CV] ................. C=0.1, solver=lbfgs, score=0.675, total=   0.0s\n",
      "[CV] C=0.1, solver=lbfgs .............................................\n",
      "[CV] ................. C=0.1, solver=lbfgs, score=0.657, total=   0.0s\n",
      "[CV] C=0.1, solver=lbfgs .............................................\n",
      "[CV] ................. C=0.1, solver=lbfgs, score=0.672, total=   0.0s\n",
      "[CV] C=0.1, solver=lbfgs .............................................\n",
      "[CV] ................. C=0.1, solver=lbfgs, score=0.676, total=   0.0s\n",
      "[CV] C=0.1, solver=lbfgs .............................................\n",
      "[CV] ................. C=0.1, solver=lbfgs, score=0.692, total=   0.0s\n",
      "[CV] C=0.1, solver=liblinear .........................................\n",
      "[CV] ............. C=0.1, solver=liblinear, score=0.678, total=   0.0s\n",
      "[CV] C=0.1, solver=liblinear .........................................\n"
     ]
    },
    {
     "name": "stderr",
     "output_type": "stream",
     "text": [
      "[Parallel(n_jobs=1)]: Using backend SequentialBackend with 1 concurrent workers.\n",
      "[Parallel(n_jobs=1)]: Done   1 out of   1 | elapsed:    0.0s remaining:    0.0s\n",
      "[Parallel(n_jobs=1)]: Done   2 out of   2 | elapsed:    0.0s remaining:    0.0s\n"
     ]
    },
    {
     "name": "stdout",
     "output_type": "stream",
     "text": [
      "[CV] ............. C=0.1, solver=liblinear, score=0.658, total=   0.0s\n",
      "[CV] C=0.1, solver=liblinear .........................................\n",
      "[CV] ............. C=0.1, solver=liblinear, score=0.670, total=   0.0s\n",
      "[CV] C=0.1, solver=liblinear .........................................\n",
      "[CV] ............. C=0.1, solver=liblinear, score=0.676, total=   0.0s\n",
      "[CV] C=0.1, solver=liblinear .........................................\n",
      "[CV] ............. C=0.1, solver=liblinear, score=0.691, total=   0.0s\n",
      "[CV] C=0.1, solver=sag ...............................................\n",
      "[CV] ................... C=0.1, solver=sag, score=0.675, total=   0.0s\n",
      "[CV] C=0.1, solver=sag ...............................................\n",
      "[CV] ................... C=0.1, solver=sag, score=0.657, total=   0.0s\n",
      "[CV] C=0.1, solver=sag ...............................................\n",
      "[CV] ................... C=0.1, solver=sag, score=0.672, total=   0.0s\n",
      "[CV] C=0.1, solver=sag ...............................................\n",
      "[CV] ................... C=0.1, solver=sag, score=0.676, total=   0.0s\n",
      "[CV] C=0.1, solver=sag ...............................................\n",
      "[CV] ................... C=0.1, solver=sag, score=0.692, total=   0.0s\n",
      "[CV] C=0.1, solver=saga ..............................................\n",
      "[CV] .................. C=0.1, solver=saga, score=0.675, total=   0.0s\n",
      "[CV] C=0.1, solver=saga ..............................................\n",
      "[CV] .................. C=0.1, solver=saga, score=0.657, total=   0.0s\n",
      "[CV] C=0.1, solver=saga ..............................................\n",
      "[CV] .................. C=0.1, solver=saga, score=0.672, total=   0.0s\n",
      "[CV] C=0.1, solver=saga ..............................................\n",
      "[CV] .................. C=0.1, solver=saga, score=0.676, total=   0.0s\n",
      "[CV] C=0.1, solver=saga ..............................................\n",
      "[CV] .................. C=0.1, solver=saga, score=0.692, total=   0.0s\n",
      "[CV] C=0.2, solver=newton-cg .........................................\n",
      "[CV] ............. C=0.2, solver=newton-cg, score=0.678, total=   0.0s\n",
      "[CV] C=0.2, solver=newton-cg .........................................\n",
      "[CV] ............. C=0.2, solver=newton-cg, score=0.657, total=   0.0s\n",
      "[CV] C=0.2, solver=newton-cg .........................................\n",
      "[CV] ............. C=0.2, solver=newton-cg, score=0.673, total=   0.0s\n",
      "[CV] C=0.2, solver=newton-cg .........................................\n",
      "[CV] ............. C=0.2, solver=newton-cg, score=0.676, total=   0.0s\n",
      "[CV] C=0.2, solver=newton-cg .........................................\n",
      "[CV] ............. C=0.2, solver=newton-cg, score=0.691, total=   0.0s\n",
      "[CV] C=0.2, solver=lbfgs .............................................\n",
      "[CV] ................. C=0.2, solver=lbfgs, score=0.678, total=   0.0s\n",
      "[CV] C=0.2, solver=lbfgs .............................................\n",
      "[CV] ................. C=0.2, solver=lbfgs, score=0.657, total=   0.0s\n",
      "[CV] C=0.2, solver=lbfgs .............................................\n",
      "[CV] ................. C=0.2, solver=lbfgs, score=0.673, total=   0.0s\n",
      "[CV] C=0.2, solver=lbfgs .............................................\n",
      "[CV] ................. C=0.2, solver=lbfgs, score=0.676, total=   0.0s\n",
      "[CV] C=0.2, solver=lbfgs .............................................\n",
      "[CV] ................. C=0.2, solver=lbfgs, score=0.691, total=   0.0s\n",
      "[CV] C=0.2, solver=liblinear .........................................\n",
      "[CV] ............. C=0.2, solver=liblinear, score=0.678, total=   0.0s\n",
      "[CV] C=0.2, solver=liblinear .........................................\n",
      "[CV] ............. C=0.2, solver=liblinear, score=0.657, total=   0.0s\n",
      "[CV] C=0.2, solver=liblinear .........................................\n",
      "[CV] ............. C=0.2, solver=liblinear, score=0.673, total=   0.0s\n",
      "[CV] C=0.2, solver=liblinear .........................................\n",
      "[CV] ............. C=0.2, solver=liblinear, score=0.676, total=   0.0s\n",
      "[CV] C=0.2, solver=liblinear .........................................\n",
      "[CV] ............. C=0.2, solver=liblinear, score=0.691, total=   0.0s\n",
      "[CV] C=0.2, solver=sag ...............................................\n",
      "[CV] ................... C=0.2, solver=sag, score=0.678, total=   0.0s\n",
      "[CV] C=0.2, solver=sag ...............................................\n",
      "[CV] ................... C=0.2, solver=sag, score=0.657, total=   0.0s\n",
      "[CV] C=0.2, solver=sag ...............................................\n",
      "[CV] ................... C=0.2, solver=sag, score=0.673, total=   0.0s\n",
      "[CV] C=0.2, solver=sag ...............................................\n",
      "[CV] ................... C=0.2, solver=sag, score=0.676, total=   0.0s\n",
      "[CV] C=0.2, solver=sag ...............................................\n",
      "[CV] ................... C=0.2, solver=sag, score=0.691, total=   0.0s\n",
      "[CV] C=0.2, solver=saga ..............................................\n",
      "[CV] .................. C=0.2, solver=saga, score=0.678, total=   0.0s\n",
      "[CV] C=0.2, solver=saga ..............................................\n",
      "[CV] .................. C=0.2, solver=saga, score=0.657, total=   0.0s\n",
      "[CV] C=0.2, solver=saga ..............................................\n",
      "[CV] .................. C=0.2, solver=saga, score=0.673, total=   0.0s\n",
      "[CV] C=0.2, solver=saga ..............................................\n",
      "[CV] .................. C=0.2, solver=saga, score=0.676, total=   0.0s\n",
      "[CV] C=0.2, solver=saga ..............................................\n",
      "[CV] .................. C=0.2, solver=saga, score=0.691, total=   0.0s\n",
      "[CV] C=0.3, solver=newton-cg .........................................\n",
      "[CV] ............. C=0.3, solver=newton-cg, score=0.678, total=   0.0s\n",
      "[CV] C=0.3, solver=newton-cg .........................................\n",
      "[CV] ............. C=0.3, solver=newton-cg, score=0.657, total=   0.0s\n",
      "[CV] C=0.3, solver=newton-cg .........................................\n",
      "[CV] ............. C=0.3, solver=newton-cg, score=0.673, total=   0.0s\n",
      "[CV] C=0.3, solver=newton-cg .........................................\n",
      "[CV] ............. C=0.3, solver=newton-cg, score=0.676, total=   0.0s\n",
      "[CV] C=0.3, solver=newton-cg .........................................\n",
      "[CV] ............. C=0.3, solver=newton-cg, score=0.691, total=   0.0s\n",
      "[CV] C=0.3, solver=lbfgs .............................................\n",
      "[CV] ................. C=0.3, solver=lbfgs, score=0.678, total=   0.0s\n",
      "[CV] C=0.3, solver=lbfgs .............................................\n",
      "[CV] ................. C=0.3, solver=lbfgs, score=0.657, total=   0.0s\n",
      "[CV] C=0.3, solver=lbfgs .............................................\n",
      "[CV] ................. C=0.3, solver=lbfgs, score=0.673, total=   0.0s\n",
      "[CV] C=0.3, solver=lbfgs .............................................\n",
      "[CV] ................. C=0.3, solver=lbfgs, score=0.676, total=   0.0s\n",
      "[CV] C=0.3, solver=lbfgs .............................................\n",
      "[CV] ................. C=0.3, solver=lbfgs, score=0.691, total=   0.0s\n",
      "[CV] C=0.3, solver=liblinear .........................................\n",
      "[CV] ............. C=0.3, solver=liblinear, score=0.678, total=   0.0s\n",
      "[CV] C=0.3, solver=liblinear .........................................\n",
      "[CV] ............. C=0.3, solver=liblinear, score=0.657, total=   0.0s\n",
      "[CV] C=0.3, solver=liblinear .........................................\n",
      "[CV] ............. C=0.3, solver=liblinear, score=0.673, total=   0.0s\n",
      "[CV] C=0.3, solver=liblinear .........................................\n",
      "[CV] ............. C=0.3, solver=liblinear, score=0.676, total=   0.0s\n",
      "[CV] C=0.3, solver=liblinear .........................................\n",
      "[CV] ............. C=0.3, solver=liblinear, score=0.691, total=   0.0s\n",
      "[CV] C=0.3, solver=sag ...............................................\n",
      "[CV] ................... C=0.3, solver=sag, score=0.678, total=   0.0s\n",
      "[CV] C=0.3, solver=sag ...............................................\n",
      "[CV] ................... C=0.3, solver=sag, score=0.657, total=   0.0s\n",
      "[CV] C=0.3, solver=sag ...............................................\n",
      "[CV] ................... C=0.3, solver=sag, score=0.673, total=   0.0s\n",
      "[CV] C=0.3, solver=sag ...............................................\n",
      "[CV] ................... C=0.3, solver=sag, score=0.676, total=   0.0s\n",
      "[CV] C=0.3, solver=sag ...............................................\n",
      "[CV] ................... C=0.3, solver=sag, score=0.691, total=   0.0s\n",
      "[CV] C=0.3, solver=saga ..............................................\n",
      "[CV] .................. C=0.3, solver=saga, score=0.678, total=   0.0s\n",
      "[CV] C=0.3, solver=saga ..............................................\n",
      "[CV] .................. C=0.3, solver=saga, score=0.657, total=   0.0s\n",
      "[CV] C=0.3, solver=saga ..............................................\n",
      "[CV] .................. C=0.3, solver=saga, score=0.673, total=   0.0s\n",
      "[CV] C=0.3, solver=saga ..............................................\n",
      "[CV] .................. C=0.3, solver=saga, score=0.676, total=   0.0s\n",
      "[CV] C=0.3, solver=saga ..............................................\n",
      "[CV] .................. C=0.3, solver=saga, score=0.691, total=   0.0s\n",
      "[CV] C=0.4, solver=newton-cg .........................................\n",
      "[CV] ............. C=0.4, solver=newton-cg, score=0.678, total=   0.0s\n",
      "[CV] C=0.4, solver=newton-cg .........................................\n",
      "[CV] ............. C=0.4, solver=newton-cg, score=0.657, total=   0.0s\n",
      "[CV] C=0.4, solver=newton-cg .........................................\n",
      "[CV] ............. C=0.4, solver=newton-cg, score=0.673, total=   0.0s\n",
      "[CV] C=0.4, solver=newton-cg .........................................\n",
      "[CV] ............. C=0.4, solver=newton-cg, score=0.676, total=   0.0s\n",
      "[CV] C=0.4, solver=newton-cg .........................................\n",
      "[CV] ............. C=0.4, solver=newton-cg, score=0.691, total=   0.0s\n",
      "[CV] C=0.4, solver=lbfgs .............................................\n",
      "[CV] ................. C=0.4, solver=lbfgs, score=0.678, total=   0.0s\n",
      "[CV] C=0.4, solver=lbfgs .............................................\n",
      "[CV] ................. C=0.4, solver=lbfgs, score=0.657, total=   0.0s\n",
      "[CV] C=0.4, solver=lbfgs .............................................\n",
      "[CV] ................. C=0.4, solver=lbfgs, score=0.673, total=   0.0s\n",
      "[CV] C=0.4, solver=lbfgs .............................................\n",
      "[CV] ................. C=0.4, solver=lbfgs, score=0.676, total=   0.0s\n",
      "[CV] C=0.4, solver=lbfgs .............................................\n",
      "[CV] ................. C=0.4, solver=lbfgs, score=0.691, total=   0.0s\n",
      "[CV] C=0.4, solver=liblinear .........................................\n",
      "[CV] ............. C=0.4, solver=liblinear, score=0.678, total=   0.0s\n",
      "[CV] C=0.4, solver=liblinear .........................................\n",
      "[CV] ............. C=0.4, solver=liblinear, score=0.657, total=   0.0s\n",
      "[CV] C=0.4, solver=liblinear .........................................\n",
      "[CV] ............. C=0.4, solver=liblinear, score=0.673, total=   0.0s\n",
      "[CV] C=0.4, solver=liblinear .........................................\n",
      "[CV] ............. C=0.4, solver=liblinear, score=0.676, total=   0.0s\n",
      "[CV] C=0.4, solver=liblinear .........................................\n",
      "[CV] ............. C=0.4, solver=liblinear, score=0.691, total=   0.0s\n",
      "[CV] C=0.4, solver=sag ...............................................\n",
      "[CV] ................... C=0.4, solver=sag, score=0.678, total=   0.0s\n",
      "[CV] C=0.4, solver=sag ...............................................\n",
      "[CV] ................... C=0.4, solver=sag, score=0.657, total=   0.0s\n",
      "[CV] C=0.4, solver=sag ...............................................\n",
      "[CV] ................... C=0.4, solver=sag, score=0.673, total=   0.0s\n",
      "[CV] C=0.4, solver=sag ...............................................\n",
      "[CV] ................... C=0.4, solver=sag, score=0.676, total=   0.0s\n",
      "[CV] C=0.4, solver=sag ...............................................\n",
      "[CV] ................... C=0.4, solver=sag, score=0.691, total=   0.0s\n",
      "[CV] C=0.4, solver=saga ..............................................\n",
      "[CV] .................. C=0.4, solver=saga, score=0.678, total=   0.0s\n",
      "[CV] C=0.4, solver=saga ..............................................\n",
      "[CV] .................. C=0.4, solver=saga, score=0.657, total=   0.0s\n",
      "[CV] C=0.4, solver=saga ..............................................\n",
      "[CV] .................. C=0.4, solver=saga, score=0.673, total=   0.0s\n",
      "[CV] C=0.4, solver=saga ..............................................\n",
      "[CV] .................. C=0.4, solver=saga, score=0.676, total=   0.0s\n",
      "[CV] C=0.4, solver=saga ..............................................\n",
      "[CV] .................. C=0.4, solver=saga, score=0.691, total=   0.0s\n",
      "[CV] C=0.5, solver=newton-cg .........................................\n",
      "[CV] ............. C=0.5, solver=newton-cg, score=0.678, total=   0.0s\n",
      "[CV] C=0.5, solver=newton-cg .........................................\n",
      "[CV] ............. C=0.5, solver=newton-cg, score=0.657, total=   0.0s\n",
      "[CV] C=0.5, solver=newton-cg .........................................\n",
      "[CV] ............. C=0.5, solver=newton-cg, score=0.673, total=   0.0s\n",
      "[CV] C=0.5, solver=newton-cg .........................................\n",
      "[CV] ............. C=0.5, solver=newton-cg, score=0.676, total=   0.0s\n",
      "[CV] C=0.5, solver=newton-cg .........................................\n",
      "[CV] ............. C=0.5, solver=newton-cg, score=0.691, total=   0.0s\n",
      "[CV] C=0.5, solver=lbfgs .............................................\n",
      "[CV] ................. C=0.5, solver=lbfgs, score=0.678, total=   0.0s\n",
      "[CV] C=0.5, solver=lbfgs .............................................\n",
      "[CV] ................. C=0.5, solver=lbfgs, score=0.657, total=   0.0s\n",
      "[CV] C=0.5, solver=lbfgs .............................................\n",
      "[CV] ................. C=0.5, solver=lbfgs, score=0.673, total=   0.0s\n",
      "[CV] C=0.5, solver=lbfgs .............................................\n",
      "[CV] ................. C=0.5, solver=lbfgs, score=0.676, total=   0.0s\n",
      "[CV] C=0.5, solver=lbfgs .............................................\n",
      "[CV] ................. C=0.5, solver=lbfgs, score=0.691, total=   0.0s\n",
      "[CV] C=0.5, solver=liblinear .........................................\n",
      "[CV] ............. C=0.5, solver=liblinear, score=0.678, total=   0.0s\n",
      "[CV] C=0.5, solver=liblinear .........................................\n",
      "[CV] ............. C=0.5, solver=liblinear, score=0.657, total=   0.0s\n",
      "[CV] C=0.5, solver=liblinear .........................................\n",
      "[CV] ............. C=0.5, solver=liblinear, score=0.673, total=   0.0s\n",
      "[CV] C=0.5, solver=liblinear .........................................\n",
      "[CV] ............. C=0.5, solver=liblinear, score=0.676, total=   0.0s\n",
      "[CV] C=0.5, solver=liblinear .........................................\n",
      "[CV] ............. C=0.5, solver=liblinear, score=0.691, total=   0.0s\n",
      "[CV] C=0.5, solver=sag ...............................................\n",
      "[CV] ................... C=0.5, solver=sag, score=0.678, total=   0.0s\n",
      "[CV] C=0.5, solver=sag ...............................................\n",
      "[CV] ................... C=0.5, solver=sag, score=0.657, total=   0.0s\n",
      "[CV] C=0.5, solver=sag ...............................................\n",
      "[CV] ................... C=0.5, solver=sag, score=0.673, total=   0.0s\n",
      "[CV] C=0.5, solver=sag ...............................................\n",
      "[CV] ................... C=0.5, solver=sag, score=0.676, total=   0.0s\n",
      "[CV] C=0.5, solver=sag ...............................................\n",
      "[CV] ................... C=0.5, solver=sag, score=0.691, total=   0.0s\n",
      "[CV] C=0.5, solver=saga ..............................................\n",
      "[CV] .................. C=0.5, solver=saga, score=0.678, total=   0.0s\n",
      "[CV] C=0.5, solver=saga ..............................................\n",
      "[CV] .................. C=0.5, solver=saga, score=0.657, total=   0.0s\n",
      "[CV] C=0.5, solver=saga ..............................................\n",
      "[CV] .................. C=0.5, solver=saga, score=0.673, total=   0.0s\n",
      "[CV] C=0.5, solver=saga ..............................................\n",
      "[CV] .................. C=0.5, solver=saga, score=0.676, total=   0.0s\n",
      "[CV] C=0.5, solver=saga ..............................................\n",
      "[CV] .................. C=0.5, solver=saga, score=0.691, total=   0.0s\n",
      "[CV] C=0.6, solver=newton-cg .........................................\n",
      "[CV] ............. C=0.6, solver=newton-cg, score=0.678, total=   0.0s\n",
      "[CV] C=0.6, solver=newton-cg .........................................\n",
      "[CV] ............. C=0.6, solver=newton-cg, score=0.657, total=   0.0s\n",
      "[CV] C=0.6, solver=newton-cg .........................................\n",
      "[CV] ............. C=0.6, solver=newton-cg, score=0.673, total=   0.0s\n",
      "[CV] C=0.6, solver=newton-cg .........................................\n",
      "[CV] ............. C=0.6, solver=newton-cg, score=0.676, total=   0.0s\n",
      "[CV] C=0.6, solver=newton-cg .........................................\n",
      "[CV] ............. C=0.6, solver=newton-cg, score=0.691, total=   0.0s\n",
      "[CV] C=0.6, solver=lbfgs .............................................\n",
      "[CV] ................. C=0.6, solver=lbfgs, score=0.678, total=   0.0s\n",
      "[CV] C=0.6, solver=lbfgs .............................................\n",
      "[CV] ................. C=0.6, solver=lbfgs, score=0.657, total=   0.0s\n",
      "[CV] C=0.6, solver=lbfgs .............................................\n",
      "[CV] ................. C=0.6, solver=lbfgs, score=0.673, total=   0.0s\n",
      "[CV] C=0.6, solver=lbfgs .............................................\n",
      "[CV] ................. C=0.6, solver=lbfgs, score=0.676, total=   0.0s\n",
      "[CV] C=0.6, solver=lbfgs .............................................\n",
      "[CV] ................. C=0.6, solver=lbfgs, score=0.691, total=   0.0s\n",
      "[CV] C=0.6, solver=liblinear .........................................\n",
      "[CV] ............. C=0.6, solver=liblinear, score=0.678, total=   0.0s\n",
      "[CV] C=0.6, solver=liblinear .........................................\n",
      "[CV] ............. C=0.6, solver=liblinear, score=0.657, total=   0.0s\n",
      "[CV] C=0.6, solver=liblinear .........................................\n",
      "[CV] ............. C=0.6, solver=liblinear, score=0.673, total=   0.0s\n",
      "[CV] C=0.6, solver=liblinear .........................................\n",
      "[CV] ............. C=0.6, solver=liblinear, score=0.676, total=   0.0s\n",
      "[CV] C=0.6, solver=liblinear .........................................\n",
      "[CV] ............. C=0.6, solver=liblinear, score=0.691, total=   0.0s\n",
      "[CV] C=0.6, solver=sag ...............................................\n",
      "[CV] ................... C=0.6, solver=sag, score=0.678, total=   0.0s\n",
      "[CV] C=0.6, solver=sag ...............................................\n",
      "[CV] ................... C=0.6, solver=sag, score=0.657, total=   0.0s\n",
      "[CV] C=0.6, solver=sag ...............................................\n",
      "[CV] ................... C=0.6, solver=sag, score=0.673, total=   0.0s\n",
      "[CV] C=0.6, solver=sag ...............................................\n",
      "[CV] ................... C=0.6, solver=sag, score=0.676, total=   0.0s\n",
      "[CV] C=0.6, solver=sag ...............................................\n",
      "[CV] ................... C=0.6, solver=sag, score=0.691, total=   0.0s\n",
      "[CV] C=0.6, solver=saga ..............................................\n",
      "[CV] .................. C=0.6, solver=saga, score=0.678, total=   0.0s\n",
      "[CV] C=0.6, solver=saga ..............................................\n",
      "[CV] .................. C=0.6, solver=saga, score=0.657, total=   0.0s\n",
      "[CV] C=0.6, solver=saga ..............................................\n",
      "[CV] .................. C=0.6, solver=saga, score=0.673, total=   0.0s\n",
      "[CV] C=0.6, solver=saga ..............................................\n",
      "[CV] .................. C=0.6, solver=saga, score=0.676, total=   0.0s\n",
      "[CV] C=0.6, solver=saga ..............................................\n",
      "[CV] .................. C=0.6, solver=saga, score=0.691, total=   0.0s\n",
      "[CV] C=0.7, solver=newton-cg .........................................\n",
      "[CV] ............. C=0.7, solver=newton-cg, score=0.678, total=   0.0s\n",
      "[CV] C=0.7, solver=newton-cg .........................................\n",
      "[CV] ............. C=0.7, solver=newton-cg, score=0.657, total=   0.0s\n",
      "[CV] C=0.7, solver=newton-cg .........................................\n",
      "[CV] ............. C=0.7, solver=newton-cg, score=0.673, total=   0.0s\n",
      "[CV] C=0.7, solver=newton-cg .........................................\n",
      "[CV] ............. C=0.7, solver=newton-cg, score=0.676, total=   0.0s\n",
      "[CV] C=0.7, solver=newton-cg .........................................\n",
      "[CV] ............. C=0.7, solver=newton-cg, score=0.691, total=   0.0s\n",
      "[CV] C=0.7, solver=lbfgs .............................................\n",
      "[CV] ................. C=0.7, solver=lbfgs, score=0.678, total=   0.0s\n",
      "[CV] C=0.7, solver=lbfgs .............................................\n",
      "[CV] ................. C=0.7, solver=lbfgs, score=0.657, total=   0.0s\n",
      "[CV] C=0.7, solver=lbfgs .............................................\n",
      "[CV] ................. C=0.7, solver=lbfgs, score=0.673, total=   0.0s\n",
      "[CV] C=0.7, solver=lbfgs .............................................\n",
      "[CV] ................. C=0.7, solver=lbfgs, score=0.676, total=   0.0s\n",
      "[CV] C=0.7, solver=lbfgs .............................................\n",
      "[CV] ................. C=0.7, solver=lbfgs, score=0.691, total=   0.0s\n",
      "[CV] C=0.7, solver=liblinear .........................................\n",
      "[CV] ............. C=0.7, solver=liblinear, score=0.678, total=   0.0s\n",
      "[CV] C=0.7, solver=liblinear .........................................\n",
      "[CV] ............. C=0.7, solver=liblinear, score=0.657, total=   0.0s\n",
      "[CV] C=0.7, solver=liblinear .........................................\n",
      "[CV] ............. C=0.7, solver=liblinear, score=0.673, total=   0.0s\n",
      "[CV] C=0.7, solver=liblinear .........................................\n",
      "[CV] ............. C=0.7, solver=liblinear, score=0.676, total=   0.0s\n",
      "[CV] C=0.7, solver=liblinear .........................................\n",
      "[CV] ............. C=0.7, solver=liblinear, score=0.691, total=   0.0s\n",
      "[CV] C=0.7, solver=sag ...............................................\n",
      "[CV] ................... C=0.7, solver=sag, score=0.678, total=   0.0s\n",
      "[CV] C=0.7, solver=sag ...............................................\n",
      "[CV] ................... C=0.7, solver=sag, score=0.657, total=   0.0s\n",
      "[CV] C=0.7, solver=sag ...............................................\n",
      "[CV] ................... C=0.7, solver=sag, score=0.673, total=   0.0s\n",
      "[CV] C=0.7, solver=sag ...............................................\n",
      "[CV] ................... C=0.7, solver=sag, score=0.676, total=   0.0s\n",
      "[CV] C=0.7, solver=sag ...............................................\n",
      "[CV] ................... C=0.7, solver=sag, score=0.691, total=   0.0s\n",
      "[CV] C=0.7, solver=saga ..............................................\n",
      "[CV] .................. C=0.7, solver=saga, score=0.678, total=   0.0s\n",
      "[CV] C=0.7, solver=saga ..............................................\n",
      "[CV] .................. C=0.7, solver=saga, score=0.657, total=   0.0s\n",
      "[CV] C=0.7, solver=saga ..............................................\n",
      "[CV] .................. C=0.7, solver=saga, score=0.673, total=   0.0s\n",
      "[CV] C=0.7, solver=saga ..............................................\n",
      "[CV] .................. C=0.7, solver=saga, score=0.676, total=   0.0s\n",
      "[CV] C=0.7, solver=saga ..............................................\n",
      "[CV] .................. C=0.7, solver=saga, score=0.691, total=   0.0s\n",
      "[CV] C=0.8, solver=newton-cg .........................................\n",
      "[CV] ............. C=0.8, solver=newton-cg, score=0.678, total=   0.0s\n",
      "[CV] C=0.8, solver=newton-cg .........................................\n",
      "[CV] ............. C=0.8, solver=newton-cg, score=0.657, total=   0.0s\n",
      "[CV] C=0.8, solver=newton-cg .........................................\n",
      "[CV] ............. C=0.8, solver=newton-cg, score=0.673, total=   0.0s\n",
      "[CV] C=0.8, solver=newton-cg .........................................\n",
      "[CV] ............. C=0.8, solver=newton-cg, score=0.676, total=   0.0s\n",
      "[CV] C=0.8, solver=newton-cg .........................................\n",
      "[CV] ............. C=0.8, solver=newton-cg, score=0.691, total=   0.0s\n",
      "[CV] C=0.8, solver=lbfgs .............................................\n",
      "[CV] ................. C=0.8, solver=lbfgs, score=0.678, total=   0.0s\n",
      "[CV] C=0.8, solver=lbfgs .............................................\n",
      "[CV] ................. C=0.8, solver=lbfgs, score=0.657, total=   0.0s\n",
      "[CV] C=0.8, solver=lbfgs .............................................\n",
      "[CV] ................. C=0.8, solver=lbfgs, score=0.673, total=   0.0s\n",
      "[CV] C=0.8, solver=lbfgs .............................................\n",
      "[CV] ................. C=0.8, solver=lbfgs, score=0.676, total=   0.0s\n",
      "[CV] C=0.8, solver=lbfgs .............................................\n",
      "[CV] ................. C=0.8, solver=lbfgs, score=0.691, total=   0.0s\n",
      "[CV] C=0.8, solver=liblinear .........................................\n",
      "[CV] ............. C=0.8, solver=liblinear, score=0.678, total=   0.0s\n",
      "[CV] C=0.8, solver=liblinear .........................................\n",
      "[CV] ............. C=0.8, solver=liblinear, score=0.657, total=   0.0s\n",
      "[CV] C=0.8, solver=liblinear .........................................\n",
      "[CV] ............. C=0.8, solver=liblinear, score=0.673, total=   0.0s\n",
      "[CV] C=0.8, solver=liblinear .........................................\n",
      "[CV] ............. C=0.8, solver=liblinear, score=0.676, total=   0.0s\n",
      "[CV] C=0.8, solver=liblinear .........................................\n",
      "[CV] ............. C=0.8, solver=liblinear, score=0.691, total=   0.0s\n",
      "[CV] C=0.8, solver=sag ...............................................\n",
      "[CV] ................... C=0.8, solver=sag, score=0.678, total=   0.0s\n",
      "[CV] C=0.8, solver=sag ...............................................\n",
      "[CV] ................... C=0.8, solver=sag, score=0.657, total=   0.0s\n",
      "[CV] C=0.8, solver=sag ...............................................\n",
      "[CV] ................... C=0.8, solver=sag, score=0.673, total=   0.0s\n",
      "[CV] C=0.8, solver=sag ...............................................\n",
      "[CV] ................... C=0.8, solver=sag, score=0.676, total=   0.0s\n",
      "[CV] C=0.8, solver=sag ...............................................\n",
      "[CV] ................... C=0.8, solver=sag, score=0.691, total=   0.0s\n",
      "[CV] C=0.8, solver=saga ..............................................\n",
      "[CV] .................. C=0.8, solver=saga, score=0.678, total=   0.0s\n",
      "[CV] C=0.8, solver=saga ..............................................\n",
      "[CV] .................. C=0.8, solver=saga, score=0.657, total=   0.0s\n",
      "[CV] C=0.8, solver=saga ..............................................\n",
      "[CV] .................. C=0.8, solver=saga, score=0.673, total=   0.0s\n",
      "[CV] C=0.8, solver=saga ..............................................\n",
      "[CV] .................. C=0.8, solver=saga, score=0.676, total=   0.0s\n",
      "[CV] C=0.8, solver=saga ..............................................\n",
      "[CV] .................. C=0.8, solver=saga, score=0.691, total=   0.0s\n",
      "[CV] C=0.9, solver=newton-cg .........................................\n",
      "[CV] ............. C=0.9, solver=newton-cg, score=0.678, total=   0.0s\n",
      "[CV] C=0.9, solver=newton-cg .........................................\n",
      "[CV] ............. C=0.9, solver=newton-cg, score=0.657, total=   0.0s\n",
      "[CV] C=0.9, solver=newton-cg .........................................\n",
      "[CV] ............. C=0.9, solver=newton-cg, score=0.673, total=   0.0s\n",
      "[CV] C=0.9, solver=newton-cg .........................................\n",
      "[CV] ............. C=0.9, solver=newton-cg, score=0.676, total=   0.0s\n",
      "[CV] C=0.9, solver=newton-cg .........................................\n",
      "[CV] ............. C=0.9, solver=newton-cg, score=0.691, total=   0.0s\n",
      "[CV] C=0.9, solver=lbfgs .............................................\n",
      "[CV] ................. C=0.9, solver=lbfgs, score=0.678, total=   0.0s\n",
      "[CV] C=0.9, solver=lbfgs .............................................\n",
      "[CV] ................. C=0.9, solver=lbfgs, score=0.657, total=   0.0s\n",
      "[CV] C=0.9, solver=lbfgs .............................................\n",
      "[CV] ................. C=0.9, solver=lbfgs, score=0.673, total=   0.0s\n",
      "[CV] C=0.9, solver=lbfgs .............................................\n",
      "[CV] ................. C=0.9, solver=lbfgs, score=0.676, total=   0.0s\n",
      "[CV] C=0.9, solver=lbfgs .............................................\n",
      "[CV] ................. C=0.9, solver=lbfgs, score=0.691, total=   0.0s\n",
      "[CV] C=0.9, solver=liblinear .........................................\n",
      "[CV] ............. C=0.9, solver=liblinear, score=0.678, total=   0.0s\n",
      "[CV] C=0.9, solver=liblinear .........................................\n",
      "[CV] ............. C=0.9, solver=liblinear, score=0.657, total=   0.0s\n",
      "[CV] C=0.9, solver=liblinear .........................................\n",
      "[CV] ............. C=0.9, solver=liblinear, score=0.673, total=   0.0s\n",
      "[CV] C=0.9, solver=liblinear .........................................\n",
      "[CV] ............. C=0.9, solver=liblinear, score=0.676, total=   0.0s\n",
      "[CV] C=0.9, solver=liblinear .........................................\n",
      "[CV] ............. C=0.9, solver=liblinear, score=0.691, total=   0.0s\n",
      "[CV] C=0.9, solver=sag ...............................................\n",
      "[CV] ................... C=0.9, solver=sag, score=0.678, total=   0.0s\n",
      "[CV] C=0.9, solver=sag ...............................................\n",
      "[CV] ................... C=0.9, solver=sag, score=0.657, total=   0.0s\n",
      "[CV] C=0.9, solver=sag ...............................................\n",
      "[CV] ................... C=0.9, solver=sag, score=0.673, total=   0.0s\n",
      "[CV] C=0.9, solver=sag ...............................................\n",
      "[CV] ................... C=0.9, solver=sag, score=0.676, total=   0.0s\n",
      "[CV] C=0.9, solver=sag ...............................................\n",
      "[CV] ................... C=0.9, solver=sag, score=0.691, total=   0.0s\n",
      "[CV] C=0.9, solver=saga ..............................................\n",
      "[CV] .................. C=0.9, solver=saga, score=0.678, total=   0.0s\n",
      "[CV] C=0.9, solver=saga ..............................................\n",
      "[CV] .................. C=0.9, solver=saga, score=0.657, total=   0.0s\n",
      "[CV] C=0.9, solver=saga ..............................................\n",
      "[CV] .................. C=0.9, solver=saga, score=0.673, total=   0.0s\n",
      "[CV] C=0.9, solver=saga ..............................................\n",
      "[CV] .................. C=0.9, solver=saga, score=0.676, total=   0.0s\n",
      "[CV] C=0.9, solver=saga ..............................................\n",
      "[CV] .................. C=0.9, solver=saga, score=0.691, total=   0.0s\n",
      "[CV] C=1, solver=newton-cg ...........................................\n",
      "[CV] ............... C=1, solver=newton-cg, score=0.678, total=   0.0s\n",
      "[CV] C=1, solver=newton-cg ...........................................\n",
      "[CV] ............... C=1, solver=newton-cg, score=0.657, total=   0.0s\n",
      "[CV] C=1, solver=newton-cg ...........................................\n",
      "[CV] ............... C=1, solver=newton-cg, score=0.673, total=   0.0s\n",
      "[CV] C=1, solver=newton-cg ...........................................\n",
      "[CV] ............... C=1, solver=newton-cg, score=0.676, total=   0.0s\n",
      "[CV] C=1, solver=newton-cg ...........................................\n",
      "[CV] ............... C=1, solver=newton-cg, score=0.691, total=   0.0s\n",
      "[CV] C=1, solver=lbfgs ...............................................\n",
      "[CV] ................... C=1, solver=lbfgs, score=0.678, total=   0.0s\n",
      "[CV] C=1, solver=lbfgs ...............................................\n",
      "[CV] ................... C=1, solver=lbfgs, score=0.657, total=   0.0s\n",
      "[CV] C=1, solver=lbfgs ...............................................\n",
      "[CV] ................... C=1, solver=lbfgs, score=0.673, total=   0.0s\n",
      "[CV] C=1, solver=lbfgs ...............................................\n",
      "[CV] ................... C=1, solver=lbfgs, score=0.676, total=   0.0s\n",
      "[CV] C=1, solver=lbfgs ...............................................\n",
      "[CV] ................... C=1, solver=lbfgs, score=0.691, total=   0.0s\n",
      "[CV] C=1, solver=liblinear ...........................................\n",
      "[CV] ............... C=1, solver=liblinear, score=0.678, total=   0.0s\n",
      "[CV] C=1, solver=liblinear ...........................................\n",
      "[CV] ............... C=1, solver=liblinear, score=0.657, total=   0.0s\n",
      "[CV] C=1, solver=liblinear ...........................................\n",
      "[CV] ............... C=1, solver=liblinear, score=0.673, total=   0.0s\n",
      "[CV] C=1, solver=liblinear ...........................................\n",
      "[CV] ............... C=1, solver=liblinear, score=0.676, total=   0.0s\n",
      "[CV] C=1, solver=liblinear ...........................................\n",
      "[CV] ............... C=1, solver=liblinear, score=0.691, total=   0.0s\n",
      "[CV] C=1, solver=sag .................................................\n",
      "[CV] ..................... C=1, solver=sag, score=0.678, total=   0.0s\n",
      "[CV] C=1, solver=sag .................................................\n",
      "[CV] ..................... C=1, solver=sag, score=0.657, total=   0.0s\n",
      "[CV] C=1, solver=sag .................................................\n",
      "[CV] ..................... C=1, solver=sag, score=0.673, total=   0.0s\n",
      "[CV] C=1, solver=sag .................................................\n",
      "[CV] ..................... C=1, solver=sag, score=0.676, total=   0.0s\n",
      "[CV] C=1, solver=sag .................................................\n",
      "[CV] ..................... C=1, solver=sag, score=0.691, total=   0.0s\n",
      "[CV] C=1, solver=saga ................................................\n",
      "[CV] .................... C=1, solver=saga, score=0.678, total=   0.0s\n",
      "[CV] C=1, solver=saga ................................................\n",
      "[CV] .................... C=1, solver=saga, score=0.657, total=   0.0s\n",
      "[CV] C=1, solver=saga ................................................\n",
      "[CV] .................... C=1, solver=saga, score=0.673, total=   0.0s\n",
      "[CV] C=1, solver=saga ................................................\n",
      "[CV] .................... C=1, solver=saga, score=0.676, total=   0.0s\n",
      "[CV] C=1, solver=saga ................................................\n",
      "[CV] .................... C=1, solver=saga, score=0.691, total=   0.0s\n",
      "[CV] C=100, solver=newton-cg .........................................\n",
      "[CV] ............. C=100, solver=newton-cg, score=0.678, total=   0.0s\n",
      "[CV] C=100, solver=newton-cg .........................................\n",
      "[CV] ............. C=100, solver=newton-cg, score=0.656, total=   0.0s\n",
      "[CV] C=100, solver=newton-cg .........................................\n",
      "[CV] ............. C=100, solver=newton-cg, score=0.673, total=   0.0s\n",
      "[CV] C=100, solver=newton-cg .........................................\n",
      "[CV] ............. C=100, solver=newton-cg, score=0.676, total=   0.0s\n",
      "[CV] C=100, solver=newton-cg .........................................\n",
      "[CV] ............. C=100, solver=newton-cg, score=0.691, total=   0.0s\n",
      "[CV] C=100, solver=lbfgs .............................................\n",
      "[CV] ................. C=100, solver=lbfgs, score=0.678, total=   0.0s\n",
      "[CV] C=100, solver=lbfgs .............................................\n",
      "[CV] ................. C=100, solver=lbfgs, score=0.656, total=   0.0s\n",
      "[CV] C=100, solver=lbfgs .............................................\n",
      "[CV] ................. C=100, solver=lbfgs, score=0.673, total=   0.0s\n",
      "[CV] C=100, solver=lbfgs .............................................\n",
      "[CV] ................. C=100, solver=lbfgs, score=0.676, total=   0.0s\n",
      "[CV] C=100, solver=lbfgs .............................................\n",
      "[CV] ................. C=100, solver=lbfgs, score=0.691, total=   0.0s\n",
      "[CV] C=100, solver=liblinear .........................................\n",
      "[CV] ............. C=100, solver=liblinear, score=0.678, total=   0.0s\n",
      "[CV] C=100, solver=liblinear .........................................\n",
      "[CV] ............. C=100, solver=liblinear, score=0.656, total=   0.0s\n",
      "[CV] C=100, solver=liblinear .........................................\n",
      "[CV] ............. C=100, solver=liblinear, score=0.673, total=   0.0s\n",
      "[CV] C=100, solver=liblinear .........................................\n",
      "[CV] ............. C=100, solver=liblinear, score=0.676, total=   0.0s\n",
      "[CV] C=100, solver=liblinear .........................................\n",
      "[CV] ............. C=100, solver=liblinear, score=0.691, total=   0.0s\n",
      "[CV] C=100, solver=sag ...............................................\n",
      "[CV] ................... C=100, solver=sag, score=0.678, total=   0.0s\n",
      "[CV] C=100, solver=sag ...............................................\n",
      "[CV] ................... C=100, solver=sag, score=0.656, total=   0.0s\n",
      "[CV] C=100, solver=sag ...............................................\n",
      "[CV] ................... C=100, solver=sag, score=0.673, total=   0.0s\n",
      "[CV] C=100, solver=sag ...............................................\n",
      "[CV] ................... C=100, solver=sag, score=0.676, total=   0.0s\n",
      "[CV] C=100, solver=sag ...............................................\n",
      "[CV] ................... C=100, solver=sag, score=0.691, total=   0.0s\n",
      "[CV] C=100, solver=saga ..............................................\n",
      "[CV] .................. C=100, solver=saga, score=0.678, total=   0.0s\n",
      "[CV] C=100, solver=saga ..............................................\n",
      "[CV] .................. C=100, solver=saga, score=0.656, total=   0.0s\n",
      "[CV] C=100, solver=saga ..............................................\n",
      "[CV] .................. C=100, solver=saga, score=0.673, total=   0.0s\n",
      "[CV] C=100, solver=saga ..............................................\n",
      "[CV] .................. C=100, solver=saga, score=0.676, total=   0.0s\n",
      "[CV] C=100, solver=saga ..............................................\n",
      "[CV] .................. C=100, solver=saga, score=0.691, total=   0.0s\n",
      "[CV] C=1000, solver=newton-cg ........................................\n",
      "[CV] ............ C=1000, solver=newton-cg, score=0.678, total=   0.0s\n",
      "[CV] C=1000, solver=newton-cg ........................................\n",
      "[CV] ............ C=1000, solver=newton-cg, score=0.656, total=   0.0s\n",
      "[CV] C=1000, solver=newton-cg ........................................\n",
      "[CV] ............ C=1000, solver=newton-cg, score=0.673, total=   0.0s\n",
      "[CV] C=1000, solver=newton-cg ........................................\n",
      "[CV] ............ C=1000, solver=newton-cg, score=0.676, total=   0.0s\n",
      "[CV] C=1000, solver=newton-cg ........................................\n",
      "[CV] ............ C=1000, solver=newton-cg, score=0.691, total=   0.0s\n",
      "[CV] C=1000, solver=lbfgs ............................................\n",
      "[CV] ................ C=1000, solver=lbfgs, score=0.678, total=   0.0s\n",
      "[CV] C=1000, solver=lbfgs ............................................\n",
      "[CV] ................ C=1000, solver=lbfgs, score=0.656, total=   0.0s\n",
      "[CV] C=1000, solver=lbfgs ............................................\n",
      "[CV] ................ C=1000, solver=lbfgs, score=0.673, total=   0.0s\n",
      "[CV] C=1000, solver=lbfgs ............................................\n",
      "[CV] ................ C=1000, solver=lbfgs, score=0.676, total=   0.0s\n",
      "[CV] C=1000, solver=lbfgs ............................................\n",
      "[CV] ................ C=1000, solver=lbfgs, score=0.691, total=   0.0s\n",
      "[CV] C=1000, solver=liblinear ........................................\n",
      "[CV] ............ C=1000, solver=liblinear, score=0.678, total=   0.0s\n",
      "[CV] C=1000, solver=liblinear ........................................\n",
      "[CV] ............ C=1000, solver=liblinear, score=0.656, total=   0.0s\n",
      "[CV] C=1000, solver=liblinear ........................................\n",
      "[CV] ............ C=1000, solver=liblinear, score=0.673, total=   0.0s\n",
      "[CV] C=1000, solver=liblinear ........................................\n",
      "[CV] ............ C=1000, solver=liblinear, score=0.676, total=   0.0s\n",
      "[CV] C=1000, solver=liblinear ........................................\n",
      "[CV] ............ C=1000, solver=liblinear, score=0.691, total=   0.0s\n",
      "[CV] C=1000, solver=sag ..............................................\n",
      "[CV] .................. C=1000, solver=sag, score=0.678, total=   0.0s\n",
      "[CV] C=1000, solver=sag ..............................................\n",
      "[CV] .................. C=1000, solver=sag, score=0.656, total=   0.0s\n",
      "[CV] C=1000, solver=sag ..............................................\n",
      "[CV] .................. C=1000, solver=sag, score=0.673, total=   0.0s\n",
      "[CV] C=1000, solver=sag ..............................................\n",
      "[CV] .................. C=1000, solver=sag, score=0.676, total=   0.0s\n",
      "[CV] C=1000, solver=sag ..............................................\n",
      "[CV] .................. C=1000, solver=sag, score=0.691, total=   0.0s\n",
      "[CV] C=1000, solver=saga .............................................\n",
      "[CV] ................. C=1000, solver=saga, score=0.678, total=   0.0s\n",
      "[CV] C=1000, solver=saga .............................................\n",
      "[CV] ................. C=1000, solver=saga, score=0.656, total=   0.0s\n",
      "[CV] C=1000, solver=saga .............................................\n",
      "[CV] ................. C=1000, solver=saga, score=0.673, total=   0.0s\n",
      "[CV] C=1000, solver=saga .............................................\n",
      "[CV] ................. C=1000, solver=saga, score=0.676, total=   0.0s\n",
      "[CV] C=1000, solver=saga .............................................\n",
      "[CV] ................. C=1000, solver=saga, score=0.691, total=   0.0s\n"
     ]
    },
    {
     "name": "stderr",
     "output_type": "stream",
     "text": [
      "[Parallel(n_jobs=1)]: Done 300 out of 300 | elapsed:    4.3s finished\n"
     ]
    },
    {
     "data": {
      "text/plain": [
       "GridSearchCV(estimator=LogisticRegression(C=0.2, class_weight={0: 1, 1: 5},\n",
       "                                          solver='newton-cg'),\n",
       "             param_grid={'C': [0.1, 0.2, 0.3, 0.4, 0.5, 0.6, 0.7, 0.8, 0.9, 1,\n",
       "                               100, 1000],\n",
       "                         'solver': ['newton-cg', 'lbfgs', 'liblinear', 'sag',\n",
       "                                    'saga']},\n",
       "             scoring='f1', verbose=3)"
      ]
     },
     "execution_count": 674,
     "metadata": {},
     "output_type": "execute_result"
    }
   ],
   "source": [
    "param_grid = {'C': [0.1, 0.2, 0.3, 0.4, 0.5,0.6, 0.7, 0.8, 0.9, 1, 100, 1000]}\n",
    "\n",
    "grid = GridSearchCV(logreg_play, param_grid, refit = True, verbose = 3, scoring = 'f1') \n",
    "\n",
    "grid.fit(X2_train_scaled, y_train_val) "
   ]
  },
  {
   "cell_type": "code",
   "execution_count": 675,
   "metadata": {},
   "outputs": [
    {
     "name": "stdout",
     "output_type": "stream",
     "text": [
      "LogisticRegression(C=0.2, class_weight={0: 1, 1: 5}, solver='newton-cg')\n"
     ]
    }
   ],
   "source": [
    "print(grid.best_estimator_)"
   ]
  },
  {
   "cell_type": "markdown",
   "metadata": {},
   "source": [
    "Let's see how it performs on the testing holdout data!"
   ]
  },
  {
   "cell_type": "code",
   "execution_count": 1446,
   "metadata": {},
   "outputs": [],
   "source": [
    "X2_train_scaled = scaler.fit_transform(X2_train_val)"
   ]
  },
  {
   "cell_type": "code",
   "execution_count": 1447,
   "metadata": {},
   "outputs": [],
   "source": [
    "X2_test_scaled = scaler.transform(X2_test)"
   ]
  },
  {
   "cell_type": "code",
   "execution_count": 1448,
   "metadata": {},
   "outputs": [],
   "source": [
    "_ = cross_validate(logreg_play, X2_test_scaled, y_test, cv = 5, scoring = ['f1', 'accuracy', 'precision', 'recall'])"
   ]
  },
  {
   "cell_type": "code",
   "execution_count": 1449,
   "metadata": {},
   "outputs": [],
   "source": [
    "log_test_scores = []\n",
    "for score in _:\n",
    "    log_test_scores.append(f'{score}: {np.mean(_[score]): .4f}')   "
   ]
  },
  {
   "cell_type": "code",
   "execution_count": 1450,
   "metadata": {},
   "outputs": [
    {
     "data": {
      "text/plain": [
       "['fit_time:  0.0077',\n",
       " 'score_time:  0.0053',\n",
       " 'test_f1:  0.6767',\n",
       " 'test_accuracy:  0.9004',\n",
       " 'test_precision:  0.6630',\n",
       " 'test_recall:  0.6936']"
      ]
     },
     "execution_count": 1450,
     "metadata": {},
     "output_type": "execute_result"
    }
   ],
   "source": [
    "log_test_scores"
   ]
  },
  {
   "cell_type": "code",
   "execution_count": 1451,
   "metadata": {
    "scrolled": true
   },
   "outputs": [
    {
     "data": {
      "text/plain": [
       "[array([[ 2.25501275, -0.83186573]]),\n",
       " Index(['PageValues', 'ExitRates'], dtype='object')]"
      ]
     },
     "execution_count": 1451,
     "metadata": {},
     "output_type": "execute_result"
    }
   ],
   "source": [
    "list(((logreg_play.coef_), X2_train_val.columns))"
   ]
  },
  {
   "cell_type": "code",
   "execution_count": 1452,
   "metadata": {},
   "outputs": [
    {
     "data": {
      "text/plain": [
       "<sklearn.metrics._plot.confusion_matrix.ConfusionMatrixDisplay at 0x7fd348c7a090>"
      ]
     },
     "execution_count": 1452,
     "metadata": {},
     "output_type": "execute_result"
    },
    {
     "data": {
      "image/png": "[encoded data removed]",
      "text/plain": [
       "<Figure size 432x288 with 2 Axes>"
      ]
     },
     "metadata": {
      "needs_background": "light"
     },
     "output_type": "display_data"
    }
   ],
   "source": [
    "plot_confusion_matrix(logreg_play.fit(X2_train_scaled, y_train_val), X2_test_scaled, y_test, cmap = plt.cm.Blues)"
   ]
  },
  {
   "cell_type": "markdown",
   "metadata": {},
   "source": [
    "## XGBoostClassifier"
   ]
  },
  {
   "cell_type": "code",
   "execution_count": 1458,
   "metadata": {},
   "outputs": [],
   "source": [
    "import xgboost as xgb\n",
    "from sklearn.model_selection import KFold"
   ]
  },
  {
   "cell_type": "code",
   "execution_count": 1459,
   "metadata": {},
   "outputs": [],
   "source": [
    "kf= KFold(n_splits=5,random_state=24,shuffle=True)"
   ]
  },
  {
   "cell_type": "code",
   "execution_count": 903,
   "metadata": {},
   "outputs": [],
   "source": [
    "gbm_scores = defaultdict(list)"
   ]
  },
  {
   "cell_type": "markdown",
   "metadata": {},
   "source": [
    "One Feature"
   ]
  },
  {
   "cell_type": "code",
   "execution_count": 1078,
   "metadata": {
    "scrolled": true
   },
   "outputs": [
    {
     "name": "stdout",
     "output_type": "stream",
     "text": [
      "0.6889186969038463\n"
     ]
    }
   ],
   "source": [
    "temp_list = []\n",
    "for train_index, val_index in kf.split(X_train_val):\n",
    "    count = 0\n",
    "    X_train, X_val = X_train_scaled[train_index], X_train_scaled[val_index]\n",
    "    y_train, y_val = y_train_val.values[train_index], y_train_val.values[val_index]\n",
    "    \n",
    "    gbm = xgb.XGBClassifier( \n",
    "                      n_estimators=30000,\n",
    "                        max_depth=6,\n",
    "                        objective='binary:logistic', #new objective\n",
    "                        learning_rate=.05, \n",
    "                        subsample=.8,\n",
    "                        min_child_weight=2,\n",
    "                        colsample_bytree=.9\n",
    "                       )\n",
    "\n",
    "    eval_set=[(X_train,y_train),(X_val,y_val)]\n",
    "    gbm.fit( \n",
    "                    X_train_scaled, y_train_val, \n",
    "                    eval_set=eval_set,\n",
    "                    eval_metric='error', #new evaluation metric: classification error (could also use AUC, e.g.)\n",
    "                    early_stopping_rounds=50,\n",
    "                    verbose=False\n",
    "                   )\n",
    "\n",
    "    temp_list.append(f1_score(y_val, (gbm.predict_proba(X_val, ntree_limit=gbm.best_ntree_limit) >= 0.50).astype(int)[:,1]))\n",
    "\n",
    "\n",
    "print(np.mean(temp_list))"
   ]
  },
  {
   "cell_type": "code",
   "execution_count": 983,
   "metadata": {},
   "outputs": [
    {
     "data": {
      "text/plain": [
       "0.7045001843961549"
      ]
     },
     "execution_count": 983,
     "metadata": {},
     "output_type": "execute_result"
    }
   ],
   "source": [
    "np.mean(temp_list)"
   ]
  },
  {
   "cell_type": "markdown",
   "metadata": {},
   "source": [
    "All Features"
   ]
  },
  {
   "cell_type": "code",
   "execution_count": 1285,
   "metadata": {},
   "outputs": [
    {
     "name": "stdout",
     "output_type": "stream",
     "text": [
      "0.9785330218841466\n"
     ]
    }
   ],
   "source": [
    "temp_list = []\n",
    "for train_index, val_index in kf.split(X3_train_val):\n",
    "    \n",
    "    X_train, X_val = X3_train_scaled[train_index], X3_train_scaled[val_index]\n",
    "    y_train, y_val = y_train_val.values[train_index], y_train_val.values[val_index]\n",
    "    \n",
    "    gbm = xgb.XGBClassifier( \n",
    "                        n_estimators=30000,\n",
    "                        max_depth=7,\n",
    "                        objective='binary:logistic', #new objective\n",
    "                        learning_rate=.05, \n",
    "                        subsample=.8,\n",
    "                        min_child_weight=2,\n",
    "                        colsample_bytree=.9\n",
    "                       )\n",
    "\n",
    "    eval_set=[(X_train,y_train),(X_val,y_val)]\n",
    "    gbm.fit( \n",
    "                    X3_train_scaled, y_train_val, \n",
    "                    eval_set=eval_set,\n",
    "                    eval_metric='error', #new evaluation metric: classification error (could also use AUC, e.g.)\n",
    "                    early_stopping_rounds=50,\n",
    "                    verbose=False\n",
    "                   )\n",
    "    \n",
    "    temp_list.append(np.mean(f1_score(y_val, (gbm.predict_proba(X_val, ntree_limit=gbm.best_ntree_limit) >= 0.36).astype(int)[:,1])))\n",
    "    #print(f1_score(y_val, gbm.predict(X_val, ntree_limit=gbm.best_ntree_limit)) )\n",
    "\n",
    "gbm_scores[gbm] = np.mean(temp_list)\n",
    "print(np.mean(temp_list))   "
   ]
  },
  {
   "cell_type": "markdown",
   "metadata": {},
   "source": [
    "Let's see how it performs on the holdout testing dataset."
   ]
  },
  {
   "cell_type": "code",
   "execution_count": 1460,
   "metadata": {},
   "outputs": [],
   "source": [
    "X3_train_scaled = scaler.fit_transform(X3_train_val)"
   ]
  },
  {
   "cell_type": "code",
   "execution_count": 1461,
   "metadata": {},
   "outputs": [],
   "source": [
    "X3_test_scaled = scaler.transform(X3_test)"
   ]
  },
  {
   "cell_type": "code",
   "execution_count": 1313,
   "metadata": {},
   "outputs": [
    {
     "name": "stdout",
     "output_type": "stream",
     "text": [
      "0.6964769647696476\n"
     ]
    }
   ],
   "source": [
    "test_results = []\n",
    "    \n",
    "gbm = xgb.XGBClassifier( \n",
    "                        n_estimators=30000,\n",
    "                        max_depth=7,\n",
    "                        objective='binary:logistic', #new objective\n",
    "                        learning_rate=.05, \n",
    "                        subsample=.8,\n",
    "                        min_child_weight=2,\n",
    "                        colsample_bytree=.9\n",
    "                       )\n",
    "\n",
    "eval_set=[(X3_train_scaled,y_train_val),(X3_test_scaled,y_test)]\n",
    "gbm.fit( \n",
    "                    X3_train_scaled, y_train_val, \n",
    "                    eval_set=eval_set,\n",
    "                    eval_metric='error', #new evaluation metric: classification error (could also use AUC, e.g.)\n",
    "                    early_stopping_rounds=50,\n",
    "                    verbose=False\n",
    "                   )\n",
    "test_results.append((f1_score(y_test, (gbm.predict_proba(X3_test_scaled, ntree_limit=gbm.best_ntree_limit) >= 0.36).astype(int)[:,1])))\n",
    "#print(f1_score(y_test, gbm.predict(X3_test_scaled, ntree_limit=gbm.best_ntree_limit)) )\n",
    "\n",
    "#gbm_scores[gbm] = np.mean(test_results)\n",
    "print(np.mean(test_results))   "
   ]
  },
  {
   "cell_type": "code",
   "execution_count": 1462,
   "metadata": {
    "scrolled": true
   },
   "outputs": [
    {
     "data": {
      "text/plain": [
       "<sklearn.metrics._plot.confusion_matrix.ConfusionMatrixDisplay at 0x7fd34d273350>"
      ]
     },
     "execution_count": 1462,
     "metadata": {},
     "output_type": "execute_result"
    },
    {
     "data": {
      "image/png": "[encoded data removed]",
      "text/plain": [
       "<Figure size 432x288 with 2 Axes>"
      ]
     },
     "metadata": {
      "needs_background": "light"
     },
     "output_type": "display_data"
    }
   ],
   "source": [
    "plot_confusion_matrix(gbm.fit(X3_train_scaled, y_train_val), X3_test_scaled, y_test, cmap = plt.cm.Blues)"
   ]
  },
  {
   "cell_type": "code",
   "execution_count": 1468,
   "metadata": {},
   "outputs": [
    {
     "data": {
      "image/png": "[encoded data removed]",
      "text/plain": [
       "<Figure size 432x288 with 1 Axes>"
      ]
     },
     "metadata": {
      "needs_background": "light"
     },
     "output_type": "display_data"
    }
   ],
   "source": [
    "#xgb.plot_importance(gbm)\n",
    "\n",
    "xgb.plot_importance(gbm, importance_type='gain', show_values=False);"
   ]
  },
  {
   "cell_type": "markdown",
   "metadata": {},
   "source": [
    "# Baseline Model - No Page Value"
   ]
  },
  {
   "cell_type": "code",
   "execution_count": 1469,
   "metadata": {},
   "outputs": [],
   "source": [
    "X = online[['ProductRelated']] #, 'ProductRelated_Duration', 'Administrative', 'Administrative_Duration', 'ExitRates', 'MonthNum']]\n",
    "\n",
    "y = online['Revenue_Num']"
   ]
  },
  {
   "cell_type": "code",
   "execution_count": 1470,
   "metadata": {},
   "outputs": [],
   "source": [
    "X_train_val, X_test, y_train_val, y_test = train_test_split(X, y, test_size = 0.2, random_state = 24)"
   ]
  },
  {
   "cell_type": "code",
   "execution_count": 1471,
   "metadata": {},
   "outputs": [],
   "source": [
    "nopg_baseline_dict = defaultdict(list)\n",
    "for each in model:\n",
    "    scores = cross_validate(each, X_train_val, y_train_val, cv = 5, scoring = ['f1', 'accuracy', 'precision', 'recall'])\n",
    "    nopg_baseline_dict[str(each)]\n",
    "    y_pred = each.predict\n",
    "    for score in scores:\n",
    "        if score == 'fit_time' or score == 'score_time':\n",
    "            continue\n",
    "        else:\n",
    "            nopg_baseline_dict[str(each)].append(f'{score}: {np.mean(scores[score]): .4f}')"
   ]
  },
  {
   "cell_type": "code",
   "execution_count": 1472,
   "metadata": {},
   "outputs": [
    {
     "data": {
      "text/plain": [
       "defaultdict(list,\n",
       "            {'LogisticRegression(class_weight={0: 1, 1: 5}, max_iter=10000)': ['test_f1:  0.2546',\n",
       "              'test_accuracy:  0.7471',\n",
       "              'test_precision:  0.2235',\n",
       "              'test_recall:  0.2963'],\n",
       "             'KNeighborsClassifier()': ['test_f1:  0.0877',\n",
       "              'test_accuracy:  0.8287',\n",
       "              'test_precision:  0.2019',\n",
       "              'test_recall:  0.0575'],\n",
       "             'GaussianNB()': ['test_f1:  0.1046',\n",
       "              'test_accuracy:  0.8397',\n",
       "              'test_precision:  0.2868',\n",
       "              'test_recall:  0.0642'],\n",
       "             'SVC(class_weight={0: 1, 1: 5})': ['test_f1:  0.3094',\n",
       "              'test_accuracy:  0.5831',\n",
       "              'test_precision:  0.2039',\n",
       "              'test_recall:  0.6410'],\n",
       "             'DecisionTreeClassifier(class_weight={0: 1, 1: 5})': ['test_f1:  0.2732',\n",
       "              'test_accuracy:  0.6197',\n",
       "              'test_precision:  0.1897',\n",
       "              'test_recall:  0.4910'],\n",
       "             'RandomForestClassifier(class_weight={0: 1, 1: 5})': ['test_f1:  0.2660',\n",
       "              'test_accuracy:  0.6343',\n",
       "              'test_precision:  0.1882',\n",
       "              'test_recall:  0.4552']})"
      ]
     },
     "execution_count": 1472,
     "metadata": {},
     "output_type": "execute_result"
    }
   ],
   "source": [
    "nopg_baseline_dict"
   ]
  },
  {
   "cell_type": "markdown",
   "metadata": {},
   "source": [
    "## Add Features"
   ]
  },
  {
   "cell_type": "code",
   "execution_count": 1473,
   "metadata": {},
   "outputs": [],
   "source": [
    "X2 = online[['ExitRates', 'ProductRelated', 'ProductRelated_Duration', 'Administrative', 'Administrative_Duration', 'ExitRates', 'MonthNum', 'New_Visitor']]\n",
    "\n",
    "y2 = online['Revenue_Num']"
   ]
  },
  {
   "cell_type": "code",
   "execution_count": 1474,
   "metadata": {},
   "outputs": [],
   "source": [
    "X2_train_val, X2_test, y_train_val, y_test = train_test_split(X2, y2, test_size = 0.2, random_state = 24)"
   ]
  },
  {
   "cell_type": "code",
   "execution_count": 1475,
   "metadata": {},
   "outputs": [],
   "source": [
    "X2_train_scaled = scaler.fit_transform(X2_train_val)"
   ]
  },
  {
   "cell_type": "code",
   "execution_count": 1476,
   "metadata": {},
   "outputs": [],
   "source": [
    "nopg_add_features_dict = defaultdict(list)\n",
    "for each in model:\n",
    "    scores = cross_validate(each, X2_train_scaled, y_train_val, cv = 5, scoring = ['f1', 'accuracy', 'precision', 'recall'])\n",
    "    nopg_add_features_dict[str(each)]\n",
    "    y_pred = each.predict\n",
    "    for score in scores:\n",
    "        if score == 'fit_time' or score == 'score_time':\n",
    "            continue\n",
    "        else:\n",
    "            nopg_add_features_dict[str(each)].append(f'{score}: {np.mean(scores[score]): .4f}')"
   ]
  },
  {
   "cell_type": "code",
   "execution_count": 1477,
   "metadata": {},
   "outputs": [
    {
     "data": {
      "text/plain": [
       "defaultdict(list,\n",
       "            {'LogisticRegression(class_weight={0: 1, 1: 5}, max_iter=10000)': ['test_f1:  0.3580',\n",
       "              'test_accuracy:  0.6555',\n",
       "              'test_precision:  0.2458',\n",
       "              'test_recall:  0.6590'],\n",
       "             'KNeighborsClassifier()': ['test_f1:  0.1856',\n",
       "              'test_accuracy:  0.8332',\n",
       "              'test_precision:  0.3215',\n",
       "              'test_recall:  0.1306'],\n",
       "             'GaussianNB()': ['test_f1:  0.3386',\n",
       "              'test_accuracy:  0.6722',\n",
       "              'test_precision:  0.2398',\n",
       "              'test_recall:  0.5761'],\n",
       "             'SVC(class_weight={0: 1, 1: 5})': ['test_f1:  0.3726',\n",
       "              'test_accuracy:  0.6678',\n",
       "              'test_precision:  0.2571',\n",
       "              'test_recall:  0.6769'],\n",
       "             'DecisionTreeClassifier(class_weight={0: 1, 1: 5})': ['test_f1:  0.2722',\n",
       "              'test_accuracy:  0.7871',\n",
       "              'test_precision:  0.2719',\n",
       "              'test_recall:  0.2731'],\n",
       "             'RandomForestClassifier(class_weight={0: 1, 1: 5})': ['test_f1:  0.1417',\n",
       "              'test_accuracy:  0.8511',\n",
       "              'test_precision:  0.4448',\n",
       "              'test_recall:  0.0843']})"
      ]
     },
     "execution_count": 1477,
     "metadata": {},
     "output_type": "execute_result"
    }
   ],
   "source": [
    "nopg_add_features_dict"
   ]
  },
  {
   "cell_type": "markdown",
   "metadata": {},
   "source": [
    "## All Features"
   ]
  },
  {
   "cell_type": "code",
   "execution_count": 1526,
   "metadata": {},
   "outputs": [],
   "source": [
    "X3 = online[['Administrative', 'Administrative_Duration', 'Informational',\n",
    "       'Informational_Duration', 'ProductRelated', 'ProductRelated_Duration',\n",
    "       'BounceRates', 'ExitRates', 'SpecialDay',\n",
    "       'New_Visitor',\n",
    "       'Other', 'Returning_Visitor', 'MonthNum', 'Weekend_Num']]\n",
    "\n",
    "y3 = online['Revenue_Num']"
   ]
  },
  {
   "cell_type": "code",
   "execution_count": 1527,
   "metadata": {},
   "outputs": [],
   "source": [
    "X3_train_val, X3_test, y_train_val, y_test = train_test_split(X3, y3, test_size = 0.2, random_state = 24)"
   ]
  },
  {
   "cell_type": "code",
   "execution_count": 1528,
   "metadata": {},
   "outputs": [],
   "source": [
    "X3_train_scaled = scaler.fit_transform(X3_train_val)"
   ]
  },
  {
   "cell_type": "code",
   "execution_count": 1529,
   "metadata": {},
   "outputs": [],
   "source": [
    "nopg_all_features_dict = defaultdict(list)\n",
    "for each in model:\n",
    "    scores = cross_validate(each, X3_train_scaled, y_train_val, cv = 5, scoring = ['f1', 'accuracy', 'precision', 'recall'])\n",
    "    nopg_all_features_dict[str(each)]\n",
    "    y_pred = each.predict\n",
    "    for score in scores:\n",
    "        if score == 'fit_time' or score == 'score_time':\n",
    "            continue\n",
    "        else:\n",
    "            nopg_all_features_dict[str(each)].append(f'{score}: {np.mean(scores[score]): .4f}')"
   ]
  },
  {
   "cell_type": "code",
   "execution_count": 1530,
   "metadata": {},
   "outputs": [
    {
     "data": {
      "text/plain": [
       "defaultdict(list,\n",
       "            {'LogisticRegression(class_weight={0: 1, 1: 5}, max_iter=10000)': ['test_f1:  0.3637',\n",
       "              'test_accuracy:  0.6575',\n",
       "              'test_precision:  0.2494',\n",
       "              'test_recall:  0.6716'],\n",
       "             'KNeighborsClassifier()': ['test_f1:  0.1650',\n",
       "              'test_accuracy:  0.8318',\n",
       "              'test_precision:  0.2977',\n",
       "              'test_recall:  0.1142'],\n",
       "             'GaussianNB()': ['test_f1:  0.3411',\n",
       "              'test_accuracy:  0.6690',\n",
       "              'test_precision:  0.2402',\n",
       "              'test_recall:  0.5881'],\n",
       "             'SVC(class_weight={0: 1, 1: 5})': ['test_f1:  0.3680',\n",
       "              'test_accuracy:  0.6717',\n",
       "              'test_precision:  0.2560',\n",
       "              'test_recall:  0.6560'],\n",
       "             'DecisionTreeClassifier(class_weight={0: 1, 1: 5})': ['test_f1:  0.2610',\n",
       "              'test_accuracy:  0.7891',\n",
       "              'test_precision:  0.2665',\n",
       "              'test_recall:  0.2560'],\n",
       "             'RandomForestClassifier(class_weight={0: 1, 1: 5})': ['test_f1:  0.1036',\n",
       "              'test_accuracy:  0.8496',\n",
       "              'test_precision:  0.4078',\n",
       "              'test_recall:  0.0597']})"
      ]
     },
     "execution_count": 1530,
     "metadata": {},
     "output_type": "execute_result"
    }
   ],
   "source": [
    "nopg_all_features_dict"
   ]
  },
  {
   "cell_type": "markdown",
   "metadata": {},
   "source": [
    "When Page Value is removed from the models, the best performing models are again, Logistic Regression and SVC. Let's see how they perform for validation and testing results."
   ]
  },
  {
   "cell_type": "markdown",
   "metadata": {},
   "source": [
    "## Logistic Regression Tuning - All Features (No Page Value)"
   ]
  },
  {
   "cell_type": "code",
   "execution_count": 1483,
   "metadata": {},
   "outputs": [],
   "source": [
    "nopg_logreg = LogisticRegression(max_iter = 10000, class_weight={0: 1, 1: 5}, C = 0.4)"
   ]
  },
  {
   "cell_type": "code",
   "execution_count": 1511,
   "metadata": {},
   "outputs": [],
   "source": [
    "X3_train_scaled = scaler.fit_transform(X3_train_val)"
   ]
  },
  {
   "cell_type": "code",
   "execution_count": 1485,
   "metadata": {},
   "outputs": [
    {
     "data": {
      "text/plain": [
       "LogisticRegression(C=0.4, class_weight={0: 1, 1: 5}, max_iter=10000)"
      ]
     },
     "execution_count": 1485,
     "metadata": {},
     "output_type": "execute_result"
    }
   ],
   "source": [
    "nopg_logreg.fit(X3_train_scaled, y_train_val)"
   ]
  },
  {
   "cell_type": "code",
   "execution_count": 1486,
   "metadata": {},
   "outputs": [],
   "source": [
    "_ = cross_validate(nopg_logreg, X3_train_scaled, y_train_val, cv = 5, scoring = ['f1', 'accuracy', 'precision', 'recall'])\n",
    "\n",
    "nopg_logreg_scores = []\n",
    "for score in _:\n",
    "    nopg_logreg_scores.append(f'{score}: {np.mean(_[score]): .4f}')   "
   ]
  },
  {
   "cell_type": "code",
   "execution_count": 1487,
   "metadata": {},
   "outputs": [
    {
     "data": {
      "text/plain": [
       "['fit_time:  0.0243',\n",
       " 'score_time:  0.0064',\n",
       " 'test_f1:  0.3639',\n",
       " 'test_accuracy:  0.6578',\n",
       " 'test_precision:  0.2496',\n",
       " 'test_recall:  0.6716']"
      ]
     },
     "execution_count": 1487,
     "metadata": {},
     "output_type": "execute_result"
    }
   ],
   "source": [
    "nopg_logreg_scores"
   ]
  },
  {
   "cell_type": "code",
   "execution_count": 1187,
   "metadata": {},
   "outputs": [
    {
     "name": "stdout",
     "output_type": "stream",
     "text": [
      "Fitting 5 folds for each of 12 candidates, totalling 60 fits\n",
      "[CV] C=0.1 ...........................................................\n",
      "[CV] ............................... C=0.1, score=0.363, total=   0.0s\n",
      "[CV] C=0.1 ...........................................................\n",
      "[CV] ............................... C=0.1, score=0.355, total=   0.0s\n",
      "[CV] C=0.1 ...........................................................\n",
      "[CV] ............................... C=0.1, score=0.364, total=   0.0s\n",
      "[CV] C=0.1 ...........................................................\n",
      "[CV] ............................... C=0.1, score=0.359, total=   0.0s\n",
      "[CV] C=0.1 ...........................................................\n",
      "[CV] ............................... C=0.1, score=0.370, total=   0.0s\n",
      "[CV] C=0.2 ...........................................................\n"
     ]
    },
    {
     "name": "stderr",
     "output_type": "stream",
     "text": [
      "[Parallel(n_jobs=1)]: Using backend SequentialBackend with 1 concurrent workers.\n",
      "[Parallel(n_jobs=1)]: Done   1 out of   1 | elapsed:    0.0s remaining:    0.0s\n",
      "[Parallel(n_jobs=1)]: Done   2 out of   2 | elapsed:    0.1s remaining:    0.0s\n"
     ]
    },
    {
     "name": "stdout",
     "output_type": "stream",
     "text": [
      "[CV] ............................... C=0.2, score=0.362, total=   0.0s\n",
      "[CV] C=0.2 ...........................................................\n",
      "[CV] ............................... C=0.2, score=0.358, total=   0.0s\n",
      "[CV] C=0.2 ...........................................................\n",
      "[CV] ............................... C=0.2, score=0.364, total=   0.0s\n",
      "[CV] C=0.2 ...........................................................\n",
      "[CV] ............................... C=0.2, score=0.361, total=   0.0s\n",
      "[CV] C=0.2 ...........................................................\n",
      "[CV] ............................... C=0.2, score=0.370, total=   0.0s\n",
      "[CV] C=0.3 ...........................................................\n",
      "[CV] ............................... C=0.3, score=0.362, total=   0.0s\n",
      "[CV] C=0.3 ...........................................................\n",
      "[CV] ............................... C=0.3, score=0.357, total=   0.0s\n",
      "[CV] C=0.3 ...........................................................\n",
      "[CV] ............................... C=0.3, score=0.364, total=   0.0s\n",
      "[CV] C=0.3 ...........................................................\n",
      "[CV] ............................... C=0.3, score=0.362, total=   0.0s\n",
      "[CV] C=0.3 ...........................................................\n",
      "[CV] ............................... C=0.3, score=0.370, total=   0.0s\n",
      "[CV] C=0.4 ...........................................................\n",
      "[CV] ............................... C=0.4, score=0.362, total=   0.0s\n",
      "[CV] C=0.4 ...........................................................\n",
      "[CV] ............................... C=0.4, score=0.357, total=   0.0s\n",
      "[CV] C=0.4 ...........................................................\n",
      "[CV] ............................... C=0.4, score=0.365, total=   0.0s\n",
      "[CV] C=0.4 ...........................................................\n",
      "[CV] ............................... C=0.4, score=0.362, total=   0.0s\n",
      "[CV] C=0.4 ...........................................................\n",
      "[CV] ............................... C=0.4, score=0.370, total=   0.0s\n",
      "[CV] C=0.5 ...........................................................\n",
      "[CV] ............................... C=0.5, score=0.362, total=   0.0s\n",
      "[CV] C=0.5 ...........................................................\n",
      "[CV] ............................... C=0.5, score=0.357, total=   0.0s\n",
      "[CV] C=0.5 ...........................................................\n",
      "[CV] ............................... C=0.5, score=0.365, total=   0.0s\n",
      "[CV] C=0.5 ...........................................................\n",
      "[CV] ............................... C=0.5, score=0.362, total=   0.0s\n",
      "[CV] C=0.5 ...........................................................\n",
      "[CV] ............................... C=0.5, score=0.370, total=   0.0s\n",
      "[CV] C=0.6 ...........................................................\n",
      "[CV] ............................... C=0.6, score=0.362, total=   0.0s\n",
      "[CV] C=0.6 ...........................................................\n",
      "[CV] ............................... C=0.6, score=0.357, total=   0.0s\n",
      "[CV] C=0.6 ...........................................................\n",
      "[CV] ............................... C=0.6, score=0.364, total=   0.0s\n",
      "[CV] C=0.6 ...........................................................\n",
      "[CV] ............................... C=0.6, score=0.362, total=   0.0s\n",
      "[CV] C=0.6 ...........................................................\n",
      "[CV] ............................... C=0.6, score=0.370, total=   0.0s\n",
      "[CV] C=0.7 ...........................................................\n",
      "[CV] ............................... C=0.7, score=0.362, total=   0.0s\n",
      "[CV] C=0.7 ...........................................................\n",
      "[CV] ............................... C=0.7, score=0.357, total=   0.0s\n",
      "[CV] C=0.7 ...........................................................\n",
      "[CV] ............................... C=0.7, score=0.364, total=   0.0s\n",
      "[CV] C=0.7 ...........................................................\n",
      "[CV] ............................... C=0.7, score=0.362, total=   0.0s\n",
      "[CV] C=0.7 ...........................................................\n",
      "[CV] ............................... C=0.7, score=0.370, total=   0.0s\n",
      "[CV] C=0.8 ...........................................................\n",
      "[CV] ............................... C=0.8, score=0.362, total=   0.1s\n",
      "[CV] C=0.8 ...........................................................\n",
      "[CV] ............................... C=0.8, score=0.357, total=   0.0s\n",
      "[CV] C=0.8 ...........................................................\n",
      "[CV] ............................... C=0.8, score=0.362, total=   0.1s\n",
      "[CV] C=0.8 ...........................................................\n",
      "[CV] ............................... C=0.8, score=0.362, total=   0.0s\n",
      "[CV] C=0.8 ...........................................................\n",
      "[CV] ............................... C=0.8, score=0.370, total=   0.1s\n",
      "[CV] C=0.9 ...........................................................\n",
      "[CV] ............................... C=0.9, score=0.362, total=   0.1s\n",
      "[CV] C=0.9 ...........................................................\n",
      "[CV] ............................... C=0.9, score=0.357, total=   0.0s\n",
      "[CV] C=0.9 ...........................................................\n",
      "[CV] ............................... C=0.9, score=0.362, total=   0.1s\n",
      "[CV] C=0.9 ...........................................................\n",
      "[CV] ............................... C=0.9, score=0.362, total=   0.0s\n",
      "[CV] C=0.9 ...........................................................\n",
      "[CV] ............................... C=0.9, score=0.370, total=   0.0s\n",
      "[CV] C=1 .............................................................\n",
      "[CV] ................................. C=1, score=0.362, total=   0.0s\n",
      "[CV] C=1 .............................................................\n",
      "[CV] ................................. C=1, score=0.357, total=   0.0s\n",
      "[CV] C=1 .............................................................\n",
      "[CV] ................................. C=1, score=0.362, total=   0.0s\n",
      "[CV] C=1 .............................................................\n",
      "[CV] ................................. C=1, score=0.362, total=   0.0s\n",
      "[CV] C=1 .............................................................\n",
      "[CV] ................................. C=1, score=0.371, total=   0.0s\n",
      "[CV] C=100 ...........................................................\n",
      "[CV] ............................... C=100, score=0.362, total=   0.0s\n",
      "[CV] C=100 ...........................................................\n",
      "[CV] ............................... C=100, score=0.357, total=   0.0s\n",
      "[CV] C=100 ...........................................................\n",
      "[CV] ............................... C=100, score=0.362, total=   0.0s\n",
      "[CV] C=100 ...........................................................\n",
      "[CV] ............................... C=100, score=0.362, total=   0.0s\n",
      "[CV] C=100 ...........................................................\n",
      "[CV] ............................... C=100, score=0.370, total=   0.0s\n",
      "[CV] C=1000 ..........................................................\n",
      "[CV] .............................. C=1000, score=0.362, total=   0.0s\n",
      "[CV] C=1000 ..........................................................\n",
      "[CV] .............................. C=1000, score=0.357, total=   0.0s\n",
      "[CV] C=1000 ..........................................................\n",
      "[CV] .............................. C=1000, score=0.362, total=   0.0s\n",
      "[CV] C=1000 ..........................................................\n",
      "[CV] .............................. C=1000, score=0.362, total=   0.0s\n",
      "[CV] C=1000 ..........................................................\n",
      "[CV] .............................. C=1000, score=0.370, total=   0.0s\n"
     ]
    },
    {
     "name": "stderr",
     "output_type": "stream",
     "text": [
      "[Parallel(n_jobs=1)]: Done  60 out of  60 | elapsed:    2.3s finished\n"
     ]
    },
    {
     "data": {
      "text/plain": [
       "GridSearchCV(estimator=LogisticRegression(class_weight={0: 1, 1: 5},\n",
       "                                          max_iter=10000),\n",
       "             param_grid={'C': [0.1, 0.2, 0.3, 0.4, 0.5, 0.6, 0.7, 0.8, 0.9, 1,\n",
       "                               100, 1000]},\n",
       "             scoring='f1', verbose=3)"
      ]
     },
     "execution_count": 1187,
     "metadata": {},
     "output_type": "execute_result"
    }
   ],
   "source": [
    "param_grid = {'C': [0.1, 0.2, 0.3, 0.4, 0.5,0.6, 0.7, 0.8, 0.9, 1, 100, 1000]}\n",
    "\n",
    "grid = GridSearchCV(nopg_logreg, param_grid, refit = True, verbose = 3, scoring = 'f1') \n",
    "\n",
    "grid.fit(X3_train_scaled, y_train_val) "
   ]
  },
  {
   "cell_type": "code",
   "execution_count": 1188,
   "metadata": {},
   "outputs": [
    {
     "name": "stdout",
     "output_type": "stream",
     "text": [
      "LogisticRegression(C=0.4, class_weight={0: 1, 1: 5}, max_iter=10000)\n"
     ]
    }
   ],
   "source": [
    "print(grid.best_estimator_)"
   ]
  },
  {
   "cell_type": "code",
   "execution_count": 1512,
   "metadata": {},
   "outputs": [
    {
     "data": {
      "text/plain": [
       "['fit_time:  0.0157',\n",
       " 'score_time:  0.0057',\n",
       " 'test_f1:  0.3729',\n",
       " 'test_accuracy:  0.6630',\n",
       " 'test_precision:  0.2596',\n",
       " 'test_recall:  0.6679']"
      ]
     },
     "execution_count": 1512,
     "metadata": {},
     "output_type": "execute_result"
    }
   ],
   "source": [
    "X3_test_scaled = scaler.transform(X3_test)\n",
    "\n",
    "_ = cross_validate(nopg_logreg, X3_test_scaled, y_test, cv = 5, scoring = ['f1', 'accuracy', 'precision', 'recall'])\n",
    "\n",
    "nopg_log_test_scores = []\n",
    "for score in _:\n",
    "    nopg_log_test_scores.append(f'{score}: {np.mean(_[score]): .4f}')   \n",
    "\n",
    "nopg_log_test_scores"
   ]
  },
  {
   "cell_type": "code",
   "execution_count": 1488,
   "metadata": {
    "scrolled": true
   },
   "outputs": [
    {
     "data": {
      "text/plain": [
       "[array([[ 0.05280881,  0.00196793,  0.01529494,  0.10133947, -0.1006071 ,\n",
       "          0.28125676,  0.03712354, -1.33542689, -0.13883474,  0.07334032,\n",
       "         -0.00185759, -0.07154023,  0.26323118,  0.04938798]]),\n",
       " Index(['Administrative', 'Administrative_Duration', 'Informational',\n",
       "        'Informational_Duration', 'ProductRelated', 'ProductRelated_Duration',\n",
       "        'BounceRates', 'ExitRates', 'SpecialDay', 'New_Visitor', 'Other',\n",
       "        'Returning_Visitor', 'MonthNum', 'Weekend_Num'],\n",
       "       dtype='object')]"
      ]
     },
     "execution_count": 1488,
     "metadata": {},
     "output_type": "execute_result"
    }
   ],
   "source": [
    "list(((nopg_logreg.coef_), X3_train_val.columns))"
   ]
  },
  {
   "cell_type": "code",
   "execution_count": 1509,
   "metadata": {},
   "outputs": [
    {
     "data": {
      "text/html": [
       "<div>\n",
       "<style scoped>\n",
       "    .dataframe tbody tr th:only-of-type {\n",
       "        vertical-align: middle;\n",
       "    }\n",
       "\n",
       "    .dataframe tbody tr th {\n",
       "        vertical-align: top;\n",
       "    }\n",
       "\n",
       "    .dataframe thead th {\n",
       "        text-align: right;\n",
       "    }\n",
       "</style>\n",
       "<table border=\"1\" class=\"dataframe\">\n",
       "  <thead>\n",
       "    <tr style=\"text-align: right;\">\n",
       "      <th></th>\n",
       "      <th>Administrative</th>\n",
       "      <th>Administrative_Duration</th>\n",
       "      <th>Informational</th>\n",
       "      <th>Informational_Duration</th>\n",
       "      <th>ProductRelated</th>\n",
       "      <th>ProductRelated_Duration</th>\n",
       "      <th>BounceRates</th>\n",
       "      <th>ExitRates</th>\n",
       "      <th>SpecialDay</th>\n",
       "      <th>New_Visitor</th>\n",
       "      <th>Other</th>\n",
       "      <th>Returning_Visitor</th>\n",
       "      <th>MonthNum</th>\n",
       "      <th>Weekend_Num</th>\n",
       "    </tr>\n",
       "  </thead>\n",
       "  <tbody>\n",
       "    <tr>\n",
       "      <th>2394</th>\n",
       "      <td>0.0</td>\n",
       "      <td>0.00</td>\n",
       "      <td>0.0</td>\n",
       "      <td>0.0</td>\n",
       "      <td>10.0</td>\n",
       "      <td>173.250000</td>\n",
       "      <td>0.000000</td>\n",
       "      <td>0.024000</td>\n",
       "      <td>0.0</td>\n",
       "      <td>0</td>\n",
       "      <td>0</td>\n",
       "      <td>1</td>\n",
       "      <td>5</td>\n",
       "      <td>0</td>\n",
       "    </tr>\n",
       "    <tr>\n",
       "      <th>11635</th>\n",
       "      <td>2.0</td>\n",
       "      <td>20.75</td>\n",
       "      <td>0.0</td>\n",
       "      <td>0.0</td>\n",
       "      <td>22.0</td>\n",
       "      <td>868.678571</td>\n",
       "      <td>0.002778</td>\n",
       "      <td>0.019722</td>\n",
       "      <td>0.0</td>\n",
       "      <td>0</td>\n",
       "      <td>0</td>\n",
       "      <td>1</td>\n",
       "      <td>12</td>\n",
       "      <td>0</td>\n",
       "    </tr>\n",
       "    <tr>\n",
       "      <th>5505</th>\n",
       "      <td>0.0</td>\n",
       "      <td>0.00</td>\n",
       "      <td>0.0</td>\n",
       "      <td>0.0</td>\n",
       "      <td>16.0</td>\n",
       "      <td>519.866667</td>\n",
       "      <td>0.000000</td>\n",
       "      <td>0.000000</td>\n",
       "      <td>0.0</td>\n",
       "      <td>0</td>\n",
       "      <td>0</td>\n",
       "      <td>1</td>\n",
       "      <td>7</td>\n",
       "      <td>0</td>\n",
       "    </tr>\n",
       "    <tr>\n",
       "      <th>6694</th>\n",
       "      <td>2.0</td>\n",
       "      <td>35.30</td>\n",
       "      <td>0.0</td>\n",
       "      <td>0.0</td>\n",
       "      <td>2.0</td>\n",
       "      <td>20.100000</td>\n",
       "      <td>0.000000</td>\n",
       "      <td>0.000000</td>\n",
       "      <td>0.0</td>\n",
       "      <td>1</td>\n",
       "      <td>0</td>\n",
       "      <td>0</td>\n",
       "      <td>9</td>\n",
       "      <td>0</td>\n",
       "    </tr>\n",
       "    <tr>\n",
       "      <th>7887</th>\n",
       "      <td>0.0</td>\n",
       "      <td>0.00</td>\n",
       "      <td>0.0</td>\n",
       "      <td>0.0</td>\n",
       "      <td>18.0</td>\n",
       "      <td>1257.946667</td>\n",
       "      <td>0.000000</td>\n",
       "      <td>0.003922</td>\n",
       "      <td>0.0</td>\n",
       "      <td>0</td>\n",
       "      <td>0</td>\n",
       "      <td>1</td>\n",
       "      <td>10</td>\n",
       "      <td>1</td>\n",
       "    </tr>\n",
       "    <tr>\n",
       "      <th>...</th>\n",
       "      <td>...</td>\n",
       "      <td>...</td>\n",
       "      <td>...</td>\n",
       "      <td>...</td>\n",
       "      <td>...</td>\n",
       "      <td>...</td>\n",
       "      <td>...</td>\n",
       "      <td>...</td>\n",
       "      <td>...</td>\n",
       "      <td>...</td>\n",
       "      <td>...</td>\n",
       "      <td>...</td>\n",
       "      <td>...</td>\n",
       "      <td>...</td>\n",
       "    </tr>\n",
       "    <tr>\n",
       "      <th>6903</th>\n",
       "      <td>1.0</td>\n",
       "      <td>0.00</td>\n",
       "      <td>0.0</td>\n",
       "      <td>0.0</td>\n",
       "      <td>24.0</td>\n",
       "      <td>991.422222</td>\n",
       "      <td>0.000000</td>\n",
       "      <td>0.008333</td>\n",
       "      <td>0.0</td>\n",
       "      <td>1</td>\n",
       "      <td>0</td>\n",
       "      <td>0</td>\n",
       "      <td>11</td>\n",
       "      <td>1</td>\n",
       "    </tr>\n",
       "    <tr>\n",
       "      <th>12297</th>\n",
       "      <td>0.0</td>\n",
       "      <td>0.00</td>\n",
       "      <td>0.0</td>\n",
       "      <td>0.0</td>\n",
       "      <td>6.0</td>\n",
       "      <td>139.750000</td>\n",
       "      <td>0.033333</td>\n",
       "      <td>0.066667</td>\n",
       "      <td>0.0</td>\n",
       "      <td>1</td>\n",
       "      <td>0</td>\n",
       "      <td>0</td>\n",
       "      <td>11</td>\n",
       "      <td>0</td>\n",
       "    </tr>\n",
       "    <tr>\n",
       "      <th>11809</th>\n",
       "      <td>0.0</td>\n",
       "      <td>0.00</td>\n",
       "      <td>0.0</td>\n",
       "      <td>0.0</td>\n",
       "      <td>4.0</td>\n",
       "      <td>302.000000</td>\n",
       "      <td>0.000000</td>\n",
       "      <td>0.040000</td>\n",
       "      <td>0.0</td>\n",
       "      <td>0</td>\n",
       "      <td>1</td>\n",
       "      <td>0</td>\n",
       "      <td>12</td>\n",
       "      <td>0</td>\n",
       "    </tr>\n",
       "    <tr>\n",
       "      <th>4768</th>\n",
       "      <td>0.0</td>\n",
       "      <td>0.00</td>\n",
       "      <td>0.0</td>\n",
       "      <td>0.0</td>\n",
       "      <td>17.0</td>\n",
       "      <td>697.516667</td>\n",
       "      <td>0.000000</td>\n",
       "      <td>0.017647</td>\n",
       "      <td>0.8</td>\n",
       "      <td>0</td>\n",
       "      <td>0</td>\n",
       "      <td>1</td>\n",
       "      <td>5</td>\n",
       "      <td>0</td>\n",
       "    </tr>\n",
       "    <tr>\n",
       "      <th>4819</th>\n",
       "      <td>0.0</td>\n",
       "      <td>0.00</td>\n",
       "      <td>0.0</td>\n",
       "      <td>0.0</td>\n",
       "      <td>5.0</td>\n",
       "      <td>99.666667</td>\n",
       "      <td>0.000000</td>\n",
       "      <td>0.040000</td>\n",
       "      <td>0.6</td>\n",
       "      <td>0</td>\n",
       "      <td>0</td>\n",
       "      <td>1</td>\n",
       "      <td>5</td>\n",
       "      <td>0</td>\n",
       "    </tr>\n",
       "  </tbody>\n",
       "</table>\n",
       "<p>2300 rows × 14 columns</p>\n",
       "</div>"
      ],
      "text/plain": [
       "       Administrative  Administrative_Duration  Informational  \\\n",
       "2394              0.0                     0.00            0.0   \n",
       "11635             2.0                    20.75            0.0   \n",
       "5505              0.0                     0.00            0.0   \n",
       "6694              2.0                    35.30            0.0   \n",
       "7887              0.0                     0.00            0.0   \n",
       "...               ...                      ...            ...   \n",
       "6903              1.0                     0.00            0.0   \n",
       "12297             0.0                     0.00            0.0   \n",
       "11809             0.0                     0.00            0.0   \n",
       "4768              0.0                     0.00            0.0   \n",
       "4819              0.0                     0.00            0.0   \n",
       "\n",
       "       Informational_Duration  ProductRelated  ProductRelated_Duration  \\\n",
       "2394                      0.0            10.0               173.250000   \n",
       "11635                     0.0            22.0               868.678571   \n",
       "5505                      0.0            16.0               519.866667   \n",
       "6694                      0.0             2.0                20.100000   \n",
       "7887                      0.0            18.0              1257.946667   \n",
       "...                       ...             ...                      ...   \n",
       "6903                      0.0            24.0               991.422222   \n",
       "12297                     0.0             6.0               139.750000   \n",
       "11809                     0.0             4.0               302.000000   \n",
       "4768                      0.0            17.0               697.516667   \n",
       "4819                      0.0             5.0                99.666667   \n",
       "\n",
       "       BounceRates  ExitRates  SpecialDay  New_Visitor  Other  \\\n",
       "2394      0.000000   0.024000         0.0            0      0   \n",
       "11635     0.002778   0.019722         0.0            0      0   \n",
       "5505      0.000000   0.000000         0.0            0      0   \n",
       "6694      0.000000   0.000000         0.0            1      0   \n",
       "7887      0.000000   0.003922         0.0            0      0   \n",
       "...            ...        ...         ...          ...    ...   \n",
       "6903      0.000000   0.008333         0.0            1      0   \n",
       "12297     0.033333   0.066667         0.0            1      0   \n",
       "11809     0.000000   0.040000         0.0            0      1   \n",
       "4768      0.000000   0.017647         0.8            0      0   \n",
       "4819      0.000000   0.040000         0.6            0      0   \n",
       "\n",
       "       Returning_Visitor  MonthNum  Weekend_Num  \n",
       "2394                   1         5            0  \n",
       "11635                  1        12            0  \n",
       "5505                   1         7            0  \n",
       "6694                   0         9            0  \n",
       "7887                   1        10            1  \n",
       "...                  ...       ...          ...  \n",
       "6903                   0        11            1  \n",
       "12297                  0        11            0  \n",
       "11809                  0        12            0  \n",
       "4768                   1         5            0  \n",
       "4819                   1         5            0  \n",
       "\n",
       "[2300 rows x 14 columns]"
      ]
     },
     "execution_count": 1509,
     "metadata": {},
     "output_type": "execute_result"
    }
   ],
   "source": [
    "X3_test"
   ]
  },
  {
   "cell_type": "code",
   "execution_count": 1513,
   "metadata": {
    "scrolled": true
   },
   "outputs": [
    {
     "data": {
      "text/plain": [
       "<sklearn.metrics._plot.confusion_matrix.ConfusionMatrixDisplay at 0x7fd34b242f10>"
      ]
     },
     "execution_count": 1513,
     "metadata": {},
     "output_type": "execute_result"
    },
    {
     "data": {
      "image/png": "[encoded data removed]",
      "text/plain": [
       "<Figure size 432x288 with 2 Axes>"
      ]
     },
     "metadata": {
      "needs_background": "light"
     },
     "output_type": "display_data"
    }
   ],
   "source": [
    "plot_confusion_matrix(nopg_logreg.fit(X3_train_scaled, y_train_val), X3_test_scaled, y_test, cmap = plt.cm.Blues)"
   ]
  },
  {
   "cell_type": "markdown",
   "metadata": {},
   "source": [
    "## SVC Tuning - Add. Features (No Page Value)"
   ]
  },
  {
   "cell_type": "code",
   "execution_count": 1200,
   "metadata": {},
   "outputs": [],
   "source": [
    "svc_nopg = SVC(class_weight={0: 1, 1: 5}, C = 0.6, gamma = 0.1)\n",
    "\n",
    "X2_train_scaled = scaler.fit_transform(X2_train_val)\n",
    "\n"
   ]
  },
  {
   "cell_type": "code",
   "execution_count": 1201,
   "metadata": {},
   "outputs": [
    {
     "data": {
      "text/plain": [
       "['fit_time:  1.3989',\n",
       " 'score_time:  0.1615',\n",
       " 'test_f1:  0.3773',\n",
       " 'test_accuracy:  0.6677',\n",
       " 'test_precision:  0.2596',\n",
       " 'test_recall:  0.6910']"
      ]
     },
     "execution_count": 1201,
     "metadata": {},
     "output_type": "execute_result"
    }
   ],
   "source": [
    "svc_nopg.fit(X2_train_scaled, y_train_val)\n",
    "\n",
    "_ = cross_validate(svc_nopg, X2_train_scaled, y_train_val, cv = 5, scoring = ['f1', 'accuracy', 'precision', 'recall'])\n",
    "\n",
    "svc_nopg_scores = []\n",
    "for score in _:\n",
    "    svc_nopg_scores.append(f'{score}: {np.mean(_[score]): .4f}')   \n",
    "\n",
    "svc_nopg_scores"
   ]
  },
  {
   "cell_type": "code",
   "execution_count": 1198,
   "metadata": {},
   "outputs": [
    {
     "name": "stdout",
     "output_type": "stream",
     "text": [
      "Fitting 5 folds for each of 48 candidates, totalling 240 fits\n",
      "[CV] C=0.1, gamma=1, kernel=rbf ......................................\n"
     ]
    },
    {
     "name": "stderr",
     "output_type": "stream",
     "text": [
      "[Parallel(n_jobs=1)]: Using backend SequentialBackend with 1 concurrent workers.\n"
     ]
    },
    {
     "name": "stdout",
     "output_type": "stream",
     "text": [
      "[CV] .......... C=0.1, gamma=1, kernel=rbf, score=0.372, total=   1.8s\n",
      "[CV] C=0.1, gamma=1, kernel=rbf ......................................\n"
     ]
    },
    {
     "name": "stderr",
     "output_type": "stream",
     "text": [
      "[Parallel(n_jobs=1)]: Done   1 out of   1 | elapsed:    1.8s remaining:    0.0s\n"
     ]
    },
    {
     "name": "stdout",
     "output_type": "stream",
     "text": [
      "[CV] .......... C=0.1, gamma=1, kernel=rbf, score=0.346, total=   1.8s\n",
      "[CV] C=0.1, gamma=1, kernel=rbf ......................................\n"
     ]
    },
    {
     "name": "stderr",
     "output_type": "stream",
     "text": [
      "[Parallel(n_jobs=1)]: Done   2 out of   2 | elapsed:    3.6s remaining:    0.0s\n"
     ]
    },
    {
     "name": "stdout",
     "output_type": "stream",
     "text": [
      "[CV] .......... C=0.1, gamma=1, kernel=rbf, score=0.380, total=   1.7s\n",
      "[CV] C=0.1, gamma=1, kernel=rbf ......................................\n",
      "[CV] .......... C=0.1, gamma=1, kernel=rbf, score=0.378, total=   1.7s\n",
      "[CV] C=0.1, gamma=1, kernel=rbf ......................................\n",
      "[CV] .......... C=0.1, gamma=1, kernel=rbf, score=0.358, total=   1.7s\n",
      "[CV] C=0.1, gamma=0.1, kernel=rbf ....................................\n",
      "[CV] ........ C=0.1, gamma=0.1, kernel=rbf, score=0.365, total=   1.6s\n",
      "[CV] C=0.1, gamma=0.1, kernel=rbf ....................................\n",
      "[CV] ........ C=0.1, gamma=0.1, kernel=rbf, score=0.353, total=   1.6s\n",
      "[CV] C=0.1, gamma=0.1, kernel=rbf ....................................\n",
      "[CV] ........ C=0.1, gamma=0.1, kernel=rbf, score=0.380, total=   1.9s\n",
      "[CV] C=0.1, gamma=0.1, kernel=rbf ....................................\n",
      "[CV] ........ C=0.1, gamma=0.1, kernel=rbf, score=0.382, total=   1.4s\n",
      "[CV] C=0.1, gamma=0.1, kernel=rbf ....................................\n",
      "[CV] ........ C=0.1, gamma=0.1, kernel=rbf, score=0.367, total=   1.5s\n",
      "[CV] C=0.1, gamma=0.01, kernel=rbf ...................................\n",
      "[CV] ....... C=0.1, gamma=0.01, kernel=rbf, score=0.340, total=   1.8s\n",
      "[CV] C=0.1, gamma=0.01, kernel=rbf ...................................\n",
      "[CV] ....... C=0.1, gamma=0.01, kernel=rbf, score=0.323, total=   1.9s\n",
      "[CV] C=0.1, gamma=0.01, kernel=rbf ...................................\n",
      "[CV] ....... C=0.1, gamma=0.01, kernel=rbf, score=0.356, total=   1.8s\n",
      "[CV] C=0.1, gamma=0.01, kernel=rbf ...................................\n",
      "[CV] ....... C=0.1, gamma=0.01, kernel=rbf, score=0.362, total=   1.7s\n",
      "[CV] C=0.1, gamma=0.01, kernel=rbf ...................................\n",
      "[CV] ....... C=0.1, gamma=0.01, kernel=rbf, score=0.362, total=   2.0s\n",
      "[CV] C=0.1, gamma=0.001, kernel=rbf ..................................\n",
      "[CV] ...... C=0.1, gamma=0.001, kernel=rbf, score=0.314, total=   1.9s\n",
      "[CV] C=0.1, gamma=0.001, kernel=rbf ..................................\n",
      "[CV] ...... C=0.1, gamma=0.001, kernel=rbf, score=0.316, total=   1.8s\n",
      "[CV] C=0.1, gamma=0.001, kernel=rbf ..................................\n",
      "[CV] ...... C=0.1, gamma=0.001, kernel=rbf, score=0.361, total=   1.8s\n",
      "[CV] C=0.1, gamma=0.001, kernel=rbf ..................................\n",
      "[CV] ...... C=0.1, gamma=0.001, kernel=rbf, score=0.345, total=   1.8s\n",
      "[CV] C=0.1, gamma=0.001, kernel=rbf ..................................\n",
      "[CV] ...... C=0.1, gamma=0.001, kernel=rbf, score=0.356, total=   1.7s\n",
      "[CV] C=0.1, gamma=0.0001, kernel=rbf .................................\n",
      "[CV] ..... C=0.1, gamma=0.0001, kernel=rbf, score=0.000, total=   1.7s\n",
      "[CV] C=0.1, gamma=0.0001, kernel=rbf .................................\n",
      "[CV] ..... C=0.1, gamma=0.0001, kernel=rbf, score=0.000, total=   1.8s\n",
      "[CV] C=0.1, gamma=0.0001, kernel=rbf .................................\n",
      "[CV] ..... C=0.1, gamma=0.0001, kernel=rbf, score=0.000, total=   2.2s\n",
      "[CV] C=0.1, gamma=0.0001, kernel=rbf .................................\n",
      "[CV] ..... C=0.1, gamma=0.0001, kernel=rbf, score=0.000, total=   2.2s\n",
      "[CV] C=0.1, gamma=0.0001, kernel=rbf .................................\n",
      "[CV] ..... C=0.1, gamma=0.0001, kernel=rbf, score=0.000, total=   2.1s\n",
      "[CV] C=0.1, gamma=scale, kernel=rbf ..................................\n",
      "[CV] ...... C=0.1, gamma=scale, kernel=rbf, score=0.378, total=   1.5s\n",
      "[CV] C=0.1, gamma=scale, kernel=rbf ..................................\n",
      "[CV] ...... C=0.1, gamma=scale, kernel=rbf, score=0.354, total=   2.1s\n",
      "[CV] C=0.1, gamma=scale, kernel=rbf ..................................\n",
      "[CV] ...... C=0.1, gamma=scale, kernel=rbf, score=0.381, total=   1.6s\n",
      "[CV] C=0.1, gamma=scale, kernel=rbf ..................................\n",
      "[CV] ...... C=0.1, gamma=scale, kernel=rbf, score=0.381, total=   1.6s\n",
      "[CV] C=0.1, gamma=scale, kernel=rbf ..................................\n",
      "[CV] ...... C=0.1, gamma=scale, kernel=rbf, score=0.373, total=   1.7s\n",
      "[CV] C=0.2, gamma=1, kernel=rbf ......................................\n",
      "[CV] .......... C=0.2, gamma=1, kernel=rbf, score=0.380, total=   1.7s\n",
      "[CV] C=0.2, gamma=1, kernel=rbf ......................................\n",
      "[CV] .......... C=0.2, gamma=1, kernel=rbf, score=0.341, total=   1.6s\n",
      "[CV] C=0.2, gamma=1, kernel=rbf ......................................\n",
      "[CV] .......... C=0.2, gamma=1, kernel=rbf, score=0.372, total=   1.7s\n",
      "[CV] C=0.2, gamma=1, kernel=rbf ......................................\n",
      "[CV] .......... C=0.2, gamma=1, kernel=rbf, score=0.377, total=   1.7s\n",
      "[CV] C=0.2, gamma=1, kernel=rbf ......................................\n",
      "[CV] .......... C=0.2, gamma=1, kernel=rbf, score=0.355, total=   1.7s\n",
      "[CV] C=0.2, gamma=0.1, kernel=rbf ....................................\n",
      "[CV] ........ C=0.2, gamma=0.1, kernel=rbf, score=0.371, total=   1.6s\n",
      "[CV] C=0.2, gamma=0.1, kernel=rbf ....................................\n",
      "[CV] ........ C=0.2, gamma=0.1, kernel=rbf, score=0.364, total=   1.7s\n",
      "[CV] C=0.2, gamma=0.1, kernel=rbf ....................................\n",
      "[CV] ........ C=0.2, gamma=0.1, kernel=rbf, score=0.390, total=   1.8s\n",
      "[CV] C=0.2, gamma=0.1, kernel=rbf ....................................\n",
      "[CV] ........ C=0.2, gamma=0.1, kernel=rbf, score=0.381, total=   1.8s\n",
      "[CV] C=0.2, gamma=0.1, kernel=rbf ....................................\n",
      "[CV] ........ C=0.2, gamma=0.1, kernel=rbf, score=0.369, total=   1.8s\n",
      "[CV] C=0.2, gamma=0.01, kernel=rbf ...................................\n",
      "[CV] ....... C=0.2, gamma=0.01, kernel=rbf, score=0.346, total=   1.8s\n",
      "[CV] C=0.2, gamma=0.01, kernel=rbf ...................................\n",
      "[CV] ....... C=0.2, gamma=0.01, kernel=rbf, score=0.334, total=   1.8s\n",
      "[CV] C=0.2, gamma=0.01, kernel=rbf ...................................\n",
      "[CV] ....... C=0.2, gamma=0.01, kernel=rbf, score=0.364, total=   1.8s\n",
      "[CV] C=0.2, gamma=0.01, kernel=rbf ...................................\n",
      "[CV] ....... C=0.2, gamma=0.01, kernel=rbf, score=0.362, total=   1.8s\n",
      "[CV] C=0.2, gamma=0.01, kernel=rbf ...................................\n",
      "[CV] ....... C=0.2, gamma=0.01, kernel=rbf, score=0.356, total=   1.7s\n",
      "[CV] C=0.2, gamma=0.001, kernel=rbf ..................................\n",
      "[CV] ...... C=0.2, gamma=0.001, kernel=rbf, score=0.340, total=   1.8s\n",
      "[CV] C=0.2, gamma=0.001, kernel=rbf ..................................\n",
      "[CV] ...... C=0.2, gamma=0.001, kernel=rbf, score=0.315, total=   1.8s\n",
      "[CV] C=0.2, gamma=0.001, kernel=rbf ..................................\n",
      "[CV] ...... C=0.2, gamma=0.001, kernel=rbf, score=0.361, total=   1.9s\n",
      "[CV] C=0.2, gamma=0.001, kernel=rbf ..................................\n",
      "[CV] ...... C=0.2, gamma=0.001, kernel=rbf, score=0.358, total=   1.9s\n",
      "[CV] C=0.2, gamma=0.001, kernel=rbf ..................................\n",
      "[CV] ...... C=0.2, gamma=0.001, kernel=rbf, score=0.361, total=   1.8s\n",
      "[CV] C=0.2, gamma=0.0001, kernel=rbf .................................\n",
      "[CV] ..... C=0.2, gamma=0.0001, kernel=rbf, score=0.056, total=   2.0s\n",
      "[CV] C=0.2, gamma=0.0001, kernel=rbf .................................\n",
      "[CV] ..... C=0.2, gamma=0.0001, kernel=rbf, score=0.034, total=   1.9s\n",
      "[CV] C=0.2, gamma=0.0001, kernel=rbf .................................\n",
      "[CV] ..... C=0.2, gamma=0.0001, kernel=rbf, score=0.014, total=   1.9s\n",
      "[CV] C=0.2, gamma=0.0001, kernel=rbf .................................\n",
      "[CV] ..... C=0.2, gamma=0.0001, kernel=rbf, score=0.035, total=   1.9s\n",
      "[CV] C=0.2, gamma=0.0001, kernel=rbf .................................\n",
      "[CV] ..... C=0.2, gamma=0.0001, kernel=rbf, score=0.028, total=   2.1s\n",
      "[CV] C=0.2, gamma=scale, kernel=rbf ..................................\n",
      "[CV] ...... C=0.2, gamma=scale, kernel=rbf, score=0.367, total=   2.0s\n",
      "[CV] C=0.2, gamma=scale, kernel=rbf ..................................\n",
      "[CV] ...... C=0.2, gamma=scale, kernel=rbf, score=0.362, total=   1.5s\n",
      "[CV] C=0.2, gamma=scale, kernel=rbf ..................................\n",
      "[CV] ...... C=0.2, gamma=scale, kernel=rbf, score=0.393, total=   1.5s\n",
      "[CV] C=0.2, gamma=scale, kernel=rbf ..................................\n",
      "[CV] ...... C=0.2, gamma=scale, kernel=rbf, score=0.379, total=   1.4s\n",
      "[CV] C=0.2, gamma=scale, kernel=rbf ..................................\n",
      "[CV] ...... C=0.2, gamma=scale, kernel=rbf, score=0.368, total=   1.4s\n",
      "[CV] C=0.3, gamma=1, kernel=rbf ......................................\n",
      "[CV] .......... C=0.3, gamma=1, kernel=rbf, score=0.378, total=   1.4s\n",
      "[CV] C=0.3, gamma=1, kernel=rbf ......................................\n",
      "[CV] .......... C=0.3, gamma=1, kernel=rbf, score=0.344, total=   1.6s\n",
      "[CV] C=0.3, gamma=1, kernel=rbf ......................................\n",
      "[CV] .......... C=0.3, gamma=1, kernel=rbf, score=0.384, total=   1.4s\n",
      "[CV] C=0.3, gamma=1, kernel=rbf ......................................\n",
      "[CV] .......... C=0.3, gamma=1, kernel=rbf, score=0.379, total=   1.5s\n",
      "[CV] C=0.3, gamma=1, kernel=rbf ......................................\n",
      "[CV] .......... C=0.3, gamma=1, kernel=rbf, score=0.343, total=   1.4s\n",
      "[CV] C=0.3, gamma=0.1, kernel=rbf ....................................\n",
      "[CV] ........ C=0.3, gamma=0.1, kernel=rbf, score=0.375, total=   1.3s\n",
      "[CV] C=0.3, gamma=0.1, kernel=rbf ....................................\n",
      "[CV] ........ C=0.3, gamma=0.1, kernel=rbf, score=0.366, total=   1.3s\n",
      "[CV] C=0.3, gamma=0.1, kernel=rbf ....................................\n",
      "[CV] ........ C=0.3, gamma=0.1, kernel=rbf, score=0.393, total=   1.3s\n",
      "[CV] C=0.3, gamma=0.1, kernel=rbf ....................................\n",
      "[CV] ........ C=0.3, gamma=0.1, kernel=rbf, score=0.380, total=   1.3s\n",
      "[CV] C=0.3, gamma=0.1, kernel=rbf ....................................\n",
      "[CV] ........ C=0.3, gamma=0.1, kernel=rbf, score=0.369, total=   1.3s\n",
      "[CV] C=0.3, gamma=0.01, kernel=rbf ...................................\n",
      "[CV] ....... C=0.3, gamma=0.01, kernel=rbf, score=0.345, total=   1.3s\n",
      "[CV] C=0.3, gamma=0.01, kernel=rbf ...................................\n",
      "[CV] ....... C=0.3, gamma=0.01, kernel=rbf, score=0.335, total=   1.3s\n",
      "[CV] C=0.3, gamma=0.01, kernel=rbf ...................................\n",
      "[CV] ....... C=0.3, gamma=0.01, kernel=rbf, score=0.367, total=   1.4s\n",
      "[CV] C=0.3, gamma=0.01, kernel=rbf ...................................\n",
      "[CV] ....... C=0.3, gamma=0.01, kernel=rbf, score=0.359, total=   1.4s\n",
      "[CV] C=0.3, gamma=0.01, kernel=rbf ...................................\n",
      "[CV] ....... C=0.3, gamma=0.01, kernel=rbf, score=0.353, total=   1.4s\n",
      "[CV] C=0.3, gamma=0.001, kernel=rbf ..................................\n",
      "[CV] ...... C=0.3, gamma=0.001, kernel=rbf, score=0.345, total=   1.5s\n",
      "[CV] C=0.3, gamma=0.001, kernel=rbf ..................................\n",
      "[CV] ...... C=0.3, gamma=0.001, kernel=rbf, score=0.316, total=   1.5s\n",
      "[CV] C=0.3, gamma=0.001, kernel=rbf ..................................\n",
      "[CV] ...... C=0.3, gamma=0.001, kernel=rbf, score=0.363, total=   1.5s\n",
      "[CV] C=0.3, gamma=0.001, kernel=rbf ..................................\n",
      "[CV] ...... C=0.3, gamma=0.001, kernel=rbf, score=0.357, total=   1.5s\n",
      "[CV] C=0.3, gamma=0.001, kernel=rbf ..................................\n",
      "[CV] ...... C=0.3, gamma=0.001, kernel=rbf, score=0.360, total=   1.5s\n",
      "[CV] C=0.3, gamma=0.0001, kernel=rbf .................................\n",
      "[CV] ..... C=0.3, gamma=0.0001, kernel=rbf, score=0.181, total=   1.6s\n",
      "[CV] C=0.3, gamma=0.0001, kernel=rbf .................................\n",
      "[CV] ..... C=0.3, gamma=0.0001, kernel=rbf, score=0.189, total=   1.7s\n",
      "[CV] C=0.3, gamma=0.0001, kernel=rbf .................................\n",
      "[CV] ..... C=0.3, gamma=0.0001, kernel=rbf, score=0.191, total=   1.7s\n",
      "[CV] C=0.3, gamma=0.0001, kernel=rbf .................................\n",
      "[CV] ..... C=0.3, gamma=0.0001, kernel=rbf, score=0.182, total=   1.7s\n",
      "[CV] C=0.3, gamma=0.0001, kernel=rbf .................................\n",
      "[CV] ..... C=0.3, gamma=0.0001, kernel=rbf, score=0.202, total=   1.6s\n",
      "[CV] C=0.3, gamma=scale, kernel=rbf ..................................\n",
      "[CV] ...... C=0.3, gamma=scale, kernel=rbf, score=0.374, total=   1.3s\n",
      "[CV] C=0.3, gamma=scale, kernel=rbf ..................................\n",
      "[CV] ...... C=0.3, gamma=scale, kernel=rbf, score=0.367, total=   1.3s\n",
      "[CV] C=0.3, gamma=scale, kernel=rbf ..................................\n",
      "[CV] ...... C=0.3, gamma=scale, kernel=rbf, score=0.388, total=   1.3s\n",
      "[CV] C=0.3, gamma=scale, kernel=rbf ..................................\n",
      "[CV] ...... C=0.3, gamma=scale, kernel=rbf, score=0.375, total=   1.4s\n",
      "[CV] C=0.3, gamma=scale, kernel=rbf ..................................\n",
      "[CV] ...... C=0.3, gamma=scale, kernel=rbf, score=0.375, total=   1.3s\n",
      "[CV] C=0.4, gamma=1, kernel=rbf ......................................\n",
      "[CV] .......... C=0.4, gamma=1, kernel=rbf, score=0.369, total=   1.4s\n",
      "[CV] C=0.4, gamma=1, kernel=rbf ......................................\n",
      "[CV] .......... C=0.4, gamma=1, kernel=rbf, score=0.350, total=   1.4s\n",
      "[CV] C=0.4, gamma=1, kernel=rbf ......................................\n",
      "[CV] .......... C=0.4, gamma=1, kernel=rbf, score=0.374, total=   1.4s\n",
      "[CV] C=0.4, gamma=1, kernel=rbf ......................................\n",
      "[CV] .......... C=0.4, gamma=1, kernel=rbf, score=0.392, total=   1.4s\n",
      "[CV] C=0.4, gamma=1, kernel=rbf ......................................\n",
      "[CV] .......... C=0.4, gamma=1, kernel=rbf, score=0.333, total=   1.4s\n",
      "[CV] C=0.4, gamma=0.1, kernel=rbf ....................................\n",
      "[CV] ........ C=0.4, gamma=0.1, kernel=rbf, score=0.374, total=   1.4s\n",
      "[CV] C=0.4, gamma=0.1, kernel=rbf ....................................\n",
      "[CV] ........ C=0.4, gamma=0.1, kernel=rbf, score=0.364, total=   1.4s\n",
      "[CV] C=0.4, gamma=0.1, kernel=rbf ....................................\n",
      "[CV] ........ C=0.4, gamma=0.1, kernel=rbf, score=0.388, total=   1.4s\n",
      "[CV] C=0.4, gamma=0.1, kernel=rbf ....................................\n",
      "[CV] ........ C=0.4, gamma=0.1, kernel=rbf, score=0.376, total=   1.4s\n",
      "[CV] C=0.4, gamma=0.1, kernel=rbf ....................................\n",
      "[CV] ........ C=0.4, gamma=0.1, kernel=rbf, score=0.371, total=   1.4s\n",
      "[CV] C=0.4, gamma=0.01, kernel=rbf ...................................\n",
      "[CV] ....... C=0.4, gamma=0.01, kernel=rbf, score=0.346, total=   1.5s\n",
      "[CV] C=0.4, gamma=0.01, kernel=rbf ...................................\n",
      "[CV] ....... C=0.4, gamma=0.01, kernel=rbf, score=0.335, total=   1.5s\n",
      "[CV] C=0.4, gamma=0.01, kernel=rbf ...................................\n",
      "[CV] ....... C=0.4, gamma=0.01, kernel=rbf, score=0.370, total=   1.8s\n",
      "[CV] C=0.4, gamma=0.01, kernel=rbf ...................................\n",
      "[CV] ....... C=0.4, gamma=0.01, kernel=rbf, score=0.357, total=   1.6s\n",
      "[CV] C=0.4, gamma=0.01, kernel=rbf ...................................\n",
      "[CV] ....... C=0.4, gamma=0.01, kernel=rbf, score=0.353, total=   1.6s\n",
      "[CV] C=0.4, gamma=0.001, kernel=rbf ..................................\n",
      "[CV] ...... C=0.4, gamma=0.001, kernel=rbf, score=0.349, total=   1.6s\n",
      "[CV] C=0.4, gamma=0.001, kernel=rbf ..................................\n",
      "[CV] ...... C=0.4, gamma=0.001, kernel=rbf, score=0.317, total=   1.5s\n",
      "[CV] C=0.4, gamma=0.001, kernel=rbf ..................................\n",
      "[CV] ...... C=0.4, gamma=0.001, kernel=rbf, score=0.361, total=   1.6s\n",
      "[CV] C=0.4, gamma=0.001, kernel=rbf ..................................\n",
      "[CV] ...... C=0.4, gamma=0.001, kernel=rbf, score=0.357, total=   1.5s\n",
      "[CV] C=0.4, gamma=0.001, kernel=rbf ..................................\n",
      "[CV] ...... C=0.4, gamma=0.001, kernel=rbf, score=0.351, total=   1.6s\n",
      "[CV] C=0.4, gamma=0.0001, kernel=rbf .................................\n",
      "[CV] ..... C=0.4, gamma=0.0001, kernel=rbf, score=0.274, total=   1.9s\n",
      "[CV] C=0.4, gamma=0.0001, kernel=rbf .................................\n",
      "[CV] ..... C=0.4, gamma=0.0001, kernel=rbf, score=0.254, total=   1.8s\n",
      "[CV] C=0.4, gamma=0.0001, kernel=rbf .................................\n",
      "[CV] ..... C=0.4, gamma=0.0001, kernel=rbf, score=0.266, total=   2.2s\n",
      "[CV] C=0.4, gamma=0.0001, kernel=rbf .................................\n",
      "[CV] ..... C=0.4, gamma=0.0001, kernel=rbf, score=0.248, total=   2.0s\n",
      "[CV] C=0.4, gamma=0.0001, kernel=rbf .................................\n",
      "[CV] ..... C=0.4, gamma=0.0001, kernel=rbf, score=0.284, total=   1.9s\n",
      "[CV] C=0.4, gamma=scale, kernel=rbf ..................................\n",
      "[CV] ...... C=0.4, gamma=scale, kernel=rbf, score=0.369, total=   1.5s\n",
      "[CV] C=0.4, gamma=scale, kernel=rbf ..................................\n",
      "[CV] ...... C=0.4, gamma=scale, kernel=rbf, score=0.371, total=   1.7s\n",
      "[CV] C=0.4, gamma=scale, kernel=rbf ..................................\n",
      "[CV] ...... C=0.4, gamma=scale, kernel=rbf, score=0.381, total=   1.6s\n",
      "[CV] C=0.4, gamma=scale, kernel=rbf ..................................\n",
      "[CV] ...... C=0.4, gamma=scale, kernel=rbf, score=0.373, total=   1.4s\n",
      "[CV] C=0.4, gamma=scale, kernel=rbf ..................................\n",
      "[CV] ...... C=0.4, gamma=scale, kernel=rbf, score=0.375, total=   1.5s\n",
      "[CV] C=0.5, gamma=1, kernel=rbf ......................................\n",
      "[CV] .......... C=0.5, gamma=1, kernel=rbf, score=0.361, total=   1.4s\n",
      "[CV] C=0.5, gamma=1, kernel=rbf ......................................\n",
      "[CV] .......... C=0.5, gamma=1, kernel=rbf, score=0.353, total=   1.4s\n",
      "[CV] C=0.5, gamma=1, kernel=rbf ......................................\n",
      "[CV] .......... C=0.5, gamma=1, kernel=rbf, score=0.373, total=   1.4s\n",
      "[CV] C=0.5, gamma=1, kernel=rbf ......................................\n",
      "[CV] .......... C=0.5, gamma=1, kernel=rbf, score=0.390, total=   1.6s\n",
      "[CV] C=0.5, gamma=1, kernel=rbf ......................................\n",
      "[CV] .......... C=0.5, gamma=1, kernel=rbf, score=0.333, total=   1.5s\n",
      "[CV] C=0.5, gamma=0.1, kernel=rbf ....................................\n",
      "[CV] ........ C=0.5, gamma=0.1, kernel=rbf, score=0.377, total=   1.4s\n",
      "[CV] C=0.5, gamma=0.1, kernel=rbf ....................................\n",
      "[CV] ........ C=0.5, gamma=0.1, kernel=rbf, score=0.371, total=   1.4s\n",
      "[CV] C=0.5, gamma=0.1, kernel=rbf ....................................\n",
      "[CV] ........ C=0.5, gamma=0.1, kernel=rbf, score=0.385, total=   1.4s\n",
      "[CV] C=0.5, gamma=0.1, kernel=rbf ....................................\n",
      "[CV] ........ C=0.5, gamma=0.1, kernel=rbf, score=0.374, total=   1.3s\n",
      "[CV] C=0.5, gamma=0.1, kernel=rbf ....................................\n",
      "[CV] ........ C=0.5, gamma=0.1, kernel=rbf, score=0.375, total=   1.3s\n",
      "[CV] C=0.5, gamma=0.01, kernel=rbf ...................................\n",
      "[CV] ....... C=0.5, gamma=0.01, kernel=rbf, score=0.347, total=   1.5s\n",
      "[CV] C=0.5, gamma=0.01, kernel=rbf ...................................\n",
      "[CV] ....... C=0.5, gamma=0.01, kernel=rbf, score=0.332, total=   1.8s\n",
      "[CV] C=0.5, gamma=0.01, kernel=rbf ...................................\n",
      "[CV] ....... C=0.5, gamma=0.01, kernel=rbf, score=0.366, total=   1.7s\n",
      "[CV] C=0.5, gamma=0.01, kernel=rbf ...................................\n",
      "[CV] ....... C=0.5, gamma=0.01, kernel=rbf, score=0.360, total=   1.6s\n",
      "[CV] C=0.5, gamma=0.01, kernel=rbf ...................................\n",
      "[CV] ....... C=0.5, gamma=0.01, kernel=rbf, score=0.350, total=   1.6s\n",
      "[CV] C=0.5, gamma=0.001, kernel=rbf ..................................\n",
      "[CV] ...... C=0.5, gamma=0.001, kernel=rbf, score=0.350, total=   1.6s\n",
      "[CV] C=0.5, gamma=0.001, kernel=rbf ..................................\n",
      "[CV] ...... C=0.5, gamma=0.001, kernel=rbf, score=0.314, total=   1.6s\n",
      "[CV] C=0.5, gamma=0.001, kernel=rbf ..................................\n",
      "[CV] ...... C=0.5, gamma=0.001, kernel=rbf, score=0.355, total=   1.7s\n",
      "[CV] C=0.5, gamma=0.001, kernel=rbf ..................................\n",
      "[CV] ...... C=0.5, gamma=0.001, kernel=rbf, score=0.354, total=   1.6s\n",
      "[CV] C=0.5, gamma=0.001, kernel=rbf ..................................\n",
      "[CV] ...... C=0.5, gamma=0.001, kernel=rbf, score=0.363, total=   1.7s\n",
      "[CV] C=0.5, gamma=0.0001, kernel=rbf .................................\n",
      "[CV] ..... C=0.5, gamma=0.0001, kernel=rbf, score=0.292, total=   2.1s\n",
      "[CV] C=0.5, gamma=0.0001, kernel=rbf .................................\n",
      "[CV] ..... C=0.5, gamma=0.0001, kernel=rbf, score=0.266, total=   2.0s\n",
      "[CV] C=0.5, gamma=0.0001, kernel=rbf .................................\n",
      "[CV] ..... C=0.5, gamma=0.0001, kernel=rbf, score=0.297, total=   2.1s\n",
      "[CV] C=0.5, gamma=0.0001, kernel=rbf .................................\n",
      "[CV] ..... C=0.5, gamma=0.0001, kernel=rbf, score=0.274, total=   1.9s\n",
      "[CV] C=0.5, gamma=0.0001, kernel=rbf .................................\n",
      "[CV] ..... C=0.5, gamma=0.0001, kernel=rbf, score=0.335, total=   2.0s\n",
      "[CV] C=0.5, gamma=scale, kernel=rbf ..................................\n",
      "[CV] ...... C=0.5, gamma=scale, kernel=rbf, score=0.372, total=   1.6s\n",
      "[CV] C=0.5, gamma=scale, kernel=rbf ..................................\n",
      "[CV] ...... C=0.5, gamma=scale, kernel=rbf, score=0.371, total=   1.7s\n",
      "[CV] C=0.5, gamma=scale, kernel=rbf ..................................\n",
      "[CV] ...... C=0.5, gamma=scale, kernel=rbf, score=0.383, total=   1.6s\n",
      "[CV] C=0.5, gamma=scale, kernel=rbf ..................................\n",
      "[CV] ...... C=0.5, gamma=scale, kernel=rbf, score=0.376, total=   1.8s\n",
      "[CV] C=0.5, gamma=scale, kernel=rbf ..................................\n",
      "[CV] ...... C=0.5, gamma=scale, kernel=rbf, score=0.371, total=   1.6s\n",
      "[CV] C=0.6, gamma=1, kernel=rbf ......................................\n",
      "[CV] .......... C=0.6, gamma=1, kernel=rbf, score=0.359, total=   1.8s\n",
      "[CV] C=0.6, gamma=1, kernel=rbf ......................................\n",
      "[CV] .......... C=0.6, gamma=1, kernel=rbf, score=0.352, total=   1.9s\n",
      "[CV] C=0.6, gamma=1, kernel=rbf ......................................\n",
      "[CV] .......... C=0.6, gamma=1, kernel=rbf, score=0.365, total=   1.7s\n",
      "[CV] C=0.6, gamma=1, kernel=rbf ......................................\n",
      "[CV] .......... C=0.6, gamma=1, kernel=rbf, score=0.385, total=   1.7s\n",
      "[CV] C=0.6, gamma=1, kernel=rbf ......................................\n",
      "[CV] .......... C=0.6, gamma=1, kernel=rbf, score=0.338, total=   1.8s\n",
      "[CV] C=0.6, gamma=0.1, kernel=rbf ....................................\n",
      "[CV] ........ C=0.6, gamma=0.1, kernel=rbf, score=0.375, total=   1.7s\n",
      "[CV] C=0.6, gamma=0.1, kernel=rbf ....................................\n",
      "[CV] ........ C=0.6, gamma=0.1, kernel=rbf, score=0.370, total=   1.6s\n",
      "[CV] C=0.6, gamma=0.1, kernel=rbf ....................................\n",
      "[CV] ........ C=0.6, gamma=0.1, kernel=rbf, score=0.388, total=   1.5s\n",
      "[CV] C=0.6, gamma=0.1, kernel=rbf ....................................\n",
      "[CV] ........ C=0.6, gamma=0.1, kernel=rbf, score=0.376, total=   1.7s\n",
      "[CV] C=0.6, gamma=0.1, kernel=rbf ....................................\n",
      "[CV] ........ C=0.6, gamma=0.1, kernel=rbf, score=0.378, total=   1.7s\n",
      "[CV] C=0.6, gamma=0.01, kernel=rbf ...................................\n",
      "[CV] ....... C=0.6, gamma=0.01, kernel=rbf, score=0.349, total=   1.6s\n",
      "[CV] C=0.6, gamma=0.01, kernel=rbf ...................................\n",
      "[CV] ....... C=0.6, gamma=0.01, kernel=rbf, score=0.333, total=   1.6s\n",
      "[CV] C=0.6, gamma=0.01, kernel=rbf ...................................\n",
      "[CV] ....... C=0.6, gamma=0.01, kernel=rbf, score=0.365, total=   1.6s\n",
      "[CV] C=0.6, gamma=0.01, kernel=rbf ...................................\n",
      "[CV] ....... C=0.6, gamma=0.01, kernel=rbf, score=0.360, total=   1.6s\n",
      "[CV] C=0.6, gamma=0.01, kernel=rbf ...................................\n",
      "[CV] ....... C=0.6, gamma=0.01, kernel=rbf, score=0.349, total=   1.6s\n",
      "[CV] C=0.6, gamma=0.001, kernel=rbf ..................................\n",
      "[CV] ...... C=0.6, gamma=0.001, kernel=rbf, score=0.346, total=   1.6s\n",
      "[CV] C=0.6, gamma=0.001, kernel=rbf ..................................\n",
      "[CV] ...... C=0.6, gamma=0.001, kernel=rbf, score=0.312, total=   1.7s\n",
      "[CV] C=0.6, gamma=0.001, kernel=rbf ..................................\n",
      "[CV] ...... C=0.6, gamma=0.001, kernel=rbf, score=0.355, total=   1.6s\n",
      "[CV] C=0.6, gamma=0.001, kernel=rbf ..................................\n",
      "[CV] ...... C=0.6, gamma=0.001, kernel=rbf, score=0.355, total=   1.8s\n",
      "[CV] C=0.6, gamma=0.001, kernel=rbf ..................................\n",
      "[CV] ...... C=0.6, gamma=0.001, kernel=rbf, score=0.363, total=   1.6s\n",
      "[CV] C=0.6, gamma=0.0001, kernel=rbf .................................\n",
      "[CV] ..... C=0.6, gamma=0.0001, kernel=rbf, score=0.289, total=   2.0s\n",
      "[CV] C=0.6, gamma=0.0001, kernel=rbf .................................\n",
      "[CV] ..... C=0.6, gamma=0.0001, kernel=rbf, score=0.297, total=   1.9s\n",
      "[CV] C=0.6, gamma=0.0001, kernel=rbf .................................\n",
      "[CV] ..... C=0.6, gamma=0.0001, kernel=rbf, score=0.309, total=   2.0s\n",
      "[CV] C=0.6, gamma=0.0001, kernel=rbf .................................\n",
      "[CV] ..... C=0.6, gamma=0.0001, kernel=rbf, score=0.281, total=   2.3s\n",
      "[CV] C=0.6, gamma=0.0001, kernel=rbf .................................\n",
      "[CV] ..... C=0.6, gamma=0.0001, kernel=rbf, score=0.354, total=   2.0s\n",
      "[CV] C=0.6, gamma=scale, kernel=rbf ..................................\n",
      "[CV] ...... C=0.6, gamma=scale, kernel=rbf, score=0.376, total=   1.7s\n",
      "[CV] C=0.6, gamma=scale, kernel=rbf ..................................\n",
      "[CV] ...... C=0.6, gamma=scale, kernel=rbf, score=0.372, total=   1.6s\n",
      "[CV] C=0.6, gamma=scale, kernel=rbf ..................................\n",
      "[CV] ...... C=0.6, gamma=scale, kernel=rbf, score=0.382, total=   1.6s\n",
      "[CV] C=0.6, gamma=scale, kernel=rbf ..................................\n",
      "[CV] ...... C=0.6, gamma=scale, kernel=rbf, score=0.374, total=   1.6s\n",
      "[CV] C=0.6, gamma=scale, kernel=rbf ..................................\n",
      "[CV] ...... C=0.6, gamma=scale, kernel=rbf, score=0.367, total=   1.6s\n",
      "[CV] C=0.7, gamma=1, kernel=rbf ......................................\n",
      "[CV] .......... C=0.7, gamma=1, kernel=rbf, score=0.359, total=   1.7s\n",
      "[CV] C=0.7, gamma=1, kernel=rbf ......................................\n",
      "[CV] .......... C=0.7, gamma=1, kernel=rbf, score=0.350, total=   1.6s\n",
      "[CV] C=0.7, gamma=1, kernel=rbf ......................................\n",
      "[CV] .......... C=0.7, gamma=1, kernel=rbf, score=0.362, total=   1.8s\n",
      "[CV] C=0.7, gamma=1, kernel=rbf ......................................\n",
      "[CV] .......... C=0.7, gamma=1, kernel=rbf, score=0.386, total=   1.6s\n",
      "[CV] C=0.7, gamma=1, kernel=rbf ......................................\n",
      "[CV] .......... C=0.7, gamma=1, kernel=rbf, score=0.337, total=   1.6s\n",
      "[CV] C=0.7, gamma=0.1, kernel=rbf ....................................\n",
      "[CV] ........ C=0.7, gamma=0.1, kernel=rbf, score=0.374, total=   1.6s\n",
      "[CV] C=0.7, gamma=0.1, kernel=rbf ....................................\n",
      "[CV] ........ C=0.7, gamma=0.1, kernel=rbf, score=0.374, total=   1.5s\n",
      "[CV] C=0.7, gamma=0.1, kernel=rbf ....................................\n",
      "[CV] ........ C=0.7, gamma=0.1, kernel=rbf, score=0.390, total=   1.5s\n",
      "[CV] C=0.7, gamma=0.1, kernel=rbf ....................................\n",
      "[CV] ........ C=0.7, gamma=0.1, kernel=rbf, score=0.376, total=   1.5s\n",
      "[CV] C=0.7, gamma=0.1, kernel=rbf ....................................\n",
      "[CV] ........ C=0.7, gamma=0.1, kernel=rbf, score=0.372, total=   1.5s\n",
      "[CV] C=0.7, gamma=0.01, kernel=rbf ...................................\n",
      "[CV] ....... C=0.7, gamma=0.01, kernel=rbf, score=0.350, total=   1.9s\n",
      "[CV] C=0.7, gamma=0.01, kernel=rbf ...................................\n",
      "[CV] ....... C=0.7, gamma=0.01, kernel=rbf, score=0.334, total=   1.4s\n",
      "[CV] C=0.7, gamma=0.01, kernel=rbf ...................................\n",
      "[CV] ....... C=0.7, gamma=0.01, kernel=rbf, score=0.365, total=   1.5s\n",
      "[CV] C=0.7, gamma=0.01, kernel=rbf ...................................\n",
      "[CV] ....... C=0.7, gamma=0.01, kernel=rbf, score=0.361, total=   1.6s\n",
      "[CV] C=0.7, gamma=0.01, kernel=rbf ...................................\n",
      "[CV] ....... C=0.7, gamma=0.01, kernel=rbf, score=0.350, total=   1.4s\n",
      "[CV] C=0.7, gamma=0.001, kernel=rbf ..................................\n",
      "[CV] ...... C=0.7, gamma=0.001, kernel=rbf, score=0.349, total=   1.4s\n",
      "[CV] C=0.7, gamma=0.001, kernel=rbf ..................................\n",
      "[CV] ...... C=0.7, gamma=0.001, kernel=rbf, score=0.313, total=   1.8s\n",
      "[CV] C=0.7, gamma=0.001, kernel=rbf ..................................\n",
      "[CV] ...... C=0.7, gamma=0.001, kernel=rbf, score=0.351, total=   1.6s\n",
      "[CV] C=0.7, gamma=0.001, kernel=rbf ..................................\n",
      "[CV] ...... C=0.7, gamma=0.001, kernel=rbf, score=0.363, total=   1.5s\n",
      "[CV] C=0.7, gamma=0.001, kernel=rbf ..................................\n",
      "[CV] ...... C=0.7, gamma=0.001, kernel=rbf, score=0.361, total=   1.4s\n",
      "[CV] C=0.7, gamma=0.0001, kernel=rbf .................................\n",
      "[CV] ..... C=0.7, gamma=0.0001, kernel=rbf, score=0.293, total=   1.8s\n",
      "[CV] C=0.7, gamma=0.0001, kernel=rbf .................................\n",
      "[CV] ..... C=0.7, gamma=0.0001, kernel=rbf, score=0.294, total=   1.7s\n",
      "[CV] C=0.7, gamma=0.0001, kernel=rbf .................................\n",
      "[CV] ..... C=0.7, gamma=0.0001, kernel=rbf, score=0.334, total=   1.8s\n",
      "[CV] C=0.7, gamma=0.0001, kernel=rbf .................................\n",
      "[CV] ..... C=0.7, gamma=0.0001, kernel=rbf, score=0.300, total=   1.6s\n",
      "[CV] C=0.7, gamma=0.0001, kernel=rbf .................................\n",
      "[CV] ..... C=0.7, gamma=0.0001, kernel=rbf, score=0.352, total=   1.7s\n",
      "[CV] C=0.7, gamma=scale, kernel=rbf ..................................\n",
      "[CV] ...... C=0.7, gamma=scale, kernel=rbf, score=0.368, total=   1.6s\n",
      "[CV] C=0.7, gamma=scale, kernel=rbf ..................................\n",
      "[CV] ...... C=0.7, gamma=scale, kernel=rbf, score=0.369, total=   1.4s\n",
      "[CV] C=0.7, gamma=scale, kernel=rbf ..................................\n",
      "[CV] ...... C=0.7, gamma=scale, kernel=rbf, score=0.380, total=   1.6s\n",
      "[CV] C=0.7, gamma=scale, kernel=rbf ..................................\n",
      "[CV] ...... C=0.7, gamma=scale, kernel=rbf, score=0.374, total=   1.6s\n",
      "[CV] C=0.7, gamma=scale, kernel=rbf ..................................\n",
      "[CV] ...... C=0.7, gamma=scale, kernel=rbf, score=0.369, total=   1.4s\n",
      "[CV] C=1, gamma=1, kernel=rbf ........................................\n",
      "[CV] ............ C=1, gamma=1, kernel=rbf, score=0.362, total=   1.7s\n",
      "[CV] C=1, gamma=1, kernel=rbf ........................................\n",
      "[CV] ............ C=1, gamma=1, kernel=rbf, score=0.338, total=   1.6s\n",
      "[CV] C=1, gamma=1, kernel=rbf ........................................\n",
      "[CV] ............ C=1, gamma=1, kernel=rbf, score=0.349, total=   1.6s\n",
      "[CV] C=1, gamma=1, kernel=rbf ........................................\n",
      "[CV] ............ C=1, gamma=1, kernel=rbf, score=0.381, total=   1.6s\n",
      "[CV] C=1, gamma=1, kernel=rbf ........................................\n",
      "[CV] ............ C=1, gamma=1, kernel=rbf, score=0.334, total=   1.6s\n",
      "[CV] C=1, gamma=0.1, kernel=rbf ......................................\n",
      "[CV] .......... C=1, gamma=0.1, kernel=rbf, score=0.371, total=   1.5s\n",
      "[CV] C=1, gamma=0.1, kernel=rbf ......................................\n",
      "[CV] .......... C=1, gamma=0.1, kernel=rbf, score=0.372, total=   1.6s\n",
      "[CV] C=1, gamma=0.1, kernel=rbf ......................................\n",
      "[CV] .......... C=1, gamma=0.1, kernel=rbf, score=0.381, total=   1.6s\n",
      "[CV] C=1, gamma=0.1, kernel=rbf ......................................\n",
      "[CV] .......... C=1, gamma=0.1, kernel=rbf, score=0.375, total=   1.7s\n",
      "[CV] C=1, gamma=0.1, kernel=rbf ......................................\n",
      "[CV] .......... C=1, gamma=0.1, kernel=rbf, score=0.369, total=   1.5s\n",
      "[CV] C=1, gamma=0.01, kernel=rbf .....................................\n",
      "[CV] ......... C=1, gamma=0.01, kernel=rbf, score=0.355, total=   1.5s\n",
      "[CV] C=1, gamma=0.01, kernel=rbf .....................................\n",
      "[CV] ......... C=1, gamma=0.01, kernel=rbf, score=0.338, total=   1.4s\n",
      "[CV] C=1, gamma=0.01, kernel=rbf .....................................\n",
      "[CV] ......... C=1, gamma=0.01, kernel=rbf, score=0.370, total=   1.4s\n",
      "[CV] C=1, gamma=0.01, kernel=rbf .....................................\n",
      "[CV] ......... C=1, gamma=0.01, kernel=rbf, score=0.365, total=   1.5s\n",
      "[CV] C=1, gamma=0.01, kernel=rbf .....................................\n",
      "[CV] ......... C=1, gamma=0.01, kernel=rbf, score=0.353, total=   1.5s\n",
      "[CV] C=1, gamma=0.001, kernel=rbf ....................................\n",
      "[CV] ........ C=1, gamma=0.001, kernel=rbf, score=0.346, total=   1.5s\n",
      "[CV] C=1, gamma=0.001, kernel=rbf ....................................\n",
      "[CV] ........ C=1, gamma=0.001, kernel=rbf, score=0.326, total=   1.5s\n",
      "[CV] C=1, gamma=0.001, kernel=rbf ....................................\n",
      "[CV] ........ C=1, gamma=0.001, kernel=rbf, score=0.353, total=   1.5s\n",
      "[CV] C=1, gamma=0.001, kernel=rbf ....................................\n",
      "[CV] ........ C=1, gamma=0.001, kernel=rbf, score=0.358, total=   1.6s\n",
      "[CV] C=1, gamma=0.001, kernel=rbf ....................................\n",
      "[CV] ........ C=1, gamma=0.001, kernel=rbf, score=0.360, total=   1.6s\n",
      "[CV] C=1, gamma=0.0001, kernel=rbf ...................................\n",
      "[CV] ....... C=1, gamma=0.0001, kernel=rbf, score=0.314, total=   1.9s\n",
      "[CV] C=1, gamma=0.0001, kernel=rbf ...................................\n",
      "[CV] ....... C=1, gamma=0.0001, kernel=rbf, score=0.313, total=   1.9s\n",
      "[CV] C=1, gamma=0.0001, kernel=rbf ...................................\n",
      "[CV] ....... C=1, gamma=0.0001, kernel=rbf, score=0.362, total=   1.9s\n",
      "[CV] C=1, gamma=0.0001, kernel=rbf ...................................\n",
      "[CV] ....... C=1, gamma=0.0001, kernel=rbf, score=0.344, total=   1.9s\n",
      "[CV] C=1, gamma=0.0001, kernel=rbf ...................................\n",
      "[CV] ....... C=1, gamma=0.0001, kernel=rbf, score=0.358, total=   1.9s\n",
      "[CV] C=1, gamma=scale, kernel=rbf ....................................\n",
      "[CV] ........ C=1, gamma=scale, kernel=rbf, score=0.368, total=   1.5s\n",
      "[CV] C=1, gamma=scale, kernel=rbf ....................................\n",
      "[CV] ........ C=1, gamma=scale, kernel=rbf, score=0.374, total=   1.6s\n",
      "[CV] C=1, gamma=scale, kernel=rbf ....................................\n",
      "[CV] ........ C=1, gamma=scale, kernel=rbf, score=0.377, total=   1.6s\n",
      "[CV] C=1, gamma=scale, kernel=rbf ....................................\n",
      "[CV] ........ C=1, gamma=scale, kernel=rbf, score=0.374, total=   1.6s\n",
      "[CV] C=1, gamma=scale, kernel=rbf ....................................\n",
      "[CV] ........ C=1, gamma=scale, kernel=rbf, score=0.370, total=   1.6s\n"
     ]
    },
    {
     "name": "stderr",
     "output_type": "stream",
     "text": [
      "[Parallel(n_jobs=1)]: Done 240 out of 240 | elapsed:  6.6min finished\n"
     ]
    },
    {
     "data": {
      "text/plain": [
       "GridSearchCV(estimator=SVC(class_weight={0: 1, 1: 5}),\n",
       "             param_grid={'C': [0.1, 0.2, 0.3, 0.4, 0.5, 0.6, 0.7, 1],\n",
       "                         'gamma': [1, 0.1, 0.01, 0.001, 0.0001, 'scale'],\n",
       "                         'kernel': ['rbf']},\n",
       "             scoring='f1', verbose=3)"
      ]
     },
     "execution_count": 1198,
     "metadata": {},
     "output_type": "execute_result"
    }
   ],
   "source": [
    "param_grid = {'C': [0.1, 0.2, 0.3, 0.4, 0.5,0.6, 0.7, 1], 'gamma': [1, 0.1, 0.01, 0.001, 0.0001, 'scale'],\n",
    "              'kernel': ['rbf']}\n",
    "\n",
    "grid = GridSearchCV(svc_nopg, param_grid, refit = True, verbose = 3, scoring = 'f1') \n",
    "\n",
    "grid.fit(X2_train_scaled, y_train_val) \n",
    "\n"
   ]
  },
  {
   "cell_type": "code",
   "execution_count": 1199,
   "metadata": {},
   "outputs": [
    {
     "name": "stdout",
     "output_type": "stream",
     "text": [
      "SVC(C=0.6, class_weight={0: 1, 1: 5}, gamma=0.1)\n"
     ]
    }
   ],
   "source": [
    "print(grid.best_estimator_)"
   ]
  },
  {
   "cell_type": "code",
   "execution_count": 1202,
   "metadata": {},
   "outputs": [
    {
     "data": {
      "text/plain": [
       "['fit_time:  1.3989',\n",
       " 'score_time:  0.1615',\n",
       " 'test_f1:  0.3773',\n",
       " 'test_accuracy:  0.6677',\n",
       " 'test_precision:  0.2596',\n",
       " 'test_recall:  0.6910']"
      ]
     },
     "execution_count": 1202,
     "metadata": {},
     "output_type": "execute_result"
    }
   ],
   "source": [
    "X2_test_scaled = scaler.transform(X2_test)\n",
    "\n",
    "svc_test = cross_validate(svc_nopg, X2_test_scaled, y_test, cv = 5, scoring = ['f1', 'accuracy', 'precision', 'recall'])\n",
    "\n",
    "svc_nopg_test = []\n",
    "for score in svc_test:\n",
    "    svc_nopg_test.append(f'{score}: {np.mean(_[score]): .4f}')   \n",
    "\n",
    "svc_nopg_test"
   ]
  },
  {
   "cell_type": "markdown",
   "metadata": {},
   "source": [
    "## XGBoost - No Page Values"
   ]
  },
  {
   "cell_type": "code",
   "execution_count": 1203,
   "metadata": {},
   "outputs": [],
   "source": [
    "import xgboost as xgb\n",
    "from sklearn.model_selection import KFold\n",
    "\n",
    "kf= KFold(n_splits=5,random_state=24,shuffle=True)"
   ]
  },
  {
   "cell_type": "code",
   "execution_count": 1204,
   "metadata": {},
   "outputs": [],
   "source": [
    "gbm_scores = defaultdict(list)"
   ]
  },
  {
   "cell_type": "code",
   "execution_count": 1514,
   "metadata": {},
   "outputs": [
    {
     "data": {
      "text/html": [
       "<div>\n",
       "<style scoped>\n",
       "    .dataframe tbody tr th:only-of-type {\n",
       "        vertical-align: middle;\n",
       "    }\n",
       "\n",
       "    .dataframe tbody tr th {\n",
       "        vertical-align: top;\n",
       "    }\n",
       "\n",
       "    .dataframe thead th {\n",
       "        text-align: right;\n",
       "    }\n",
       "</style>\n",
       "<table border=\"1\" class=\"dataframe\">\n",
       "  <thead>\n",
       "    <tr style=\"text-align: right;\">\n",
       "      <th></th>\n",
       "      <th>Administrative</th>\n",
       "      <th>Administrative_Duration</th>\n",
       "      <th>Informational</th>\n",
       "      <th>Informational_Duration</th>\n",
       "      <th>ProductRelated</th>\n",
       "      <th>ProductRelated_Duration</th>\n",
       "      <th>BounceRates</th>\n",
       "      <th>ExitRates</th>\n",
       "      <th>SpecialDay</th>\n",
       "      <th>New_Visitor</th>\n",
       "      <th>Other</th>\n",
       "      <th>Returning_Visitor</th>\n",
       "      <th>MonthNum</th>\n",
       "      <th>Weekend_Num</th>\n",
       "    </tr>\n",
       "  </thead>\n",
       "  <tbody>\n",
       "    <tr>\n",
       "      <th>8471</th>\n",
       "      <td>0.0</td>\n",
       "      <td>0.000000</td>\n",
       "      <td>0.0</td>\n",
       "      <td>0.0</td>\n",
       "      <td>49.0</td>\n",
       "      <td>1385.850000</td>\n",
       "      <td>0.000000</td>\n",
       "      <td>0.013265</td>\n",
       "      <td>0.0</td>\n",
       "      <td>0</td>\n",
       "      <td>0</td>\n",
       "      <td>1</td>\n",
       "      <td>12</td>\n",
       "      <td>0</td>\n",
       "    </tr>\n",
       "    <tr>\n",
       "      <th>5606</th>\n",
       "      <td>2.0</td>\n",
       "      <td>9.600000</td>\n",
       "      <td>3.0</td>\n",
       "      <td>118.1</td>\n",
       "      <td>10.0</td>\n",
       "      <td>184.100000</td>\n",
       "      <td>0.000000</td>\n",
       "      <td>0.035714</td>\n",
       "      <td>0.0</td>\n",
       "      <td>0</td>\n",
       "      <td>0</td>\n",
       "      <td>1</td>\n",
       "      <td>6</td>\n",
       "      <td>0</td>\n",
       "    </tr>\n",
       "    <tr>\n",
       "      <th>1158</th>\n",
       "      <td>0.0</td>\n",
       "      <td>0.000000</td>\n",
       "      <td>0.0</td>\n",
       "      <td>0.0</td>\n",
       "      <td>11.0</td>\n",
       "      <td>315.600000</td>\n",
       "      <td>0.000000</td>\n",
       "      <td>0.018182</td>\n",
       "      <td>0.0</td>\n",
       "      <td>0</td>\n",
       "      <td>0</td>\n",
       "      <td>1</td>\n",
       "      <td>3</td>\n",
       "      <td>1</td>\n",
       "    </tr>\n",
       "    <tr>\n",
       "      <th>5666</th>\n",
       "      <td>0.0</td>\n",
       "      <td>0.000000</td>\n",
       "      <td>1.0</td>\n",
       "      <td>0.0</td>\n",
       "      <td>7.0</td>\n",
       "      <td>1646.200000</td>\n",
       "      <td>0.025000</td>\n",
       "      <td>0.075000</td>\n",
       "      <td>0.0</td>\n",
       "      <td>0</td>\n",
       "      <td>0</td>\n",
       "      <td>1</td>\n",
       "      <td>6</td>\n",
       "      <td>0</td>\n",
       "    </tr>\n",
       "    <tr>\n",
       "      <th>1063</th>\n",
       "      <td>3.0</td>\n",
       "      <td>43.500000</td>\n",
       "      <td>0.0</td>\n",
       "      <td>0.0</td>\n",
       "      <td>30.0</td>\n",
       "      <td>2264.333333</td>\n",
       "      <td>0.000000</td>\n",
       "      <td>0.010417</td>\n",
       "      <td>0.0</td>\n",
       "      <td>0</td>\n",
       "      <td>0</td>\n",
       "      <td>1</td>\n",
       "      <td>3</td>\n",
       "      <td>1</td>\n",
       "    </tr>\n",
       "    <tr>\n",
       "      <th>...</th>\n",
       "      <td>...</td>\n",
       "      <td>...</td>\n",
       "      <td>...</td>\n",
       "      <td>...</td>\n",
       "      <td>...</td>\n",
       "      <td>...</td>\n",
       "      <td>...</td>\n",
       "      <td>...</td>\n",
       "      <td>...</td>\n",
       "      <td>...</td>\n",
       "      <td>...</td>\n",
       "      <td>...</td>\n",
       "      <td>...</td>\n",
       "      <td>...</td>\n",
       "    </tr>\n",
       "    <tr>\n",
       "      <th>5532</th>\n",
       "      <td>5.0</td>\n",
       "      <td>271.000000</td>\n",
       "      <td>2.0</td>\n",
       "      <td>42.2</td>\n",
       "      <td>6.0</td>\n",
       "      <td>147.900000</td>\n",
       "      <td>0.000000</td>\n",
       "      <td>0.036364</td>\n",
       "      <td>0.0</td>\n",
       "      <td>1</td>\n",
       "      <td>0</td>\n",
       "      <td>0</td>\n",
       "      <td>8</td>\n",
       "      <td>1</td>\n",
       "    </tr>\n",
       "    <tr>\n",
       "      <th>11108</th>\n",
       "      <td>8.0</td>\n",
       "      <td>305.666667</td>\n",
       "      <td>1.0</td>\n",
       "      <td>0.0</td>\n",
       "      <td>35.0</td>\n",
       "      <td>796.250000</td>\n",
       "      <td>0.005556</td>\n",
       "      <td>0.011574</td>\n",
       "      <td>0.0</td>\n",
       "      <td>0</td>\n",
       "      <td>0</td>\n",
       "      <td>1</td>\n",
       "      <td>12</td>\n",
       "      <td>0</td>\n",
       "    </tr>\n",
       "    <tr>\n",
       "      <th>3661</th>\n",
       "      <td>0.0</td>\n",
       "      <td>0.000000</td>\n",
       "      <td>0.0</td>\n",
       "      <td>0.0</td>\n",
       "      <td>4.0</td>\n",
       "      <td>123.000000</td>\n",
       "      <td>0.000000</td>\n",
       "      <td>0.066667</td>\n",
       "      <td>0.0</td>\n",
       "      <td>0</td>\n",
       "      <td>0</td>\n",
       "      <td>1</td>\n",
       "      <td>5</td>\n",
       "      <td>0</td>\n",
       "    </tr>\n",
       "    <tr>\n",
       "      <th>9081</th>\n",
       "      <td>1.0</td>\n",
       "      <td>6.000000</td>\n",
       "      <td>0.0</td>\n",
       "      <td>0.0</td>\n",
       "      <td>14.0</td>\n",
       "      <td>1183.000000</td>\n",
       "      <td>0.000000</td>\n",
       "      <td>0.004762</td>\n",
       "      <td>0.0</td>\n",
       "      <td>1</td>\n",
       "      <td>0</td>\n",
       "      <td>0</td>\n",
       "      <td>11</td>\n",
       "      <td>1</td>\n",
       "    </tr>\n",
       "    <tr>\n",
       "      <th>960</th>\n",
       "      <td>0.0</td>\n",
       "      <td>0.000000</td>\n",
       "      <td>0.0</td>\n",
       "      <td>0.0</td>\n",
       "      <td>6.0</td>\n",
       "      <td>53.000000</td>\n",
       "      <td>0.000000</td>\n",
       "      <td>0.060000</td>\n",
       "      <td>0.0</td>\n",
       "      <td>0</td>\n",
       "      <td>0</td>\n",
       "      <td>1</td>\n",
       "      <td>3</td>\n",
       "      <td>1</td>\n",
       "    </tr>\n",
       "  </tbody>\n",
       "</table>\n",
       "<p>9197 rows × 14 columns</p>\n",
       "</div>"
      ],
      "text/plain": [
       "       Administrative  Administrative_Duration  Informational  \\\n",
       "8471              0.0                 0.000000            0.0   \n",
       "5606              2.0                 9.600000            3.0   \n",
       "1158              0.0                 0.000000            0.0   \n",
       "5666              0.0                 0.000000            1.0   \n",
       "1063              3.0                43.500000            0.0   \n",
       "...               ...                      ...            ...   \n",
       "5532              5.0               271.000000            2.0   \n",
       "11108             8.0               305.666667            1.0   \n",
       "3661              0.0                 0.000000            0.0   \n",
       "9081              1.0                 6.000000            0.0   \n",
       "960               0.0                 0.000000            0.0   \n",
       "\n",
       "       Informational_Duration  ProductRelated  ProductRelated_Duration  \\\n",
       "8471                      0.0            49.0              1385.850000   \n",
       "5606                    118.1            10.0               184.100000   \n",
       "1158                      0.0            11.0               315.600000   \n",
       "5666                      0.0             7.0              1646.200000   \n",
       "1063                      0.0            30.0              2264.333333   \n",
       "...                       ...             ...                      ...   \n",
       "5532                     42.2             6.0               147.900000   \n",
       "11108                     0.0            35.0               796.250000   \n",
       "3661                      0.0             4.0               123.000000   \n",
       "9081                      0.0            14.0              1183.000000   \n",
       "960                       0.0             6.0                53.000000   \n",
       "\n",
       "       BounceRates  ExitRates  SpecialDay  New_Visitor  Other  \\\n",
       "8471      0.000000   0.013265         0.0            0      0   \n",
       "5606      0.000000   0.035714         0.0            0      0   \n",
       "1158      0.000000   0.018182         0.0            0      0   \n",
       "5666      0.025000   0.075000         0.0            0      0   \n",
       "1063      0.000000   0.010417         0.0            0      0   \n",
       "...            ...        ...         ...          ...    ...   \n",
       "5532      0.000000   0.036364         0.0            1      0   \n",
       "11108     0.005556   0.011574         0.0            0      0   \n",
       "3661      0.000000   0.066667         0.0            0      0   \n",
       "9081      0.000000   0.004762         0.0            1      0   \n",
       "960       0.000000   0.060000         0.0            0      0   \n",
       "\n",
       "       Returning_Visitor  MonthNum  Weekend_Num  \n",
       "8471                   1        12            0  \n",
       "5606                   1         6            0  \n",
       "1158                   1         3            1  \n",
       "5666                   1         6            0  \n",
       "1063                   1         3            1  \n",
       "...                  ...       ...          ...  \n",
       "5532                   0         8            1  \n",
       "11108                  1        12            0  \n",
       "3661                   1         5            0  \n",
       "9081                   0        11            1  \n",
       "960                    1         3            1  \n",
       "\n",
       "[9197 rows x 14 columns]"
      ]
     },
     "execution_count": 1514,
     "metadata": {},
     "output_type": "execute_result"
    }
   ],
   "source": [
    "X3_train_val"
   ]
  },
  {
   "cell_type": "code",
   "execution_count": 1515,
   "metadata": {},
   "outputs": [],
   "source": [
    "X3_train_scaled = scaler.fit_transform(X3_train_val)"
   ]
  },
  {
   "cell_type": "code",
   "execution_count": 1516,
   "metadata": {
    "scrolled": true
   },
   "outputs": [
    {
     "name": "stdout",
     "output_type": "stream",
     "text": [
      "0.906651605918792\n"
     ]
    }
   ],
   "source": [
    "temp_list = []\n",
    "for train_index, val_index in kf.split(X3_train_val):\n",
    "    \n",
    "    X_train, X_val = X3_train_scaled[train_index], X3_train_scaled[val_index]\n",
    "    y_train, y_val = y_train_val.values[train_index], y_train_val.values[val_index]\n",
    "    \n",
    "    gbm = xgb.XGBClassifier( \n",
    "                       n_estimators=30000,\n",
    "                        max_depth=7,\n",
    "                        objective='binary:logistic', #new objective\n",
    "                        learning_rate=.05, \n",
    "                        subsample=.7,\n",
    "                        min_child_weight=5,\n",
    "                        colsample_bytree=.8\n",
    "                       )\n",
    "\n",
    "\n",
    "    eval_set=[(X_train,y_train),(X_val,y_val)]\n",
    "    gbm.fit( \n",
    "                    X3_train_scaled, y_train_val, \n",
    "                    eval_set=eval_set,\n",
    "                    eval_metric='error', #new evaluation metric: classification error (could also use AUC, e.g.)\n",
    "                    early_stopping_rounds=50,\n",
    "                    verbose=False\n",
    "                   )\n",
    "    \n",
    "    temp_list.append(np.mean(f1_score(y_val, (gbm.predict_proba(X_val, ntree_limit=gbm.best_ntree_limit) >= 0.30).astype(int)[:,1])))\n",
    "    #print(f1_score(y_val, gbm.predict(X_val, ntree_limit=gbm.best_ntree_limit)) )\n",
    "\n",
    "gbm_scores[gbm] = np.mean(temp_list)\n",
    "print(np.mean(temp_list))   "
   ]
  },
  {
   "cell_type": "code",
   "execution_count": 1531,
   "metadata": {},
   "outputs": [
    {
     "name": "stdout",
     "output_type": "stream",
     "text": [
      "0.426948051948052\n"
     ]
    }
   ],
   "source": [
    "X3_test_scaled = scaler.transform(X3_test)\n",
    "\n",
    "test_results = []\n",
    "    \n",
    "gbm = xgb.XGBClassifier( \n",
    "                       n_estimators=30000,\n",
    "                        max_depth=7,\n",
    "                        objective='binary:logistic', #new objective\n",
    "                        learning_rate=.05, \n",
    "                        subsample=.7,\n",
    "                        min_child_weight=5,\n",
    "                        colsample_bytree=.8\n",
    "                       )\n",
    "\n",
    "eval_set=[(X3_train_scaled,y_train_val),(X3_test_scaled,y_test)]\n",
    "gbm.fit( \n",
    "                    X3_train_scaled, y_train_val, \n",
    "                    eval_set=eval_set,\n",
    "                    eval_metric='error', #new evaluation metric: classification error (could also use AUC, e.g.)\n",
    "                    early_stopping_rounds=50,\n",
    "                    verbose=False\n",
    "                   )\n",
    "test_results.append((f1_score(y_test, (gbm.predict_proba(X3_test_scaled, ntree_limit=gbm.best_ntree_limit) >= 0.30).astype(int)[:,1])))\n",
    "#print(f1_score(y_test, gbm.predict(X3_test_scaled, ntree_limit=gbm.best_ntree_limit)) )\n",
    "\n",
    "#gbm_scores[gbm] = np.mean(test_results)\n",
    "print(np.mean(test_results))   "
   ]
  },
  {
   "cell_type": "code",
   "execution_count": 1518,
   "metadata": {},
   "outputs": [
    {
     "data": {
      "text/plain": [
       "<sklearn.metrics._plot.confusion_matrix.ConfusionMatrixDisplay at 0x7fd34d26bf10>"
      ]
     },
     "execution_count": 1518,
     "metadata": {},
     "output_type": "execute_result"
    },
    {
     "data": {
      "image/png": "[encoded data removed]",
      "text/plain": [
       "<Figure size 432x288 with 2 Axes>"
      ]
     },
     "metadata": {
      "needs_background": "light"
     },
     "output_type": "display_data"
    }
   ],
   "source": [
    "plot_confusion_matrix(gbm.fit(X3_train_scaled, y_train_val), X3_test_scaled, y_test, cmap = plt.cm.Blues)"
   ]
  },
  {
   "cell_type": "code",
   "execution_count": 1519,
   "metadata": {},
   "outputs": [
    {
     "data": {
      "image/png": "[encoded data removed]",
      "text/plain": [
       "<Figure size 432x288 with 1 Axes>"
      ]
     },
     "metadata": {
      "needs_background": "light"
     },
     "output_type": "display_data"
    }
   ],
   "source": [
    "xgb.plot_importance(gbm, importance_type='gain', show_values=False);"
   ]
  }
 ],
 "metadata": {
  "kernelspec": {
   "display_name": "Python 3",
   "language": "python",
   "name": "python3"
  },
  "language_info": {
   "codemirror_mode": {
    "name": "ipython",
    "version": 3
   },
   "file_extension": ".py",
   "mimetype": "text/x-python",
   "name": "python",
   "nbconvert_exporter": "python",
   "pygments_lexer": "ipython3",
   "version": "3.7.6"
  }
 },
 "nbformat": 4,
 "nbformat_minor": 4
}
